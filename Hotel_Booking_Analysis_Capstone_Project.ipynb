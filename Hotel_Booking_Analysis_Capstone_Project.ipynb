{
  "nbformat": 4,
  "nbformat_minor": 0,
  "metadata": {
    "kernelspec": {
      "display_name": "Python 3",
      "language": "python",
      "name": "python3"
    },
    "language_info": {
      "codemirror_mode": {
        "name": "ipython",
        "version": 3
      },
      "file_extension": ".py",
      "mimetype": "text/x-python",
      "name": "python",
      "nbconvert_exporter": "python",
      "pygments_lexer": "ipython3",
      "version": "3.6.6"
    },
    "colab": {
      "name": "Hotel Booking Analysis - Capstone Project.ipynb",
      "provenance": [],
      "include_colab_link": true
    }
  },
  "cells": [
    {
      "cell_type": "markdown",
      "metadata": {
        "id": "view-in-github",
        "colab_type": "text"
      },
      "source": [
        "<a href=\"https://colab.research.google.com/github/SaiMeghanaGoud/EDA-capstone-project/blob/main/Hotel_Booking_Analysis_Capstone_Project.ipynb\" target=\"_parent\"><img src=\"https://colab.research.google.com/assets/colab-badge.svg\" alt=\"Open In Colab\"/></a>"
      ]
    },
    {
      "cell_type": "markdown",
      "metadata": {
        "id": "Y06xIdG26kRF"
      },
      "source": [
        "## <b> Have you ever wondered when the best time of year to book a hotel room is? Or the optimal length of stay in order to get the best daily rate? What if you wanted to predict whether or not a hotel was likely to receive a disproportionately high number of special requests? This hotel booking dataset can help you explore those questions!\n",
        "\n",
        "## <b>This data set contains booking information for a city hotel and a resort hotel, and includes information such as when the booking was made, length of stay, the number of adults, children, and/or babies, and the number of available parking spaces, among other things. All personally identifying information has been removed from the data. </b>\n",
        "\n",
        "## <b> Explore and analyze the data to discover important factors that govern the bookings. </b>"
      ]
    },
    {
      "cell_type": "markdown",
      "metadata": {
        "id": "EwZLaH_jqckQ"
      },
      "source": [
        "**WHAT IS EXPLORATORY DATA ANALYSIS**\n",
        "A data exploration technique to understand the various aspects of the data and make conclusions about the given data.\n",
        "\n",
        "**LET'S HAVE LOOK ON SOME OBJECTIVES OF EDA**\n",
        "\n",
        "*  Filter the data from redundancies\n",
        "* Build relationships between the variables\n",
        "\n",
        "**STEPS INVOLVED IN EDA**\n",
        "*   Understand the data\n",
        "*   Clean the data\n",
        "*   Analyssis of relationship between the variables\n",
        "\n",
        "\n",
        "\n",
        "\n",
        "\n",
        "\n",
        "\n"
      ]
    },
    {
      "cell_type": "markdown",
      "metadata": {
        "id": "8CLBRfpcxRld"
      },
      "source": [
        "**Vacation a single word is enough for the excitement we need**\n",
        "\n",
        "Who doesn't want to explore new places and get experianced about coolest things in our world. Our vacation and exploring new places is straight forward business to some industries. The industry that is closely related is **'Hotel Industry'**. These hotel industry closely depends on travellers. \n",
        "\n",
        "The cost of booking a hotel varies accounding to many facilities it provides and on the rating of the hotel.\n",
        "\n",
        "What if we could guess or be familiar with best time to book hotel at cheapest rates??\n",
        "\n",
        "What if hoteliers coluld guess when the demands for their hotels are likely to increase and when the demands would be low??? They could optimize their funds so much better.\n",
        "\n",
        "Let's dive into this data to see how many questions can we answer."
      ]
    },
    {
      "cell_type": "markdown",
      "metadata": {
        "id": "RNH_ecJSzkEt"
      },
      "source": [
        "**Let's Import our data set**"
      ]
    },
    {
      "cell_type": "code",
      "metadata": {
        "id": "dByMsuzT8Tnw"
      },
      "source": [
        "import pandas as pd\n",
        "import numpy as np\n",
        "import matplotlib.pyplot as plt\n",
        "import seaborn as sns"
      ],
      "execution_count": 2,
      "outputs": []
    },
    {
      "cell_type": "code",
      "metadata": {
        "colab": {
          "base_uri": "https://localhost:8080/"
        },
        "id": "15MQbDx2z9vO",
        "outputId": "e0481138-2b85-4117-fbe2-c6131c0e5a13"
      },
      "source": [
        "from google.colab import drive\n",
        "drive.mount('/content/drive')"
      ],
      "execution_count": 3,
      "outputs": [
        {
          "output_type": "stream",
          "name": "stdout",
          "text": [
            "Mounted at /content/drive\n"
          ]
        }
      ]
    },
    {
      "cell_type": "code",
      "metadata": {
        "id": "0TMkbHqI0QUC"
      },
      "source": [
        "df = pd.read_csv(\"/content/drive/MyDrive/almabetter/Untitled folder/Eda capstone project/Copy of Hotel Bookings.csv\")"
      ],
      "execution_count": 4,
      "outputs": []
    },
    {
      "cell_type": "code",
      "metadata": {
        "colab": {
          "base_uri": "https://localhost:8080/",
          "height": 308
        },
        "id": "tOZgUAIC0b2v",
        "outputId": "da9daf33-05d1-49e1-def6-9b1661b6a6f8"
      },
      "source": [
        "df.head()"
      ],
      "execution_count": 5,
      "outputs": [
        {
          "output_type": "execute_result",
          "data": {
            "text/html": [
              "<div>\n",
              "<style scoped>\n",
              "    .dataframe tbody tr th:only-of-type {\n",
              "        vertical-align: middle;\n",
              "    }\n",
              "\n",
              "    .dataframe tbody tr th {\n",
              "        vertical-align: top;\n",
              "    }\n",
              "\n",
              "    .dataframe thead th {\n",
              "        text-align: right;\n",
              "    }\n",
              "</style>\n",
              "<table border=\"1\" class=\"dataframe\">\n",
              "  <thead>\n",
              "    <tr style=\"text-align: right;\">\n",
              "      <th></th>\n",
              "      <th>hotel</th>\n",
              "      <th>is_canceled</th>\n",
              "      <th>lead_time</th>\n",
              "      <th>arrival_date_year</th>\n",
              "      <th>arrival_date_month</th>\n",
              "      <th>arrival_date_week_number</th>\n",
              "      <th>arrival_date_day_of_month</th>\n",
              "      <th>stays_in_weekend_nights</th>\n",
              "      <th>stays_in_week_nights</th>\n",
              "      <th>adults</th>\n",
              "      <th>children</th>\n",
              "      <th>babies</th>\n",
              "      <th>meal</th>\n",
              "      <th>country</th>\n",
              "      <th>market_segment</th>\n",
              "      <th>distribution_channel</th>\n",
              "      <th>is_repeated_guest</th>\n",
              "      <th>previous_cancellations</th>\n",
              "      <th>previous_bookings_not_canceled</th>\n",
              "      <th>reserved_room_type</th>\n",
              "      <th>assigned_room_type</th>\n",
              "      <th>booking_changes</th>\n",
              "      <th>deposit_type</th>\n",
              "      <th>agent</th>\n",
              "      <th>company</th>\n",
              "      <th>days_in_waiting_list</th>\n",
              "      <th>customer_type</th>\n",
              "      <th>adr</th>\n",
              "      <th>required_car_parking_spaces</th>\n",
              "      <th>total_of_special_requests</th>\n",
              "      <th>reservation_status</th>\n",
              "      <th>reservation_status_date</th>\n",
              "    </tr>\n",
              "  </thead>\n",
              "  <tbody>\n",
              "    <tr>\n",
              "      <th>0</th>\n",
              "      <td>Resort Hotel</td>\n",
              "      <td>0</td>\n",
              "      <td>342</td>\n",
              "      <td>2015</td>\n",
              "      <td>July</td>\n",
              "      <td>27</td>\n",
              "      <td>1</td>\n",
              "      <td>0</td>\n",
              "      <td>0</td>\n",
              "      <td>2</td>\n",
              "      <td>0.0</td>\n",
              "      <td>0</td>\n",
              "      <td>BB</td>\n",
              "      <td>PRT</td>\n",
              "      <td>Direct</td>\n",
              "      <td>Direct</td>\n",
              "      <td>0</td>\n",
              "      <td>0</td>\n",
              "      <td>0</td>\n",
              "      <td>C</td>\n",
              "      <td>C</td>\n",
              "      <td>3</td>\n",
              "      <td>No Deposit</td>\n",
              "      <td>NaN</td>\n",
              "      <td>NaN</td>\n",
              "      <td>0</td>\n",
              "      <td>Transient</td>\n",
              "      <td>0.0</td>\n",
              "      <td>0</td>\n",
              "      <td>0</td>\n",
              "      <td>Check-Out</td>\n",
              "      <td>2015-07-01</td>\n",
              "    </tr>\n",
              "    <tr>\n",
              "      <th>1</th>\n",
              "      <td>Resort Hotel</td>\n",
              "      <td>0</td>\n",
              "      <td>737</td>\n",
              "      <td>2015</td>\n",
              "      <td>July</td>\n",
              "      <td>27</td>\n",
              "      <td>1</td>\n",
              "      <td>0</td>\n",
              "      <td>0</td>\n",
              "      <td>2</td>\n",
              "      <td>0.0</td>\n",
              "      <td>0</td>\n",
              "      <td>BB</td>\n",
              "      <td>PRT</td>\n",
              "      <td>Direct</td>\n",
              "      <td>Direct</td>\n",
              "      <td>0</td>\n",
              "      <td>0</td>\n",
              "      <td>0</td>\n",
              "      <td>C</td>\n",
              "      <td>C</td>\n",
              "      <td>4</td>\n",
              "      <td>No Deposit</td>\n",
              "      <td>NaN</td>\n",
              "      <td>NaN</td>\n",
              "      <td>0</td>\n",
              "      <td>Transient</td>\n",
              "      <td>0.0</td>\n",
              "      <td>0</td>\n",
              "      <td>0</td>\n",
              "      <td>Check-Out</td>\n",
              "      <td>2015-07-01</td>\n",
              "    </tr>\n",
              "    <tr>\n",
              "      <th>2</th>\n",
              "      <td>Resort Hotel</td>\n",
              "      <td>0</td>\n",
              "      <td>7</td>\n",
              "      <td>2015</td>\n",
              "      <td>July</td>\n",
              "      <td>27</td>\n",
              "      <td>1</td>\n",
              "      <td>0</td>\n",
              "      <td>1</td>\n",
              "      <td>1</td>\n",
              "      <td>0.0</td>\n",
              "      <td>0</td>\n",
              "      <td>BB</td>\n",
              "      <td>GBR</td>\n",
              "      <td>Direct</td>\n",
              "      <td>Direct</td>\n",
              "      <td>0</td>\n",
              "      <td>0</td>\n",
              "      <td>0</td>\n",
              "      <td>A</td>\n",
              "      <td>C</td>\n",
              "      <td>0</td>\n",
              "      <td>No Deposit</td>\n",
              "      <td>NaN</td>\n",
              "      <td>NaN</td>\n",
              "      <td>0</td>\n",
              "      <td>Transient</td>\n",
              "      <td>75.0</td>\n",
              "      <td>0</td>\n",
              "      <td>0</td>\n",
              "      <td>Check-Out</td>\n",
              "      <td>2015-07-02</td>\n",
              "    </tr>\n",
              "    <tr>\n",
              "      <th>3</th>\n",
              "      <td>Resort Hotel</td>\n",
              "      <td>0</td>\n",
              "      <td>13</td>\n",
              "      <td>2015</td>\n",
              "      <td>July</td>\n",
              "      <td>27</td>\n",
              "      <td>1</td>\n",
              "      <td>0</td>\n",
              "      <td>1</td>\n",
              "      <td>1</td>\n",
              "      <td>0.0</td>\n",
              "      <td>0</td>\n",
              "      <td>BB</td>\n",
              "      <td>GBR</td>\n",
              "      <td>Corporate</td>\n",
              "      <td>Corporate</td>\n",
              "      <td>0</td>\n",
              "      <td>0</td>\n",
              "      <td>0</td>\n",
              "      <td>A</td>\n",
              "      <td>A</td>\n",
              "      <td>0</td>\n",
              "      <td>No Deposit</td>\n",
              "      <td>304.0</td>\n",
              "      <td>NaN</td>\n",
              "      <td>0</td>\n",
              "      <td>Transient</td>\n",
              "      <td>75.0</td>\n",
              "      <td>0</td>\n",
              "      <td>0</td>\n",
              "      <td>Check-Out</td>\n",
              "      <td>2015-07-02</td>\n",
              "    </tr>\n",
              "    <tr>\n",
              "      <th>4</th>\n",
              "      <td>Resort Hotel</td>\n",
              "      <td>0</td>\n",
              "      <td>14</td>\n",
              "      <td>2015</td>\n",
              "      <td>July</td>\n",
              "      <td>27</td>\n",
              "      <td>1</td>\n",
              "      <td>0</td>\n",
              "      <td>2</td>\n",
              "      <td>2</td>\n",
              "      <td>0.0</td>\n",
              "      <td>0</td>\n",
              "      <td>BB</td>\n",
              "      <td>GBR</td>\n",
              "      <td>Online TA</td>\n",
              "      <td>TA/TO</td>\n",
              "      <td>0</td>\n",
              "      <td>0</td>\n",
              "      <td>0</td>\n",
              "      <td>A</td>\n",
              "      <td>A</td>\n",
              "      <td>0</td>\n",
              "      <td>No Deposit</td>\n",
              "      <td>240.0</td>\n",
              "      <td>NaN</td>\n",
              "      <td>0</td>\n",
              "      <td>Transient</td>\n",
              "      <td>98.0</td>\n",
              "      <td>0</td>\n",
              "      <td>1</td>\n",
              "      <td>Check-Out</td>\n",
              "      <td>2015-07-03</td>\n",
              "    </tr>\n",
              "  </tbody>\n",
              "</table>\n",
              "</div>"
            ],
            "text/plain": [
              "          hotel  is_canceled  ...  reservation_status  reservation_status_date\n",
              "0  Resort Hotel            0  ...           Check-Out               2015-07-01\n",
              "1  Resort Hotel            0  ...           Check-Out               2015-07-01\n",
              "2  Resort Hotel            0  ...           Check-Out               2015-07-02\n",
              "3  Resort Hotel            0  ...           Check-Out               2015-07-02\n",
              "4  Resort Hotel            0  ...           Check-Out               2015-07-03\n",
              "\n",
              "[5 rows x 32 columns]"
            ]
          },
          "metadata": {},
          "execution_count": 5
        }
      ]
    },
    {
      "cell_type": "markdown",
      "metadata": {
        "id": "hU_iQ3vd0qwt"
      },
      "source": [
        "Our dataset has a good collection of information.\n",
        "\n",
        "Let's go deeper into our data\n"
      ]
    },
    {
      "cell_type": "code",
      "metadata": {
        "colab": {
          "base_uri": "https://localhost:8080/"
        },
        "id": "NfBxheeo05c6",
        "outputId": "5688dab7-49c6-4b4e-8ec0-68861563238d"
      },
      "source": [
        "df.columns"
      ],
      "execution_count": 6,
      "outputs": [
        {
          "output_type": "execute_result",
          "data": {
            "text/plain": [
              "Index(['hotel', 'is_canceled', 'lead_time', 'arrival_date_year',\n",
              "       'arrival_date_month', 'arrival_date_week_number',\n",
              "       'arrival_date_day_of_month', 'stays_in_weekend_nights',\n",
              "       'stays_in_week_nights', 'adults', 'children', 'babies', 'meal',\n",
              "       'country', 'market_segment', 'distribution_channel',\n",
              "       'is_repeated_guest', 'previous_cancellations',\n",
              "       'previous_bookings_not_canceled', 'reserved_room_type',\n",
              "       'assigned_room_type', 'booking_changes', 'deposit_type', 'agent',\n",
              "       'company', 'days_in_waiting_list', 'customer_type', 'adr',\n",
              "       'required_car_parking_spaces', 'total_of_special_requests',\n",
              "       'reservation_status', 'reservation_status_date'],\n",
              "      dtype='object')"
            ]
          },
          "metadata": {},
          "execution_count": 6
        }
      ]
    },
    {
      "cell_type": "code",
      "metadata": {
        "colab": {
          "base_uri": "https://localhost:8080/"
        },
        "id": "zZeTdGhA09DJ",
        "outputId": "6581c8ef-8212-428e-e460-71f0c077ecf0"
      },
      "source": [
        "# Let's check shape of our dataset\n",
        "df.shape"
      ],
      "execution_count": 7,
      "outputs": [
        {
          "output_type": "execute_result",
          "data": {
            "text/plain": [
              "(119390, 32)"
            ]
          },
          "metadata": {},
          "execution_count": 7
        }
      ]
    },
    {
      "cell_type": "code",
      "metadata": {
        "colab": {
          "base_uri": "https://localhost:8080/"
        },
        "id": "8ghck3Xp1Mfe",
        "outputId": "a1017fd4-c255-4ed4-9943-d502d61f93fd"
      },
      "source": [
        "# Let's Check datatype of each column\n",
        "df.dtypes"
      ],
      "execution_count": 8,
      "outputs": [
        {
          "output_type": "execute_result",
          "data": {
            "text/plain": [
              "hotel                              object\n",
              "is_canceled                         int64\n",
              "lead_time                           int64\n",
              "arrival_date_year                   int64\n",
              "arrival_date_month                 object\n",
              "arrival_date_week_number            int64\n",
              "arrival_date_day_of_month           int64\n",
              "stays_in_weekend_nights             int64\n",
              "stays_in_week_nights                int64\n",
              "adults                              int64\n",
              "children                          float64\n",
              "babies                              int64\n",
              "meal                               object\n",
              "country                            object\n",
              "market_segment                     object\n",
              "distribution_channel               object\n",
              "is_repeated_guest                   int64\n",
              "previous_cancellations              int64\n",
              "previous_bookings_not_canceled      int64\n",
              "reserved_room_type                 object\n",
              "assigned_room_type                 object\n",
              "booking_changes                     int64\n",
              "deposit_type                       object\n",
              "agent                             float64\n",
              "company                           float64\n",
              "days_in_waiting_list                int64\n",
              "customer_type                      object\n",
              "adr                               float64\n",
              "required_car_parking_spaces         int64\n",
              "total_of_special_requests           int64\n",
              "reservation_status                 object\n",
              "reservation_status_date            object\n",
              "dtype: object"
            ]
          },
          "metadata": {},
          "execution_count": 8
        }
      ]
    },
    {
      "cell_type": "code",
      "metadata": {
        "colab": {
          "base_uri": "https://localhost:8080/"
        },
        "id": "FyELQVaQ1nKI",
        "outputId": "6b1dee28-d32b-4a5f-c0f6-3d3089dd1579"
      },
      "source": [
        "# Let's have some technical info\n",
        "df.info()"
      ],
      "execution_count": 9,
      "outputs": [
        {
          "output_type": "stream",
          "name": "stdout",
          "text": [
            "<class 'pandas.core.frame.DataFrame'>\n",
            "RangeIndex: 119390 entries, 0 to 119389\n",
            "Data columns (total 32 columns):\n",
            " #   Column                          Non-Null Count   Dtype  \n",
            "---  ------                          --------------   -----  \n",
            " 0   hotel                           119390 non-null  object \n",
            " 1   is_canceled                     119390 non-null  int64  \n",
            " 2   lead_time                       119390 non-null  int64  \n",
            " 3   arrival_date_year               119390 non-null  int64  \n",
            " 4   arrival_date_month              119390 non-null  object \n",
            " 5   arrival_date_week_number        119390 non-null  int64  \n",
            " 6   arrival_date_day_of_month       119390 non-null  int64  \n",
            " 7   stays_in_weekend_nights         119390 non-null  int64  \n",
            " 8   stays_in_week_nights            119390 non-null  int64  \n",
            " 9   adults                          119390 non-null  int64  \n",
            " 10  children                        119386 non-null  float64\n",
            " 11  babies                          119390 non-null  int64  \n",
            " 12  meal                            119390 non-null  object \n",
            " 13  country                         118902 non-null  object \n",
            " 14  market_segment                  119390 non-null  object \n",
            " 15  distribution_channel            119390 non-null  object \n",
            " 16  is_repeated_guest               119390 non-null  int64  \n",
            " 17  previous_cancellations          119390 non-null  int64  \n",
            " 18  previous_bookings_not_canceled  119390 non-null  int64  \n",
            " 19  reserved_room_type              119390 non-null  object \n",
            " 20  assigned_room_type              119390 non-null  object \n",
            " 21  booking_changes                 119390 non-null  int64  \n",
            " 22  deposit_type                    119390 non-null  object \n",
            " 23  agent                           103050 non-null  float64\n",
            " 24  company                         6797 non-null    float64\n",
            " 25  days_in_waiting_list            119390 non-null  int64  \n",
            " 26  customer_type                   119390 non-null  object \n",
            " 27  adr                             119390 non-null  float64\n",
            " 28  required_car_parking_spaces     119390 non-null  int64  \n",
            " 29  total_of_special_requests       119390 non-null  int64  \n",
            " 30  reservation_status              119390 non-null  object \n",
            " 31  reservation_status_date         119390 non-null  object \n",
            "dtypes: float64(4), int64(16), object(12)\n",
            "memory usage: 29.1+ MB\n"
          ]
        }
      ]
    },
    {
      "cell_type": "code",
      "metadata": {
        "colab": {
          "base_uri": "https://localhost:8080/",
          "height": 317
        },
        "id": "y3vx7r8E12UP",
        "outputId": "164acecd-ed4f-4566-a5aa-7cbbbc38d69b"
      },
      "source": [
        "# Let's have some mathematical summary\n",
        "df.describe()"
      ],
      "execution_count": 10,
      "outputs": [
        {
          "output_type": "execute_result",
          "data": {
            "text/html": [
              "<div>\n",
              "<style scoped>\n",
              "    .dataframe tbody tr th:only-of-type {\n",
              "        vertical-align: middle;\n",
              "    }\n",
              "\n",
              "    .dataframe tbody tr th {\n",
              "        vertical-align: top;\n",
              "    }\n",
              "\n",
              "    .dataframe thead th {\n",
              "        text-align: right;\n",
              "    }\n",
              "</style>\n",
              "<table border=\"1\" class=\"dataframe\">\n",
              "  <thead>\n",
              "    <tr style=\"text-align: right;\">\n",
              "      <th></th>\n",
              "      <th>is_canceled</th>\n",
              "      <th>lead_time</th>\n",
              "      <th>arrival_date_year</th>\n",
              "      <th>arrival_date_week_number</th>\n",
              "      <th>arrival_date_day_of_month</th>\n",
              "      <th>stays_in_weekend_nights</th>\n",
              "      <th>stays_in_week_nights</th>\n",
              "      <th>adults</th>\n",
              "      <th>children</th>\n",
              "      <th>babies</th>\n",
              "      <th>is_repeated_guest</th>\n",
              "      <th>previous_cancellations</th>\n",
              "      <th>previous_bookings_not_canceled</th>\n",
              "      <th>booking_changes</th>\n",
              "      <th>agent</th>\n",
              "      <th>company</th>\n",
              "      <th>days_in_waiting_list</th>\n",
              "      <th>adr</th>\n",
              "      <th>required_car_parking_spaces</th>\n",
              "      <th>total_of_special_requests</th>\n",
              "    </tr>\n",
              "  </thead>\n",
              "  <tbody>\n",
              "    <tr>\n",
              "      <th>count</th>\n",
              "      <td>119390.000000</td>\n",
              "      <td>119390.000000</td>\n",
              "      <td>119390.000000</td>\n",
              "      <td>119390.000000</td>\n",
              "      <td>119390.000000</td>\n",
              "      <td>119390.000000</td>\n",
              "      <td>119390.000000</td>\n",
              "      <td>119390.000000</td>\n",
              "      <td>119386.000000</td>\n",
              "      <td>119390.000000</td>\n",
              "      <td>119390.000000</td>\n",
              "      <td>119390.000000</td>\n",
              "      <td>119390.000000</td>\n",
              "      <td>119390.000000</td>\n",
              "      <td>103050.000000</td>\n",
              "      <td>6797.000000</td>\n",
              "      <td>119390.000000</td>\n",
              "      <td>119390.000000</td>\n",
              "      <td>119390.000000</td>\n",
              "      <td>119390.000000</td>\n",
              "    </tr>\n",
              "    <tr>\n",
              "      <th>mean</th>\n",
              "      <td>0.370416</td>\n",
              "      <td>104.011416</td>\n",
              "      <td>2016.156554</td>\n",
              "      <td>27.165173</td>\n",
              "      <td>15.798241</td>\n",
              "      <td>0.927599</td>\n",
              "      <td>2.500302</td>\n",
              "      <td>1.856403</td>\n",
              "      <td>0.103890</td>\n",
              "      <td>0.007949</td>\n",
              "      <td>0.031912</td>\n",
              "      <td>0.087118</td>\n",
              "      <td>0.137097</td>\n",
              "      <td>0.221124</td>\n",
              "      <td>86.693382</td>\n",
              "      <td>189.266735</td>\n",
              "      <td>2.321149</td>\n",
              "      <td>101.831122</td>\n",
              "      <td>0.062518</td>\n",
              "      <td>0.571363</td>\n",
              "    </tr>\n",
              "    <tr>\n",
              "      <th>std</th>\n",
              "      <td>0.482918</td>\n",
              "      <td>106.863097</td>\n",
              "      <td>0.707476</td>\n",
              "      <td>13.605138</td>\n",
              "      <td>8.780829</td>\n",
              "      <td>0.998613</td>\n",
              "      <td>1.908286</td>\n",
              "      <td>0.579261</td>\n",
              "      <td>0.398561</td>\n",
              "      <td>0.097436</td>\n",
              "      <td>0.175767</td>\n",
              "      <td>0.844336</td>\n",
              "      <td>1.497437</td>\n",
              "      <td>0.652306</td>\n",
              "      <td>110.774548</td>\n",
              "      <td>131.655015</td>\n",
              "      <td>17.594721</td>\n",
              "      <td>50.535790</td>\n",
              "      <td>0.245291</td>\n",
              "      <td>0.792798</td>\n",
              "    </tr>\n",
              "    <tr>\n",
              "      <th>min</th>\n",
              "      <td>0.000000</td>\n",
              "      <td>0.000000</td>\n",
              "      <td>2015.000000</td>\n",
              "      <td>1.000000</td>\n",
              "      <td>1.000000</td>\n",
              "      <td>0.000000</td>\n",
              "      <td>0.000000</td>\n",
              "      <td>0.000000</td>\n",
              "      <td>0.000000</td>\n",
              "      <td>0.000000</td>\n",
              "      <td>0.000000</td>\n",
              "      <td>0.000000</td>\n",
              "      <td>0.000000</td>\n",
              "      <td>0.000000</td>\n",
              "      <td>1.000000</td>\n",
              "      <td>6.000000</td>\n",
              "      <td>0.000000</td>\n",
              "      <td>-6.380000</td>\n",
              "      <td>0.000000</td>\n",
              "      <td>0.000000</td>\n",
              "    </tr>\n",
              "    <tr>\n",
              "      <th>25%</th>\n",
              "      <td>0.000000</td>\n",
              "      <td>18.000000</td>\n",
              "      <td>2016.000000</td>\n",
              "      <td>16.000000</td>\n",
              "      <td>8.000000</td>\n",
              "      <td>0.000000</td>\n",
              "      <td>1.000000</td>\n",
              "      <td>2.000000</td>\n",
              "      <td>0.000000</td>\n",
              "      <td>0.000000</td>\n",
              "      <td>0.000000</td>\n",
              "      <td>0.000000</td>\n",
              "      <td>0.000000</td>\n",
              "      <td>0.000000</td>\n",
              "      <td>9.000000</td>\n",
              "      <td>62.000000</td>\n",
              "      <td>0.000000</td>\n",
              "      <td>69.290000</td>\n",
              "      <td>0.000000</td>\n",
              "      <td>0.000000</td>\n",
              "    </tr>\n",
              "    <tr>\n",
              "      <th>50%</th>\n",
              "      <td>0.000000</td>\n",
              "      <td>69.000000</td>\n",
              "      <td>2016.000000</td>\n",
              "      <td>28.000000</td>\n",
              "      <td>16.000000</td>\n",
              "      <td>1.000000</td>\n",
              "      <td>2.000000</td>\n",
              "      <td>2.000000</td>\n",
              "      <td>0.000000</td>\n",
              "      <td>0.000000</td>\n",
              "      <td>0.000000</td>\n",
              "      <td>0.000000</td>\n",
              "      <td>0.000000</td>\n",
              "      <td>0.000000</td>\n",
              "      <td>14.000000</td>\n",
              "      <td>179.000000</td>\n",
              "      <td>0.000000</td>\n",
              "      <td>94.575000</td>\n",
              "      <td>0.000000</td>\n",
              "      <td>0.000000</td>\n",
              "    </tr>\n",
              "    <tr>\n",
              "      <th>75%</th>\n",
              "      <td>1.000000</td>\n",
              "      <td>160.000000</td>\n",
              "      <td>2017.000000</td>\n",
              "      <td>38.000000</td>\n",
              "      <td>23.000000</td>\n",
              "      <td>2.000000</td>\n",
              "      <td>3.000000</td>\n",
              "      <td>2.000000</td>\n",
              "      <td>0.000000</td>\n",
              "      <td>0.000000</td>\n",
              "      <td>0.000000</td>\n",
              "      <td>0.000000</td>\n",
              "      <td>0.000000</td>\n",
              "      <td>0.000000</td>\n",
              "      <td>229.000000</td>\n",
              "      <td>270.000000</td>\n",
              "      <td>0.000000</td>\n",
              "      <td>126.000000</td>\n",
              "      <td>0.000000</td>\n",
              "      <td>1.000000</td>\n",
              "    </tr>\n",
              "    <tr>\n",
              "      <th>max</th>\n",
              "      <td>1.000000</td>\n",
              "      <td>737.000000</td>\n",
              "      <td>2017.000000</td>\n",
              "      <td>53.000000</td>\n",
              "      <td>31.000000</td>\n",
              "      <td>19.000000</td>\n",
              "      <td>50.000000</td>\n",
              "      <td>55.000000</td>\n",
              "      <td>10.000000</td>\n",
              "      <td>10.000000</td>\n",
              "      <td>1.000000</td>\n",
              "      <td>26.000000</td>\n",
              "      <td>72.000000</td>\n",
              "      <td>21.000000</td>\n",
              "      <td>535.000000</td>\n",
              "      <td>543.000000</td>\n",
              "      <td>391.000000</td>\n",
              "      <td>5400.000000</td>\n",
              "      <td>8.000000</td>\n",
              "      <td>5.000000</td>\n",
              "    </tr>\n",
              "  </tbody>\n",
              "</table>\n",
              "</div>"
            ],
            "text/plain": [
              "         is_canceled  ...  total_of_special_requests\n",
              "count  119390.000000  ...              119390.000000\n",
              "mean        0.370416  ...                   0.571363\n",
              "std         0.482918  ...                   0.792798\n",
              "min         0.000000  ...                   0.000000\n",
              "25%         0.000000  ...                   0.000000\n",
              "50%         0.000000  ...                   0.000000\n",
              "75%         1.000000  ...                   1.000000\n",
              "max         1.000000  ...                   5.000000\n",
              "\n",
              "[8 rows x 20 columns]"
            ]
          },
          "metadata": {},
          "execution_count": 10
        }
      ]
    },
    {
      "cell_type": "markdown",
      "metadata": {
        "id": "wJzT4ZLp2IYL"
      },
      "source": [
        "**Let's have a look on each of the variable and what it conveys**\n",
        "\n",
        "1. Hotel - This contains the type of Hotel, 'City' or 'Resort'. The type of hotel is expeccted to be a major determinant of price. Moreover, probability of cancellation of booking is expected to be higher in 'City Hotel' as compared to a 'Resort' because 'Resort' bookings are generally planned holidays, which a person is highly unlikely to cancel except for urgent and un-foreseen circumstances.\n",
        "\n",
        "2. is_cancelled - This contains the data regarding, whether or not a booking was cancelled. This is more like a dependent variable that needs to be predicted. However, the purview of current Project doesnot include Predictions\n",
        "\n",
        "3. lead_time - It is not very clear what this column depicts\n",
        "\n",
        "4. arrival_date_year - Year of visit. In normal circumstances, tourism industry has a business cycle of 1 year, i.e., trend of tourists may vary within an year, but the cycle resets every year. The number of tourists is expected to gradually increase over the years\n",
        "\n",
        "5. arrival_date_month - Month of visit. Every place has a peak season. The demand for hotels is expected to be high in the months when the weather is favourable. And low in the months when the weather is not favourable.\n",
        "\n",
        "6. arrival_date_week_number - Week of the year when the tourist had visited. This is redundant data as month and date are already given. After analysing this column, it may be dropped.\n",
        "\n",
        "7. arrival_date_day_of_month - The date on which the traveller had travelled. This may or may not have relevance. However, it is safe to assume that people may go on a trip in the beginning of the month when they have received their salaries.\n",
        "\n",
        "8. stays_in_weekend_nights - Number of weekend nights stayed. People are expected to prefer weekends over weekdays for a trip.\n",
        "\n",
        "9. stays_in_week_nights - Number of weekday nights stayed. People are expected to NOT prefer weekdays for a trip.\n",
        "\n",
        "10. adults - Number of adults saying. Single adult is expected to be on a business trip. 2 or more adults in a room are most likely friends or families.\n",
        "\n",
        "11. childern - Number of children staying. A room booked with children is definitely a family trip.\n",
        "\n",
        "12. babies - Segregation between children and babies is not given. If the column will be highly imbalanced, it will be safe to delete it.\n",
        "\n",
        "13. meal - Meal booked or not-booked is not expected to have an impact on cancellation. However, it may define the type of visit the person is planning. No-breakfast may mean that th eperson is planning an early morning extrusion. Breakfast plan may mean a normal touristy plan. Whereas, all meals indicate that the person is planning a peaceful stay at the hotel and the hotel can treat the person accordingly.\n",
        "\n",
        "14. country - It is not very clear whether it is talking about the country of hotel or country of the traveller. We may assume thta the column represents country of the hotel. And needless to say, country determines the price of a hotel.\n",
        "\n",
        "15. market_segment - It is not very explicit, but market segment may include the kind of traveller. Deeper study of the column may reveal new facts\n",
        "\n",
        "16. distribution_channel - It is not very explicit, but distribution channel may include the source of booking. Deeper study of the column may reveal new facts\n",
        "\n",
        "17. is_repeated_guest - A repeated guest deserves better treatment and more offers. He is also likely to recommend the hotel to other people. Hence, this person is like a paying advertisement for the hotel and definitely deserves better treatment than the other travellers\n",
        "\n",
        "18. previous_cancellations - A person who has cancelled booking in the past has higher chances of cancelling this time as well.\n",
        "\n",
        "19. previous_bookings_not_canceled - There seems to be multi-collinearity here. is_repeated_guest and this column seems to be depicting the same thing. We will explore more and decide whether to keep this column or not.\n",
        "\n",
        "20. reserved_room_type - The room type is a key indicator of price. While suggesting rooms to a traveler, the budget can be ascertained before offering him a room.\n",
        "\n",
        "21. assigned_room_type - Sometimes, hotels upgrade your room type depending on the availability. Such gestures are always welcomed by the guests. A relation between reserved room and assigned room can be used by a traveller while booking a hotel\n",
        "\n",
        "22. booking_changes - Number of times a booking was modified. Higher number of modifications reveal unstable or non definite plan of the traveller and may directly impact cancellation.\n",
        "\n",
        "23. deposit_type - A traveller who has paid a deposit is highly unlikely to cancel the booking.\n",
        "\n",
        "24. agent - This column seem to have NaN values. Other values are numbers which don't have a very clear meaning\n",
        "\n",
        "25. company - This column also has NaN values. A deeper delve into the column may reveal its features\n",
        "\n",
        "26. days_in_waitingg_list - A person who had a long number of days in waiting list is more likely to cancel his booking.\n",
        "\n",
        "27. customer_type - Contents of the column are not very clear. A deeper delve into the column may reveal its features.\n",
        "\n",
        "28. adr - Contents of the column are not very clear. A deeper delve into the column may reveal its features.\n",
        "\n",
        "29. required_car_parking_spaces - A traveller requiring car_parking is probably travelling from nearby places. In case no advance payment is made, the booking is likely to be cancelled. On the other hand, if we see from the customer's perspective, the hotel that offers car parking space is likely to charge higher\n",
        "\n",
        "30. total_of_special_requests - A customer with multiple special requests may be a demanding customer and the hotel must be prepared accordingly. Moreover, multiple special requests may invite higher charges\n",
        "\n",
        "31. reservation_status - This column is more like a dependent variable which we need to predict. However, in this project we don't have to predict anything. this column may be used for ascertaining our assumptions\n",
        "\n",
        "32 - reservation_status_date - The date when the status was updated. This column might not have any impact on our model and hence may be dropped."
      ]
    },
    {
      "cell_type": "code",
      "metadata": {
        "colab": {
          "base_uri": "https://localhost:8080/"
        },
        "id": "yxz64Ayn4Djm",
        "outputId": "a41795b9-2f34-4a64-fb24-3fa29fac3166"
      },
      "source": [
        "# Let's look at unique values for each column\n",
        "df.nunique()"
      ],
      "execution_count": 11,
      "outputs": [
        {
          "output_type": "execute_result",
          "data": {
            "text/plain": [
              "hotel                                2\n",
              "is_canceled                          2\n",
              "lead_time                          479\n",
              "arrival_date_year                    3\n",
              "arrival_date_month                  12\n",
              "arrival_date_week_number            53\n",
              "arrival_date_day_of_month           31\n",
              "stays_in_weekend_nights             17\n",
              "stays_in_week_nights                35\n",
              "adults                              14\n",
              "children                             5\n",
              "babies                               5\n",
              "meal                                 5\n",
              "country                            177\n",
              "market_segment                       8\n",
              "distribution_channel                 5\n",
              "is_repeated_guest                    2\n",
              "previous_cancellations              15\n",
              "previous_bookings_not_canceled      73\n",
              "reserved_room_type                  10\n",
              "assigned_room_type                  12\n",
              "booking_changes                     21\n",
              "deposit_type                         3\n",
              "agent                              333\n",
              "company                            352\n",
              "days_in_waiting_list               128\n",
              "customer_type                        4\n",
              "adr                               8879\n",
              "required_car_parking_spaces          5\n",
              "total_of_special_requests            6\n",
              "reservation_status                   3\n",
              "reservation_status_date            926\n",
              "dtype: int64"
            ]
          },
          "metadata": {},
          "execution_count": 11
        }
      ]
    },
    {
      "cell_type": "markdown",
      "metadata": {
        "id": "B0J4CcXi4uhU"
      },
      "source": [
        "**CLEANING THE DATA**\n"
      ]
    },
    {
      "cell_type": "code",
      "metadata": {
        "colab": {
          "base_uri": "https://localhost:8080/"
        },
        "id": "3gQLedLq4tN-",
        "outputId": "9cf7b2ed-efc4-4a37-f336-1814f35c4a38"
      },
      "source": [
        "# check for null values\n",
        "df.isnull().sum()"
      ],
      "execution_count": 12,
      "outputs": [
        {
          "output_type": "execute_result",
          "data": {
            "text/plain": [
              "hotel                                  0\n",
              "is_canceled                            0\n",
              "lead_time                              0\n",
              "arrival_date_year                      0\n",
              "arrival_date_month                     0\n",
              "arrival_date_week_number               0\n",
              "arrival_date_day_of_month              0\n",
              "stays_in_weekend_nights                0\n",
              "stays_in_week_nights                   0\n",
              "adults                                 0\n",
              "children                               4\n",
              "babies                                 0\n",
              "meal                                   0\n",
              "country                              488\n",
              "market_segment                         0\n",
              "distribution_channel                   0\n",
              "is_repeated_guest                      0\n",
              "previous_cancellations                 0\n",
              "previous_bookings_not_canceled         0\n",
              "reserved_room_type                     0\n",
              "assigned_room_type                     0\n",
              "booking_changes                        0\n",
              "deposit_type                           0\n",
              "agent                              16340\n",
              "company                           112593\n",
              "days_in_waiting_list                   0\n",
              "customer_type                          0\n",
              "adr                                    0\n",
              "required_car_parking_spaces            0\n",
              "total_of_special_requests              0\n",
              "reservation_status                     0\n",
              "reservation_status_date                0\n",
              "dtype: int64"
            ]
          },
          "metadata": {},
          "execution_count": 12
        }
      ]
    },
    {
      "cell_type": "markdown",
      "metadata": {
        "id": "3sGn78Ja5NEX"
      },
      "source": [
        "We have null values in 3 variables of data sets\n",
        "\n",
        "Let's use approptiate methods to get rid of null values"
      ]
    },
    {
      "cell_type": "code",
      "metadata": {
        "colab": {
          "base_uri": "https://localhost:8080/",
          "height": 419
        },
        "id": "n5VRV_II5Mvv",
        "outputId": "aee5e17b-1556-4c0f-d303-631235e55206"
      },
      "source": [
        "df[['country','agent','company']]"
      ],
      "execution_count": 13,
      "outputs": [
        {
          "output_type": "execute_result",
          "data": {
            "text/html": [
              "<div>\n",
              "<style scoped>\n",
              "    .dataframe tbody tr th:only-of-type {\n",
              "        vertical-align: middle;\n",
              "    }\n",
              "\n",
              "    .dataframe tbody tr th {\n",
              "        vertical-align: top;\n",
              "    }\n",
              "\n",
              "    .dataframe thead th {\n",
              "        text-align: right;\n",
              "    }\n",
              "</style>\n",
              "<table border=\"1\" class=\"dataframe\">\n",
              "  <thead>\n",
              "    <tr style=\"text-align: right;\">\n",
              "      <th></th>\n",
              "      <th>country</th>\n",
              "      <th>agent</th>\n",
              "      <th>company</th>\n",
              "    </tr>\n",
              "  </thead>\n",
              "  <tbody>\n",
              "    <tr>\n",
              "      <th>0</th>\n",
              "      <td>PRT</td>\n",
              "      <td>NaN</td>\n",
              "      <td>NaN</td>\n",
              "    </tr>\n",
              "    <tr>\n",
              "      <th>1</th>\n",
              "      <td>PRT</td>\n",
              "      <td>NaN</td>\n",
              "      <td>NaN</td>\n",
              "    </tr>\n",
              "    <tr>\n",
              "      <th>2</th>\n",
              "      <td>GBR</td>\n",
              "      <td>NaN</td>\n",
              "      <td>NaN</td>\n",
              "    </tr>\n",
              "    <tr>\n",
              "      <th>3</th>\n",
              "      <td>GBR</td>\n",
              "      <td>304.0</td>\n",
              "      <td>NaN</td>\n",
              "    </tr>\n",
              "    <tr>\n",
              "      <th>4</th>\n",
              "      <td>GBR</td>\n",
              "      <td>240.0</td>\n",
              "      <td>NaN</td>\n",
              "    </tr>\n",
              "    <tr>\n",
              "      <th>...</th>\n",
              "      <td>...</td>\n",
              "      <td>...</td>\n",
              "      <td>...</td>\n",
              "    </tr>\n",
              "    <tr>\n",
              "      <th>119385</th>\n",
              "      <td>BEL</td>\n",
              "      <td>394.0</td>\n",
              "      <td>NaN</td>\n",
              "    </tr>\n",
              "    <tr>\n",
              "      <th>119386</th>\n",
              "      <td>FRA</td>\n",
              "      <td>9.0</td>\n",
              "      <td>NaN</td>\n",
              "    </tr>\n",
              "    <tr>\n",
              "      <th>119387</th>\n",
              "      <td>DEU</td>\n",
              "      <td>9.0</td>\n",
              "      <td>NaN</td>\n",
              "    </tr>\n",
              "    <tr>\n",
              "      <th>119388</th>\n",
              "      <td>GBR</td>\n",
              "      <td>89.0</td>\n",
              "      <td>NaN</td>\n",
              "    </tr>\n",
              "    <tr>\n",
              "      <th>119389</th>\n",
              "      <td>DEU</td>\n",
              "      <td>9.0</td>\n",
              "      <td>NaN</td>\n",
              "    </tr>\n",
              "  </tbody>\n",
              "</table>\n",
              "<p>119390 rows × 3 columns</p>\n",
              "</div>"
            ],
            "text/plain": [
              "       country  agent  company\n",
              "0          PRT    NaN      NaN\n",
              "1          PRT    NaN      NaN\n",
              "2          GBR    NaN      NaN\n",
              "3          GBR  304.0      NaN\n",
              "4          GBR  240.0      NaN\n",
              "...        ...    ...      ...\n",
              "119385     BEL  394.0      NaN\n",
              "119386     FRA    9.0      NaN\n",
              "119387     DEU    9.0      NaN\n",
              "119388     GBR   89.0      NaN\n",
              "119389     DEU    9.0      NaN\n",
              "\n",
              "[119390 rows x 3 columns]"
            ]
          },
          "metadata": {},
          "execution_count": 13
        }
      ]
    },
    {
      "cell_type": "markdown",
      "metadata": {
        "id": "shAdhHLuDB0R"
      },
      "source": [
        "**Also we can use simple seaborn heatmap to check where we are missing data**"
      ]
    },
    {
      "cell_type": "code",
      "metadata": {
        "colab": {
          "base_uri": "https://localhost:8080/",
          "height": 436
        },
        "id": "8jtyaPQvDRsZ",
        "outputId": "dd1974d5-12a8-49b3-b346-ba959833f5c0"
      },
      "source": [
        "sns.heatmap(df.isnull(),yticklabels=False,cbar=False,cmap='viridis')"
      ],
      "execution_count": 14,
      "outputs": [
        {
          "output_type": "execute_result",
          "data": {
            "text/plain": [
              "<matplotlib.axes._subplots.AxesSubplot at 0x7fa6c9e851d0>"
            ]
          },
          "metadata": {},
          "execution_count": 14
        },
        {
          "output_type": "display_data",
          "data": {
            "image/png": "[encoded data removed]",
            "text/plain": [
              "<Figure size 432x288 with 1 Axes>"
            ]
          },
          "metadata": {
            "needs_background": "light"
          }
        }
      ]
    },
    {
      "cell_type": "markdown",
      "metadata": {
        "id": "yG3P_yuuEntU"
      },
      "source": [
        "We see that a small portion of country data is missing and also likely 20 percent of agent has missing values have a reasonable replacement with some form of imputation.\n",
        "\n",
        "Looking at company column, it looks like we are just missing a lot of data. we will probably drop this later or change it to another feature."
      ]
    },
    {
      "cell_type": "code",
      "metadata": {
        "colab": {
          "base_uri": "https://localhost:8080/"
        },
        "id": "hZu5LgKkIuRz",
        "outputId": "7b8460e6-7982-4a26-a698-0e514bcce7fd"
      },
      "source": [
        "# Let's check for duplicates\n",
        "df[df.duplicated()].shape"
      ],
      "execution_count": 15,
      "outputs": [
        {
          "output_type": "execute_result",
          "data": {
            "text/plain": [
              "(31994, 32)"
            ]
          },
          "metadata": {},
          "execution_count": 15
        }
      ]
    },
    {
      "cell_type": "code",
      "metadata": {
        "colab": {
          "base_uri": "https://localhost:8080/",
          "height": 308
        },
        "id": "cxGQCUg6JHpr",
        "outputId": "d3a0132a-6626-40cf-a8a3-ab0bad7cfdd0"
      },
      "source": [
        "# dropping duplicates\n",
        "df = df.drop_duplicates()\n",
        "df.head()"
      ],
      "execution_count": 16,
      "outputs": [
        {
          "output_type": "execute_result",
          "data": {
            "text/html": [
              "<div>\n",
              "<style scoped>\n",
              "    .dataframe tbody tr th:only-of-type {\n",
              "        vertical-align: middle;\n",
              "    }\n",
              "\n",
              "    .dataframe tbody tr th {\n",
              "        vertical-align: top;\n",
              "    }\n",
              "\n",
              "    .dataframe thead th {\n",
              "        text-align: right;\n",
              "    }\n",
              "</style>\n",
              "<table border=\"1\" class=\"dataframe\">\n",
              "  <thead>\n",
              "    <tr style=\"text-align: right;\">\n",
              "      <th></th>\n",
              "      <th>hotel</th>\n",
              "      <th>is_canceled</th>\n",
              "      <th>lead_time</th>\n",
              "      <th>arrival_date_year</th>\n",
              "      <th>arrival_date_month</th>\n",
              "      <th>arrival_date_week_number</th>\n",
              "      <th>arrival_date_day_of_month</th>\n",
              "      <th>stays_in_weekend_nights</th>\n",
              "      <th>stays_in_week_nights</th>\n",
              "      <th>adults</th>\n",
              "      <th>children</th>\n",
              "      <th>babies</th>\n",
              "      <th>meal</th>\n",
              "      <th>country</th>\n",
              "      <th>market_segment</th>\n",
              "      <th>distribution_channel</th>\n",
              "      <th>is_repeated_guest</th>\n",
              "      <th>previous_cancellations</th>\n",
              "      <th>previous_bookings_not_canceled</th>\n",
              "      <th>reserved_room_type</th>\n",
              "      <th>assigned_room_type</th>\n",
              "      <th>booking_changes</th>\n",
              "      <th>deposit_type</th>\n",
              "      <th>agent</th>\n",
              "      <th>company</th>\n",
              "      <th>days_in_waiting_list</th>\n",
              "      <th>customer_type</th>\n",
              "      <th>adr</th>\n",
              "      <th>required_car_parking_spaces</th>\n",
              "      <th>total_of_special_requests</th>\n",
              "      <th>reservation_status</th>\n",
              "      <th>reservation_status_date</th>\n",
              "    </tr>\n",
              "  </thead>\n",
              "  <tbody>\n",
              "    <tr>\n",
              "      <th>0</th>\n",
              "      <td>Resort Hotel</td>\n",
              "      <td>0</td>\n",
              "      <td>342</td>\n",
              "      <td>2015</td>\n",
              "      <td>July</td>\n",
              "      <td>27</td>\n",
              "      <td>1</td>\n",
              "      <td>0</td>\n",
              "      <td>0</td>\n",
              "      <td>2</td>\n",
              "      <td>0.0</td>\n",
              "      <td>0</td>\n",
              "      <td>BB</td>\n",
              "      <td>PRT</td>\n",
              "      <td>Direct</td>\n",
              "      <td>Direct</td>\n",
              "      <td>0</td>\n",
              "      <td>0</td>\n",
              "      <td>0</td>\n",
              "      <td>C</td>\n",
              "      <td>C</td>\n",
              "      <td>3</td>\n",
              "      <td>No Deposit</td>\n",
              "      <td>NaN</td>\n",
              "      <td>NaN</td>\n",
              "      <td>0</td>\n",
              "      <td>Transient</td>\n",
              "      <td>0.0</td>\n",
              "      <td>0</td>\n",
              "      <td>0</td>\n",
              "      <td>Check-Out</td>\n",
              "      <td>2015-07-01</td>\n",
              "    </tr>\n",
              "    <tr>\n",
              "      <th>1</th>\n",
              "      <td>Resort Hotel</td>\n",
              "      <td>0</td>\n",
              "      <td>737</td>\n",
              "      <td>2015</td>\n",
              "      <td>July</td>\n",
              "      <td>27</td>\n",
              "      <td>1</td>\n",
              "      <td>0</td>\n",
              "      <td>0</td>\n",
              "      <td>2</td>\n",
              "      <td>0.0</td>\n",
              "      <td>0</td>\n",
              "      <td>BB</td>\n",
              "      <td>PRT</td>\n",
              "      <td>Direct</td>\n",
              "      <td>Direct</td>\n",
              "      <td>0</td>\n",
              "      <td>0</td>\n",
              "      <td>0</td>\n",
              "      <td>C</td>\n",
              "      <td>C</td>\n",
              "      <td>4</td>\n",
              "      <td>No Deposit</td>\n",
              "      <td>NaN</td>\n",
              "      <td>NaN</td>\n",
              "      <td>0</td>\n",
              "      <td>Transient</td>\n",
              "      <td>0.0</td>\n",
              "      <td>0</td>\n",
              "      <td>0</td>\n",
              "      <td>Check-Out</td>\n",
              "      <td>2015-07-01</td>\n",
              "    </tr>\n",
              "    <tr>\n",
              "      <th>2</th>\n",
              "      <td>Resort Hotel</td>\n",
              "      <td>0</td>\n",
              "      <td>7</td>\n",
              "      <td>2015</td>\n",
              "      <td>July</td>\n",
              "      <td>27</td>\n",
              "      <td>1</td>\n",
              "      <td>0</td>\n",
              "      <td>1</td>\n",
              "      <td>1</td>\n",
              "      <td>0.0</td>\n",
              "      <td>0</td>\n",
              "      <td>BB</td>\n",
              "      <td>GBR</td>\n",
              "      <td>Direct</td>\n",
              "      <td>Direct</td>\n",
              "      <td>0</td>\n",
              "      <td>0</td>\n",
              "      <td>0</td>\n",
              "      <td>A</td>\n",
              "      <td>C</td>\n",
              "      <td>0</td>\n",
              "      <td>No Deposit</td>\n",
              "      <td>NaN</td>\n",
              "      <td>NaN</td>\n",
              "      <td>0</td>\n",
              "      <td>Transient</td>\n",
              "      <td>75.0</td>\n",
              "      <td>0</td>\n",
              "      <td>0</td>\n",
              "      <td>Check-Out</td>\n",
              "      <td>2015-07-02</td>\n",
              "    </tr>\n",
              "    <tr>\n",
              "      <th>3</th>\n",
              "      <td>Resort Hotel</td>\n",
              "      <td>0</td>\n",
              "      <td>13</td>\n",
              "      <td>2015</td>\n",
              "      <td>July</td>\n",
              "      <td>27</td>\n",
              "      <td>1</td>\n",
              "      <td>0</td>\n",
              "      <td>1</td>\n",
              "      <td>1</td>\n",
              "      <td>0.0</td>\n",
              "      <td>0</td>\n",
              "      <td>BB</td>\n",
              "      <td>GBR</td>\n",
              "      <td>Corporate</td>\n",
              "      <td>Corporate</td>\n",
              "      <td>0</td>\n",
              "      <td>0</td>\n",
              "      <td>0</td>\n",
              "      <td>A</td>\n",
              "      <td>A</td>\n",
              "      <td>0</td>\n",
              "      <td>No Deposit</td>\n",
              "      <td>304.0</td>\n",
              "      <td>NaN</td>\n",
              "      <td>0</td>\n",
              "      <td>Transient</td>\n",
              "      <td>75.0</td>\n",
              "      <td>0</td>\n",
              "      <td>0</td>\n",
              "      <td>Check-Out</td>\n",
              "      <td>2015-07-02</td>\n",
              "    </tr>\n",
              "    <tr>\n",
              "      <th>4</th>\n",
              "      <td>Resort Hotel</td>\n",
              "      <td>0</td>\n",
              "      <td>14</td>\n",
              "      <td>2015</td>\n",
              "      <td>July</td>\n",
              "      <td>27</td>\n",
              "      <td>1</td>\n",
              "      <td>0</td>\n",
              "      <td>2</td>\n",
              "      <td>2</td>\n",
              "      <td>0.0</td>\n",
              "      <td>0</td>\n",
              "      <td>BB</td>\n",
              "      <td>GBR</td>\n",
              "      <td>Online TA</td>\n",
              "      <td>TA/TO</td>\n",
              "      <td>0</td>\n",
              "      <td>0</td>\n",
              "      <td>0</td>\n",
              "      <td>A</td>\n",
              "      <td>A</td>\n",
              "      <td>0</td>\n",
              "      <td>No Deposit</td>\n",
              "      <td>240.0</td>\n",
              "      <td>NaN</td>\n",
              "      <td>0</td>\n",
              "      <td>Transient</td>\n",
              "      <td>98.0</td>\n",
              "      <td>0</td>\n",
              "      <td>1</td>\n",
              "      <td>Check-Out</td>\n",
              "      <td>2015-07-03</td>\n",
              "    </tr>\n",
              "  </tbody>\n",
              "</table>\n",
              "</div>"
            ],
            "text/plain": [
              "          hotel  is_canceled  ...  reservation_status  reservation_status_date\n",
              "0  Resort Hotel            0  ...           Check-Out               2015-07-01\n",
              "1  Resort Hotel            0  ...           Check-Out               2015-07-01\n",
              "2  Resort Hotel            0  ...           Check-Out               2015-07-02\n",
              "3  Resort Hotel            0  ...           Check-Out               2015-07-02\n",
              "4  Resort Hotel            0  ...           Check-Out               2015-07-03\n",
              "\n",
              "[5 rows x 32 columns]"
            ]
          },
          "metadata": {},
          "execution_count": 16
        }
      ]
    },
    {
      "cell_type": "markdown",
      "metadata": {
        "id": "FENtAaUhVMSC"
      },
      "source": [
        "Let's check for any outliers using box plot"
      ]
    },
    {
      "cell_type": "code",
      "metadata": {
        "colab": {
          "base_uri": "https://localhost:8080/",
          "height": 509
        },
        "id": "8zZw9fUiVK5X",
        "outputId": "c1c5c65b-b768-44d2-a3ec-1fabb1603d20"
      },
      "source": [
        "df.boxplot()\n",
        "plt.xticks(rotation=90)\n",
        "plt.figure(figsize=(20,15))"
      ],
      "execution_count": 17,
      "outputs": [
        {
          "output_type": "stream",
          "name": "stderr",
          "text": [
            "/usr/local/lib/python3.7/dist-packages/numpy/core/_asarray.py:83: VisibleDeprecationWarning: Creating an ndarray from ragged nested sequences (which is a list-or-tuple of lists-or-tuples-or ndarrays with different lengths or shapes) is deprecated. If you meant to do this, you must specify 'dtype=object' when creating the ndarray\n",
            "  return array(a, dtype, copy=False, order=order)\n"
          ]
        },
        {
          "output_type": "execute_result",
          "data": {
            "text/plain": [
              "<Figure size 1440x1080 with 0 Axes>"
            ]
          },
          "metadata": {},
          "execution_count": 17
        },
        {
          "output_type": "display_data",
          "data": {
            "image/png": "[encoded data removed]",
            "text/plain": [
              "<Figure size 432x288 with 1 Axes>"
            ]
          },
          "metadata": {
            "needs_background": "light"
          }
        },
        {
          "output_type": "display_data",
          "data": {
            "text/plain": [
              "<Figure size 1440x1080 with 0 Axes>"
            ]
          },
          "metadata": {}
        }
      ]
    },
    {
      "cell_type": "markdown",
      "metadata": {
        "id": "Uf5pl0o0f3A5"
      },
      "source": [
        "**Univariate Analysis of categorial variables**"
      ]
    },
    {
      "cell_type": "markdown",
      "metadata": {
        "id": "wy5oq1MiLjQg"
      },
      "source": [
        "Let's visualize number of bookings for various types of hotels\n",
        "\n",
        "Let's check the unique type of hotels"
      ]
    },
    {
      "cell_type": "code",
      "metadata": {
        "colab": {
          "base_uri": "https://localhost:8080/"
        },
        "id": "5b9yv-G_RgFl",
        "outputId": "39a86391-27d4-44a6-b58f-22551c62d0a2"
      },
      "source": [
        "df['hotel'].unique()"
      ],
      "execution_count": 18,
      "outputs": [
        {
          "output_type": "execute_result",
          "data": {
            "text/plain": [
              "array(['Resort Hotel', 'City Hotel'], dtype=object)"
            ]
          },
          "metadata": {},
          "execution_count": 18
        }
      ]
    },
    {
      "cell_type": "code",
      "metadata": {
        "colab": {
          "base_uri": "https://localhost:8080/",
          "height": 389
        },
        "id": "8YlHWisoLVKb",
        "outputId": "60ab351e-a0df-401c-c426-4f97fb32728a"
      },
      "source": [
        "fig,ax = plt.subplots(figsize=(12,6))\n",
        "ax.hist(df['hotel'])\n",
        "ax.set_xlabel('Hotel_Type')\n",
        "ax.set_ylabel('no of bookings-->')\n",
        "plt.show()"
      ],
      "execution_count": 19,
      "outputs": [
        {
          "output_type": "display_data",
          "data": {
            "image/png": "[encoded data removed]",
            "text/plain": [
              "<Figure size 864x432 with 1 Axes>"
            ]
          },
          "metadata": {
            "needs_background": "light"
          }
        }
      ]
    },
    {
      "cell_type": "markdown",
      "metadata": {
        "id": "_sXBGfuCPOJP"
      },
      "source": [
        "Analysis of target variable"
      ]
    },
    {
      "cell_type": "code",
      "metadata": {
        "colab": {
          "base_uri": "https://localhost:8080/"
        },
        "id": "5zy00qoLN2hB",
        "outputId": "67e8f525-bdbb-41b4-ae34-e5d5d359c6c3"
      },
      "source": [
        "df['is_canceled'].value_counts()"
      ],
      "execution_count": 20,
      "outputs": [
        {
          "output_type": "execute_result",
          "data": {
            "text/plain": [
              "0    63371\n",
              "1    24025\n",
              "Name: is_canceled, dtype: int64"
            ]
          },
          "metadata": {},
          "execution_count": 20
        }
      ]
    },
    {
      "cell_type": "code",
      "metadata": {
        "colab": {
          "base_uri": "https://localhost:8080/",
          "height": 279
        },
        "id": "wxuQxOY0RAQq",
        "outputId": "d41469cf-e9ed-4490-94d3-5c469e581150"
      },
      "source": [
        "df['is_canceled'].value_counts().plot.bar()"
      ],
      "execution_count": 21,
      "outputs": [
        {
          "output_type": "execute_result",
          "data": {
            "text/plain": [
              "<matplotlib.axes._subplots.AxesSubplot at 0x7fa6c15c67d0>"
            ]
          },
          "metadata": {},
          "execution_count": 21
        },
        {
          "output_type": "display_data",
          "data": {
            "image/png": "[encoded data removed]",
            "text/plain": [
              "<Figure size 432x288 with 1 Axes>"
            ]
          },
          "metadata": {
            "needs_background": "light"
          }
        }
      ]
    },
    {
      "cell_type": "markdown",
      "metadata": {
        "id": "qEALceiZRJCQ"
      },
      "source": [
        "Let's go through the ratio of cancelled bookings to not cancelled bookings"
      ]
    },
    {
      "cell_type": "code",
      "metadata": {
        "colab": {
          "base_uri": "https://localhost:8080/"
        },
        "id": "Mn7qaDOHRIft",
        "outputId": "69678d86-5bec-4e59-c3ed-c281e680c328"
      },
      "source": [
        "df['is_canceled'].value_counts(normalize = True)"
      ],
      "execution_count": 22,
      "outputs": [
        {
          "output_type": "execute_result",
          "data": {
            "text/plain": [
              "0    0.725102\n",
              "1    0.274898\n",
              "Name: is_canceled, dtype: float64"
            ]
          },
          "metadata": {},
          "execution_count": 22
        }
      ]
    },
    {
      "cell_type": "markdown",
      "metadata": {
        "id": "9Fj1fQvKRx3r"
      },
      "source": [
        "Looking at unique type of meal plans"
      ]
    },
    {
      "cell_type": "code",
      "metadata": {
        "colab": {
          "base_uri": "https://localhost:8080/"
        },
        "id": "Lxxd1GpoRX1K",
        "outputId": "dd3be814-8a2a-42d8-ec83-d2a7e6759964"
      },
      "source": [
        "df['meal'].unique()"
      ],
      "execution_count": 23,
      "outputs": [
        {
          "output_type": "execute_result",
          "data": {
            "text/plain": [
              "array(['BB', 'FB', 'HB', 'SC', 'Undefined'], dtype=object)"
            ]
          },
          "metadata": {},
          "execution_count": 23
        }
      ]
    },
    {
      "cell_type": "markdown",
      "metadata": {
        "id": "TFVWkYPUR-8Z"
      },
      "source": [
        "Distribution of number of bookings with different meal plans\n"
      ]
    },
    {
      "cell_type": "code",
      "metadata": {
        "colab": {
          "base_uri": "https://localhost:8080/",
          "height": 325
        },
        "id": "n8MToqxYSFZA",
        "outputId": "864e0cd5-70c0-488f-e573-3e64f8b12cd5"
      },
      "source": [
        "df['meal'].value_counts().plot.bar()"
      ],
      "execution_count": 24,
      "outputs": [
        {
          "output_type": "execute_result",
          "data": {
            "text/plain": [
              "<matplotlib.axes._subplots.AxesSubplot at 0x7fa6c16d3a90>"
            ]
          },
          "metadata": {},
          "execution_count": 24
        },
        {
          "output_type": "display_data",
          "data": {
            "image/png": "[encoded data removed]",
            "text/plain": [
              "<Figure size 432x288 with 1 Axes>"
            ]
          },
          "metadata": {
            "needs_background": "light"
          }
        }
      ]
    },
    {
      "cell_type": "markdown",
      "metadata": {
        "id": "WlKa14QmSdh2"
      },
      "source": [
        "List of countries in our dataset"
      ]
    },
    {
      "cell_type": "code",
      "metadata": {
        "colab": {
          "base_uri": "https://localhost:8080/"
        },
        "id": "4ZeLPszrSnfd",
        "outputId": "28c4db77-8e0c-4fbd-94c0-bcf20dbd89b5"
      },
      "source": [
        "df['country'].unique()"
      ],
      "execution_count": 25,
      "outputs": [
        {
          "output_type": "execute_result",
          "data": {
            "text/plain": [
              "array(['PRT', 'GBR', 'USA', 'ESP', 'IRL', 'FRA', nan, 'ROU', 'NOR', 'OMN',\n",
              "       'ARG', 'POL', 'DEU', 'BEL', 'CHE', 'CN', 'GRC', 'ITA', 'NLD',\n",
              "       'DNK', 'RUS', 'SWE', 'AUS', 'EST', 'CZE', 'BRA', 'FIN', 'MOZ',\n",
              "       'BWA', 'LUX', 'SVN', 'ALB', 'IND', 'CHN', 'MEX', 'MAR', 'UKR',\n",
              "       'SMR', 'LVA', 'PRI', 'SRB', 'CHL', 'AUT', 'BLR', 'LTU', 'TUR',\n",
              "       'ZAF', 'AGO', 'ISR', 'CYM', 'ZMB', 'CPV', 'ZWE', 'DZA', 'KOR',\n",
              "       'CRI', 'HUN', 'ARE', 'TUN', 'JAM', 'HRV', 'HKG', 'IRN', 'GEO',\n",
              "       'AND', 'GIB', 'URY', 'JEY', 'CAF', 'CYP', 'COL', 'GGY', 'KWT',\n",
              "       'NGA', 'MDV', 'VEN', 'SVK', 'FJI', 'KAZ', 'PAK', 'IDN', 'LBN',\n",
              "       'PHL', 'SEN', 'SYC', 'AZE', 'BHR', 'NZL', 'THA', 'DOM', 'MKD',\n",
              "       'MYS', 'ARM', 'JPN', 'LKA', 'CUB', 'CMR', 'BIH', 'MUS', 'COM',\n",
              "       'SUR', 'UGA', 'BGR', 'CIV', 'JOR', 'SYR', 'SGP', 'BDI', 'SAU',\n",
              "       'VNM', 'PLW', 'QAT', 'EGY', 'PER', 'MLT', 'MWI', 'ECU', 'MDG',\n",
              "       'ISL', 'UZB', 'NPL', 'BHS', 'MAC', 'TGO', 'TWN', 'DJI', 'STP',\n",
              "       'KNA', 'ETH', 'IRQ', 'HND', 'RWA', 'KHM', 'MCO', 'BGD', 'IMN',\n",
              "       'TJK', 'NIC', 'BEN', 'VGB', 'TZA', 'GAB', 'GHA', 'TMP', 'GLP',\n",
              "       'KEN', 'LIE', 'GNB', 'MNE', 'UMI', 'MYT', 'FRO', 'MMR', 'PAN',\n",
              "       'BFA', 'LBY', 'MLI', 'NAM', 'BOL', 'PRY', 'BRB', 'ABW', 'AIA',\n",
              "       'SLV', 'DMA', 'PYF', 'GUY', 'LCA', 'ATA', 'GTM', 'ASM', 'MRT',\n",
              "       'NCL', 'KIR', 'SDN', 'ATF', 'SLE', 'LAO'], dtype=object)"
            ]
          },
          "metadata": {},
          "execution_count": 25
        }
      ]
    },
    {
      "cell_type": "markdown",
      "metadata": {
        "id": "GN0VCFSZSveZ"
      },
      "source": [
        "List of different market segments"
      ]
    },
    {
      "cell_type": "code",
      "metadata": {
        "colab": {
          "base_uri": "https://localhost:8080/"
        },
        "id": "G8mGpDp4Szln",
        "outputId": "821af996-fb16-42f3-9636-c3869e8a457d"
      },
      "source": [
        "df['market_segment'].unique()"
      ],
      "execution_count": 26,
      "outputs": [
        {
          "output_type": "execute_result",
          "data": {
            "text/plain": [
              "array(['Direct', 'Corporate', 'Online TA', 'Offline TA/TO',\n",
              "       'Complementary', 'Groups', 'Undefined', 'Aviation'], dtype=object)"
            ]
          },
          "metadata": {},
          "execution_count": 26
        }
      ]
    },
    {
      "cell_type": "markdown",
      "metadata": {
        "id": "5Os467c-S6r2"
      },
      "source": [
        "Visualization of distribution of market segments "
      ]
    },
    {
      "cell_type": "code",
      "metadata": {
        "colab": {
          "base_uri": "https://localhost:8080/",
          "height": 353
        },
        "id": "iRt-_eLwTBrY",
        "outputId": "be818a82-02f7-47a1-fe64-8c21a5f48d8d"
      },
      "source": [
        "df['market_segment'].value_counts().plot.bar()"
      ],
      "execution_count": 27,
      "outputs": [
        {
          "output_type": "execute_result",
          "data": {
            "text/plain": [
              "<matplotlib.axes._subplots.AxesSubplot at 0x7fa6c186b4d0>"
            ]
          },
          "metadata": {},
          "execution_count": 27
        },
        {
          "output_type": "display_data",
          "data": {
            "image/png": "[encoded data removed]",
            "text/plain": [
              "<Figure size 432x288 with 1 Axes>"
            ]
          },
          "metadata": {
            "needs_background": "light"
          }
        }
      ]
    },
    {
      "cell_type": "markdown",
      "metadata": {
        "id": "vSwXfdmMTQ17"
      },
      "source": [
        "Distribution channel"
      ]
    },
    {
      "cell_type": "code",
      "metadata": {
        "colab": {
          "base_uri": "https://localhost:8080/"
        },
        "id": "8foUn2k5TNwA",
        "outputId": "99c2fe95-2846-42af-ea3b-261a38d2bc27"
      },
      "source": [
        "df['distribution_channel'].unique()"
      ],
      "execution_count": 28,
      "outputs": [
        {
          "output_type": "execute_result",
          "data": {
            "text/plain": [
              "array(['Direct', 'Corporate', 'TA/TO', 'Undefined', 'GDS'], dtype=object)"
            ]
          },
          "metadata": {},
          "execution_count": 28
        }
      ]
    },
    {
      "cell_type": "markdown",
      "metadata": {
        "id": "DzatE14oTlHe"
      },
      "source": [
        "Distribution channel across the dataset"
      ]
    },
    {
      "cell_type": "code",
      "metadata": {
        "colab": {
          "base_uri": "https://localhost:8080/",
          "height": 325
        },
        "id": "3KgqY4yCTZEN",
        "outputId": "a4600e0e-662e-43b8-bf41-2e4d0f69fa8d"
      },
      "source": [
        "df['distribution_channel'].value_counts().plot.bar()"
      ],
      "execution_count": 29,
      "outputs": [
        {
          "output_type": "execute_result",
          "data": {
            "text/plain": [
              "<matplotlib.axes._subplots.AxesSubplot at 0x7fa6c1749390>"
            ]
          },
          "metadata": {},
          "execution_count": 29
        },
        {
          "output_type": "display_data",
          "data": {
            "image/png": "[encoded data removed]",
            "text/plain": [
              "<Figure size 432x288 with 1 Axes>"
            ]
          },
          "metadata": {
            "needs_background": "light"
          }
        }
      ]
    },
    {
      "cell_type": "markdown",
      "metadata": {
        "id": "UFTZ0LdqTxGN"
      },
      "source": [
        "Let's explore target variable 'is_cancelled"
      ]
    },
    {
      "cell_type": "code",
      "metadata": {
        "colab": {
          "base_uri": "https://localhost:8080/"
        },
        "id": "hvNps9n7PoQ6",
        "outputId": "f6ee44ee-0429-42ba-b3e1-9a062572baa9"
      },
      "source": [
        "df['is_repeated_guest'].unique()"
      ],
      "execution_count": 30,
      "outputs": [
        {
          "output_type": "execute_result",
          "data": {
            "text/plain": [
              "array([0, 1])"
            ]
          },
          "metadata": {},
          "execution_count": 30
        }
      ]
    },
    {
      "cell_type": "code",
      "metadata": {
        "colab": {
          "base_uri": "https://localhost:8080/"
        },
        "id": "6P7srgVdPxXN",
        "outputId": "469619e9-28d9-46c8-daf0-8bb559bf5176"
      },
      "source": [
        "df['is_repeated_guest'].value_counts()"
      ],
      "execution_count": 31,
      "outputs": [
        {
          "output_type": "execute_result",
          "data": {
            "text/plain": [
              "0    83981\n",
              "1     3415\n",
              "Name: is_repeated_guest, dtype: int64"
            ]
          },
          "metadata": {},
          "execution_count": 31
        }
      ]
    },
    {
      "cell_type": "code",
      "metadata": {
        "colab": {
          "base_uri": "https://localhost:8080/",
          "height": 279
        },
        "id": "qd41SjfYQaQR",
        "outputId": "4adddd6d-e3d2-439f-a348-1e4202ff9365"
      },
      "source": [
        "df['is_repeated_guest'].value_counts().plot.bar()"
      ],
      "execution_count": 32,
      "outputs": [
        {
          "output_type": "execute_result",
          "data": {
            "text/plain": [
              "<matplotlib.axes._subplots.AxesSubplot at 0x7fa6c17b1d10>"
            ]
          },
          "metadata": {},
          "execution_count": 32
        },
        {
          "output_type": "display_data",
          "data": {
            "image/png": "[encoded data removed]",
            "text/plain": [
              "<Figure size 432x288 with 1 Axes>"
            ]
          },
          "metadata": {
            "needs_background": "light"
          }
        }
      ]
    },
    {
      "cell_type": "markdown",
      "metadata": {
        "id": "SJLOOW1KRAoX"
      },
      "source": [
        "Let's look at the column reserved_room_type"
      ]
    },
    {
      "cell_type": "code",
      "metadata": {
        "colab": {
          "base_uri": "https://localhost:8080/"
        },
        "id": "8p__yhTnQema",
        "outputId": "341a487f-1e25-4c96-db5b-96253e087b0d"
      },
      "source": [
        "df['reserved_room_type'].unique()"
      ],
      "execution_count": 33,
      "outputs": [
        {
          "output_type": "execute_result",
          "data": {
            "text/plain": [
              "array(['C', 'A', 'D', 'E', 'G', 'F', 'H', 'L', 'P', 'B'], dtype=object)"
            ]
          },
          "metadata": {},
          "execution_count": 33
        }
      ]
    },
    {
      "cell_type": "code",
      "metadata": {
        "colab": {
          "base_uri": "https://localhost:8080/"
        },
        "id": "i8uCeGaURQod",
        "outputId": "ca394766-fb90-4169-c279-c17ab113d60d"
      },
      "source": [
        "df['reserved_room_type'].value_counts()"
      ],
      "execution_count": 34,
      "outputs": [
        {
          "output_type": "execute_result",
          "data": {
            "text/plain": [
              "A    56552\n",
              "D    17398\n",
              "E     6049\n",
              "F     2823\n",
              "G     2052\n",
              "B      999\n",
              "C      915\n",
              "H      596\n",
              "P        6\n",
              "L        6\n",
              "Name: reserved_room_type, dtype: int64"
            ]
          },
          "metadata": {},
          "execution_count": 34
        }
      ]
    },
    {
      "cell_type": "code",
      "metadata": {
        "colab": {
          "base_uri": "https://localhost:8080/",
          "height": 280
        },
        "id": "PZB3lZ53RZou",
        "outputId": "a3018f09-3fe5-4356-ba02-14e475cb6ee0"
      },
      "source": [
        "df['reserved_room_type'].value_counts().plot.bar()"
      ],
      "execution_count": 35,
      "outputs": [
        {
          "output_type": "execute_result",
          "data": {
            "text/plain": [
              "<matplotlib.axes._subplots.AxesSubplot at 0x7fa6c02d6890>"
            ]
          },
          "metadata": {},
          "execution_count": 35
        },
        {
          "output_type": "display_data",
          "data": {
            "image/png": "[encoded data removed]",
            "text/plain": [
              "<Figure size 432x288 with 1 Axes>"
            ]
          },
          "metadata": {
            "needs_background": "light"
          }
        }
      ]
    },
    {
      "cell_type": "markdown",
      "metadata": {
        "id": "_xpFO29ZRwtw"
      },
      "source": [
        "Assigned_room_type"
      ]
    },
    {
      "cell_type": "markdown",
      "metadata": {
        "id": "trGZe8NWSDxK"
      },
      "source": [
        ""
      ]
    },
    {
      "cell_type": "code",
      "metadata": {
        "colab": {
          "base_uri": "https://localhost:8080/"
        },
        "id": "BB3GEBi_RvuK",
        "outputId": "b08db63e-51e0-4a6d-b4a6-5c45dbbb3eeb"
      },
      "source": [
        "df['assigned_room_type'].unique()"
      ],
      "execution_count": 36,
      "outputs": [
        {
          "output_type": "execute_result",
          "data": {
            "text/plain": [
              "array(['C', 'A', 'D', 'E', 'G', 'F', 'I', 'B', 'H', 'P', 'L', 'K'],\n",
              "      dtype=object)"
            ]
          },
          "metadata": {},
          "execution_count": 36
        }
      ]
    },
    {
      "cell_type": "code",
      "metadata": {
        "colab": {
          "base_uri": "https://localhost:8080/"
        },
        "id": "A44_--LdR9qc",
        "outputId": "9c79c392-9d71-480c-886f-63773d358f1f"
      },
      "source": [
        "df['assigned_room_type'].value_counts()"
      ],
      "execution_count": 37,
      "outputs": [
        {
          "output_type": "execute_result",
          "data": {
            "text/plain": [
              "A    46313\n",
              "D    22432\n",
              "E     7195\n",
              "F     3627\n",
              "G     2498\n",
              "C     2165\n",
              "B     1820\n",
              "H      706\n",
              "I      357\n",
              "K      276\n",
              "P        6\n",
              "L        1\n",
              "Name: assigned_room_type, dtype: int64"
            ]
          },
          "metadata": {},
          "execution_count": 37
        }
      ]
    },
    {
      "cell_type": "code",
      "metadata": {
        "colab": {
          "base_uri": "https://localhost:8080/",
          "height": 280
        },
        "id": "uF7D7DXXSFOz",
        "outputId": "3da7c2dd-47cd-4e1d-b3ed-5d5a5c47bee1"
      },
      "source": [
        "df['assigned_room_type'].value_counts().plot.bar()"
      ],
      "execution_count": 38,
      "outputs": [
        {
          "output_type": "execute_result",
          "data": {
            "text/plain": [
              "<matplotlib.axes._subplots.AxesSubplot at 0x7fa6c0266fd0>"
            ]
          },
          "metadata": {},
          "execution_count": 38
        },
        {
          "output_type": "display_data",
          "data": {
            "image/png": "[encoded data removed]",
            "text/plain": [
              "<Figure size 432x288 with 1 Axes>"
            ]
          },
          "metadata": {
            "needs_background": "light"
          }
        }
      ]
    },
    {
      "cell_type": "markdown",
      "metadata": {
        "id": "U9aGQ_LnSbje"
      },
      "source": [
        "Next categorial variable deposit_type"
      ]
    },
    {
      "cell_type": "code",
      "metadata": {
        "colab": {
          "base_uri": "https://localhost:8080/"
        },
        "id": "tbKg1I_7SMok",
        "outputId": "74669599-752d-4d85-ceeb-3c5945f5f131"
      },
      "source": [
        "df['deposit_type'].unique()"
      ],
      "execution_count": 39,
      "outputs": [
        {
          "output_type": "execute_result",
          "data": {
            "text/plain": [
              "array(['No Deposit', 'Refundable', 'Non Refund'], dtype=object)"
            ]
          },
          "metadata": {},
          "execution_count": 39
        }
      ]
    },
    {
      "cell_type": "code",
      "metadata": {
        "colab": {
          "base_uri": "https://localhost:8080/"
        },
        "id": "EAysSw-iSlFs",
        "outputId": "79b997b3-e302-4445-b143-8579577a8118"
      },
      "source": [
        "df['deposit_type'].value_counts()"
      ],
      "execution_count": 40,
      "outputs": [
        {
          "output_type": "execute_result",
          "data": {
            "text/plain": [
              "No Deposit    86251\n",
              "Non Refund     1038\n",
              "Refundable      107\n",
              "Name: deposit_type, dtype: int64"
            ]
          },
          "metadata": {},
          "execution_count": 40
        }
      ]
    },
    {
      "cell_type": "code",
      "metadata": {
        "colab": {
          "base_uri": "https://localhost:8080/",
          "height": 331
        },
        "id": "bsGGauXeSa9B",
        "outputId": "825b0b1d-902f-42fe-c796-18fe673b58c8"
      },
      "source": [
        "df['deposit_type'].value_counts().plot.bar()"
      ],
      "execution_count": 41,
      "outputs": [
        {
          "output_type": "execute_result",
          "data": {
            "text/plain": [
              "<matplotlib.axes._subplots.AxesSubplot at 0x7fa6c01fdd90>"
            ]
          },
          "metadata": {},
          "execution_count": 41
        },
        {
          "output_type": "display_data",
          "data": {
            "image/png": "[encoded data removed]",
            "text/plain": [
              "<Figure size 432x288 with 1 Axes>"
            ]
          },
          "metadata": {
            "needs_background": "light"
          }
        }
      ]
    },
    {
      "cell_type": "markdown",
      "metadata": {
        "id": "Jly-kBRFS5TM"
      },
      "source": [
        "Next categorial variable customer type"
      ]
    },
    {
      "cell_type": "code",
      "metadata": {
        "colab": {
          "base_uri": "https://localhost:8080/"
        },
        "id": "pNYnkDGBSzSe",
        "outputId": "721a6d67-41c2-4e61-93a4-ef7d533a9d73"
      },
      "source": [
        "df['customer_type'].unique()"
      ],
      "execution_count": 42,
      "outputs": [
        {
          "output_type": "execute_result",
          "data": {
            "text/plain": [
              "array(['Transient', 'Contract', 'Transient-Party', 'Group'], dtype=object)"
            ]
          },
          "metadata": {},
          "execution_count": 42
        }
      ]
    },
    {
      "cell_type": "code",
      "metadata": {
        "colab": {
          "base_uri": "https://localhost:8080/"
        },
        "id": "DIIiOuBjTHDH",
        "outputId": "6c2815b8-eccd-4f6f-8c24-d5457f8b8baf"
      },
      "source": [
        "df['customer_type'].value_counts()"
      ],
      "execution_count": 43,
      "outputs": [
        {
          "output_type": "execute_result",
          "data": {
            "text/plain": [
              "Transient          71986\n",
              "Transient-Party    11727\n",
              "Contract            3139\n",
              "Group                544\n",
              "Name: customer_type, dtype: int64"
            ]
          },
          "metadata": {},
          "execution_count": 43
        }
      ]
    },
    {
      "cell_type": "code",
      "metadata": {
        "colab": {
          "base_uri": "https://localhost:8080/",
          "height": 347
        },
        "id": "iGmZkI7eTG3j",
        "outputId": "5e0352d6-3a3b-4737-fb6e-db48165ab3f4"
      },
      "source": [
        "df['customer_type'].value_counts().plot.bar()"
      ],
      "execution_count": 44,
      "outputs": [
        {
          "output_type": "execute_result",
          "data": {
            "text/plain": [
              "<matplotlib.axes._subplots.AxesSubplot at 0x7fa6c016a910>"
            ]
          },
          "metadata": {},
          "execution_count": 44
        },
        {
          "output_type": "display_data",
          "data": {
            "image/png": "[encoded data removed]",
            "text/plain": [
              "<Figure size 432x288 with 1 Axes>"
            ]
          },
          "metadata": {
            "needs_background": "light"
          }
        }
      ]
    },
    {
      "cell_type": "markdown",
      "metadata": {
        "id": "LBeL_28AULZq"
      },
      "source": [
        "reservation_status"
      ]
    },
    {
      "cell_type": "code",
      "metadata": {
        "colab": {
          "base_uri": "https://localhost:8080/"
        },
        "id": "6jZjrynyUGnm",
        "outputId": "c9a55ade-dead-4920-bec8-789efc1b474b"
      },
      "source": [
        "df['reservation_status'].unique()"
      ],
      "execution_count": 45,
      "outputs": [
        {
          "output_type": "execute_result",
          "data": {
            "text/plain": [
              "array(['Check-Out', 'Canceled', 'No-Show'], dtype=object)"
            ]
          },
          "metadata": {},
          "execution_count": 45
        }
      ]
    },
    {
      "cell_type": "code",
      "metadata": {
        "colab": {
          "base_uri": "https://localhost:8080/"
        },
        "id": "tDG--RFvUVQA",
        "outputId": "cce0e6cd-f812-4dc9-de60-90dc29848451"
      },
      "source": [
        "df['reservation_status'].value_counts()"
      ],
      "execution_count": 46,
      "outputs": [
        {
          "output_type": "execute_result",
          "data": {
            "text/plain": [
              "Check-Out    63371\n",
              "Canceled     23011\n",
              "No-Show       1014\n",
              "Name: reservation_status, dtype: int64"
            ]
          },
          "metadata": {},
          "execution_count": 46
        }
      ]
    },
    {
      "cell_type": "code",
      "metadata": {
        "colab": {
          "base_uri": "https://localhost:8080/",
          "height": 325
        },
        "id": "RFmK9gQVUZ6W",
        "outputId": "3eb48551-0cac-4ea7-c21a-6297df6c3fca"
      },
      "source": [
        "df['reservation_status'].value_counts().plot.bar()"
      ],
      "execution_count": 47,
      "outputs": [
        {
          "output_type": "execute_result",
          "data": {
            "text/plain": [
              "<matplotlib.axes._subplots.AxesSubplot at 0x7fa6c00e2250>"
            ]
          },
          "metadata": {},
          "execution_count": 47
        },
        {
          "output_type": "display_data",
          "data": {
            "image/png": "[encoded data removed]",
            "text/plain": [
              "<Figure size 432x288 with 1 Axes>"
            ]
          },
          "metadata": {
            "needs_background": "light"
          }
        }
      ]
    },
    {
      "cell_type": "markdown",
      "metadata": {
        "id": "-vCd03lsVgXH"
      },
      "source": [
        "**Inference from Analysis of Categorial Variables**"
      ]
    },
    {
      "cell_type": "markdown",
      "metadata": {
        "id": "bJ0e5BnEVsXt"
      },
      "source": [
        "**Hotel :**There are two variants of hotel type **Resort Hotel** and **City Hotel**. 80% of hotels are city hotels and 20% are Resort hotels. We will further compare on various attributes of these hotels."
      ]
    },
    {
      "cell_type": "markdown",
      "metadata": {
        "id": "Jy5OECIMWqoq"
      },
      "source": [
        "**Meals :** 4 variants of meals are  BB = Bed and Breakfast, HB = Half Board (Breakfast + Dinner), FB = Full Board (Breakfast + Lunch + Dinner), SC = Stay only. Majority of bookings are BB."
      ]
    },
    {
      "cell_type": "markdown",
      "metadata": {
        "id": "gCMpBceyYlAI"
      },
      "source": [
        "**Market_ segment** : Majority of travellers are from onlineTA. But still the variable is still ambgious."
      ]
    },
    {
      "cell_type": "markdown",
      "metadata": {
        "id": "RFl4uyVaY5ou"
      },
      "source": [
        "**Distribution channel :** It is very similar and strongly related to **market_segment** further if it is confirmed I can drop the column."
      ]
    },
    {
      "cell_type": "markdown",
      "metadata": {
        "id": "6RCoR2jPZmwP"
      },
      "source": [
        "**is _repeated_guest :** Hardly 3% of guests are repeated."
      ]
    },
    {
      "cell_type": "markdown",
      "metadata": {
        "id": "CJIY2FaXapvi"
      },
      "source": [
        "**reserved_room_type and assigned_room_type :** This tells us how many customers got the same room as they booked."
      ]
    },
    {
      "cell_type": "markdown",
      "metadata": {
        "id": "NrPZLy7uOZk0"
      },
      "source": [
        "**Deposit type**: Majority of customers are under the category no deposit. There will be more number of chances for cancellation of bookings.\n"
      ]
    },
    {
      "cell_type": "markdown",
      "metadata": {
        "id": "PimvJUndO-_g"
      },
      "source": [
        "**Customer Type:** This column has a lot of null values with majority of Transient customers."
      ]
    },
    {
      "cell_type": "markdown",
      "metadata": {
        "id": "8O-09EcoPXJc"
      },
      "source": [
        "**Reservation Status:**  Checked-out customer is the most common visitor. I am more interested in cancelled and no-show customers. "
      ]
    },
    {
      "cell_type": "markdown",
      "metadata": {
        "id": "FQBwZjgBPqrk"
      },
      "source": [
        "**Univariate Analysis of Numerical Variables**\n",
        "\n",
        "**lead_time**\n"
      ]
    },
    {
      "cell_type": "code",
      "metadata": {
        "colab": {
          "base_uri": "https://localhost:8080/",
          "height": 369
        },
        "id": "VV-5B7sGPndH",
        "outputId": "2ce20c87-0866-4f3b-fa03-189f1f030d91"
      },
      "source": [
        "#frequency distribution of lead_time\n",
        "sns.displot(df['lead_time'],label ='lead_time')\n",
        "plt.show()"
      ],
      "execution_count": 48,
      "outputs": [
        {
          "output_type": "display_data",
          "data": {
            "image/png": "[encoded data removed]",
            "text/plain": [
              "<Figure size 360x360 with 1 Axes>"
            ]
          },
          "metadata": {
            "needs_background": "light"
          }
        }
      ]
    },
    {
      "cell_type": "markdown",
      "metadata": {
        "id": "cyqr5CK8RZOw"
      },
      "source": [
        "**stays_in_weekend_nights**"
      ]
    },
    {
      "cell_type": "code",
      "metadata": {
        "colab": {
          "base_uri": "https://localhost:8080/",
          "height": 369
        },
        "id": "eTUZEcGaRd8r",
        "outputId": "c5b25cdd-0e7a-4e7e-fbfc-0a7957628e75"
      },
      "source": [
        "#frequency distribution of stays in weekend nights\n",
        "sns.displot(df['stays_in_weekend_nights'],label='stays_in_weekend_nights')\n",
        "plt.show()"
      ],
      "execution_count": 49,
      "outputs": [
        {
          "output_type": "display_data",
          "data": {
            "image/png": "[encoded data removed]",
            "text/plain": [
              "<Figure size 360x360 with 1 Axes>"
            ]
          },
          "metadata": {
            "needs_background": "light"
          }
        }
      ]
    },
    {
      "cell_type": "code",
      "metadata": {
        "colab": {
          "base_uri": "https://localhost:8080/"
        },
        "id": "OE6pK_7sScsw",
        "outputId": "3b230bfd-ed0f-4ad6-f5a7-b6411a27f32e"
      },
      "source": [
        "df['stays_in_week_nights'].value_counts()"
      ],
      "execution_count": 50,
      "outputs": [
        {
          "output_type": "execute_result",
          "data": {
            "text/plain": [
              "1     22191\n",
              "2     20744\n",
              "3     16259\n",
              "5      9663\n",
              "4      7874\n",
              "0      6175\n",
              "6      1379\n",
              "10      972\n",
              "7       967\n",
              "8       613\n",
              "9       219\n",
              "15       68\n",
              "11       50\n",
              "20       41\n",
              "12       40\n",
              "13       27\n",
              "14       25\n",
              "19       21\n",
              "21       15\n",
              "16       13\n",
              "22        7\n",
              "18        6\n",
              "25        6\n",
              "30        5\n",
              "17        4\n",
              "24        2\n",
              "40        2\n",
              "42        1\n",
              "26        1\n",
              "32        1\n",
              "33        1\n",
              "34        1\n",
              "35        1\n",
              "41        1\n",
              "50        1\n",
              "Name: stays_in_week_nights, dtype: int64"
            ]
          },
          "metadata": {},
          "execution_count": 50
        }
      ]
    },
    {
      "cell_type": "code",
      "metadata": {
        "colab": {
          "base_uri": "https://localhost:8080/",
          "height": 285
        },
        "id": "DJ6PR-GgSr3n",
        "outputId": "303a86fb-923b-45f3-f1fa-c4c1b0f7ecfc"
      },
      "source": [
        "df['stays_in_week_nights'].value_counts().plot.bar()"
      ],
      "execution_count": 51,
      "outputs": [
        {
          "output_type": "execute_result",
          "data": {
            "text/plain": [
              "<matplotlib.axes._subplots.AxesSubplot at 0x7fa6bfbc8f90>"
            ]
          },
          "metadata": {},
          "execution_count": 51
        },
        {
          "output_type": "display_data",
          "data": {
            "image/png": "[encoded data removed]",
            "text/plain": [
              "<Figure size 432x288 with 1 Axes>"
            ]
          },
          "metadata": {
            "needs_background": "light"
          }
        }
      ]
    },
    {
      "cell_type": "markdown",
      "metadata": {
        "id": "DT3Rxm20SXP7"
      },
      "source": [
        "**stays_in_week_nights**"
      ]
    },
    {
      "cell_type": "code",
      "metadata": {
        "colab": {
          "base_uri": "https://localhost:8080/",
          "height": 369
        },
        "id": "6DNCXVx5S3_G",
        "outputId": "7fb716c0-3677-4987-f030-f5e583fcaff5"
      },
      "source": [
        "sns.displot(df['stays_in_week_nights'],label='stays_in_week_nights')\n",
        "plt.show()"
      ],
      "execution_count": 52,
      "outputs": [
        {
          "output_type": "display_data",
          "data": {
            "image/png": "[encoded data removed]",
            "text/plain": [
              "<Figure size 360x360 with 1 Axes>"
            ]
          },
          "metadata": {
            "needs_background": "light"
          }
        }
      ]
    },
    {
      "cell_type": "code",
      "metadata": {
        "colab": {
          "base_uri": "https://localhost:8080/"
        },
        "id": "RyyKmfSiTJ2B",
        "outputId": "e1028e6b-95c7-412b-9962-e1037d227aab"
      },
      "source": [
        "df['stays_in_week_nights'].value_counts()"
      ],
      "execution_count": 53,
      "outputs": [
        {
          "output_type": "execute_result",
          "data": {
            "text/plain": [
              "1     22191\n",
              "2     20744\n",
              "3     16259\n",
              "5      9663\n",
              "4      7874\n",
              "0      6175\n",
              "6      1379\n",
              "10      972\n",
              "7       967\n",
              "8       613\n",
              "9       219\n",
              "15       68\n",
              "11       50\n",
              "20       41\n",
              "12       40\n",
              "13       27\n",
              "14       25\n",
              "19       21\n",
              "21       15\n",
              "16       13\n",
              "22        7\n",
              "18        6\n",
              "25        6\n",
              "30        5\n",
              "17        4\n",
              "24        2\n",
              "40        2\n",
              "42        1\n",
              "26        1\n",
              "32        1\n",
              "33        1\n",
              "34        1\n",
              "35        1\n",
              "41        1\n",
              "50        1\n",
              "Name: stays_in_week_nights, dtype: int64"
            ]
          },
          "metadata": {},
          "execution_count": 53
        }
      ]
    },
    {
      "cell_type": "code",
      "metadata": {
        "colab": {
          "base_uri": "https://localhost:8080/",
          "height": 285
        },
        "id": "khnBHkK8TQwZ",
        "outputId": "3c62627d-0697-45dc-e885-5753e96b28aa"
      },
      "source": [
        "df['stays_in_week_nights'].value_counts().plot.bar()"
      ],
      "execution_count": 54,
      "outputs": [
        {
          "output_type": "execute_result",
          "data": {
            "text/plain": [
              "<matplotlib.axes._subplots.AxesSubplot at 0x7fa6bf5ce8d0>"
            ]
          },
          "metadata": {},
          "execution_count": 54
        },
        {
          "output_type": "display_data",
          "data": {
            "image/png": "[encoded data removed]",
            "text/plain": [
              "<Figure size 432x288 with 1 Axes>"
            ]
          },
          "metadata": {
            "needs_background": "light"
          }
        }
      ]
    },
    {
      "cell_type": "markdown",
      "metadata": {
        "id": "NMKdEM2uTmN4"
      },
      "source": [
        "**adults**"
      ]
    },
    {
      "cell_type": "code",
      "metadata": {
        "colab": {
          "base_uri": "https://localhost:8080/"
        },
        "id": "2VTm_dRBTTwy",
        "outputId": "07183f3d-c6cd-4c5c-fbec-a6cb293f10e7"
      },
      "source": [
        "#let's check unique no of adults\n",
        "print(df['adults'].nunique())\n",
        "df['adults'].unique()"
      ],
      "execution_count": 55,
      "outputs": [
        {
          "output_type": "stream",
          "name": "stdout",
          "text": [
            "14\n"
          ]
        },
        {
          "output_type": "execute_result",
          "data": {
            "text/plain": [
              "array([ 2,  1,  3,  4, 40, 26, 50, 27, 55,  0, 20,  6,  5, 10])"
            ]
          },
          "metadata": {},
          "execution_count": 55
        }
      ]
    },
    {
      "cell_type": "code",
      "metadata": {
        "colab": {
          "base_uri": "https://localhost:8080/",
          "height": 369
        },
        "id": "Sd8yGx55UQLR",
        "outputId": "2ac8628f-a2cd-4ae4-b0ab-7f86d0d13e83"
      },
      "source": [
        "#frequency distribution of adults\n",
        "sns.displot(df['adults'],label='adults')\n",
        "plt.show()"
      ],
      "execution_count": 56,
      "outputs": [
        {
          "output_type": "display_data",
          "data": {
            "image/png": "[encoded data removed]",
            "text/plain": [
              "<Figure size 360x360 with 1 Axes>"
            ]
          },
          "metadata": {
            "needs_background": "light"
          }
        }
      ]
    },
    {
      "cell_type": "code",
      "metadata": {
        "colab": {
          "base_uri": "https://localhost:8080/"
        },
        "id": "pftddGNZVCnf",
        "outputId": "1a60d42a-c531-4e54-bd72-5a8e1b34829c"
      },
      "source": [
        "#distribution of number of adults\n",
        "df['adults'].value_counts()"
      ],
      "execution_count": 57,
      "outputs": [
        {
          "output_type": "execute_result",
          "data": {
            "text/plain": [
              "2     64497\n",
              "1     16503\n",
              "3      5935\n",
              "0       385\n",
              "4        60\n",
              "26        5\n",
              "27        2\n",
              "20        2\n",
              "5         2\n",
              "55        1\n",
              "50        1\n",
              "40        1\n",
              "10        1\n",
              "6         1\n",
              "Name: adults, dtype: int64"
            ]
          },
          "metadata": {},
          "execution_count": 57
        }
      ]
    },
    {
      "cell_type": "code",
      "metadata": {
        "colab": {
          "base_uri": "https://localhost:8080/",
          "height": 285
        },
        "id": "jMr3ekfaVMPs",
        "outputId": "369bfd25-e2ec-4286-c354-ed37e48456ee"
      },
      "source": [
        "df['adults'].value_counts().plot.bar()"
      ],
      "execution_count": 58,
      "outputs": [
        {
          "output_type": "execute_result",
          "data": {
            "text/plain": [
              "<matplotlib.axes._subplots.AxesSubplot at 0x7fa6bfb5acd0>"
            ]
          },
          "metadata": {},
          "execution_count": 58
        },
        {
          "output_type": "display_data",
          "data": {
            "image/png": "[encoded data removed]",
            "text/plain": [
              "<Figure size 432x288 with 1 Axes>"
            ]
          },
          "metadata": {
            "needs_background": "light"
          }
        }
      ]
    },
    {
      "cell_type": "markdown",
      "metadata": {
        "id": "po32epruVTnl"
      },
      "source": [
        "**children**"
      ]
    },
    {
      "cell_type": "code",
      "metadata": {
        "colab": {
          "base_uri": "https://localhost:8080/"
        },
        "id": "FjfgPVFIVQm-",
        "outputId": "dc47396a-7410-483b-99db-a7cb9ab80c0d"
      },
      "source": [
        "#let's check unique no of children\n",
        "print(df['children'].nunique())\n",
        "df['children'].unique()"
      ],
      "execution_count": 59,
      "outputs": [
        {
          "output_type": "stream",
          "name": "stdout",
          "text": [
            "5\n"
          ]
        },
        {
          "output_type": "execute_result",
          "data": {
            "text/plain": [
              "array([ 0.,  1.,  2., 10.,  3., nan])"
            ]
          },
          "metadata": {},
          "execution_count": 59
        }
      ]
    },
    {
      "cell_type": "code",
      "metadata": {
        "colab": {
          "base_uri": "https://localhost:8080/",
          "height": 369
        },
        "id": "aIHgKHjZVjCM",
        "outputId": "ae786a25-c51a-459c-d835-e55d1948b163"
      },
      "source": [
        "#frequency distribution of children\n",
        "sns.displot(df['children'],label='children')\n",
        "plt.show()"
      ],
      "execution_count": 60,
      "outputs": [
        {
          "output_type": "display_data",
          "data": {
            "image/png": "[encoded data removed]",
            "text/plain": [
              "<Figure size 360x360 with 1 Axes>"
            ]
          },
          "metadata": {
            "needs_background": "light"
          }
        }
      ]
    },
    {
      "cell_type": "code",
      "metadata": {
        "colab": {
          "base_uri": "https://localhost:8080/"
        },
        "id": "MODoI-cuVrIL",
        "outputId": "eaac481f-f6cd-4503-f484-7588dfb573cc"
      },
      "source": [
        "#distribution of number of children\n",
        "df['children'].value_counts()"
      ],
      "execution_count": 61,
      "outputs": [
        {
          "output_type": "execute_result",
          "data": {
            "text/plain": [
              "0.0     79028\n",
              "1.0      4695\n",
              "2.0      3593\n",
              "3.0        75\n",
              "10.0        1\n",
              "Name: children, dtype: int64"
            ]
          },
          "metadata": {},
          "execution_count": 61
        }
      ]
    },
    {
      "cell_type": "code",
      "metadata": {
        "colab": {
          "base_uri": "https://localhost:8080/",
          "height": 294
        },
        "id": "y7n1ss2GWXSJ",
        "outputId": "b07f2a4d-f40d-4cd9-cc97-2d728532da5d"
      },
      "source": [
        "df['children'].value_counts().plot.bar()"
      ],
      "execution_count": 62,
      "outputs": [
        {
          "output_type": "execute_result",
          "data": {
            "text/plain": [
              "<matplotlib.axes._subplots.AxesSubplot at 0x7fa6bf31cb10>"
            ]
          },
          "metadata": {},
          "execution_count": 62
        },
        {
          "output_type": "display_data",
          "data": {
            "image/png": "[encoded data removed]",
            "text/plain": [
              "<Figure size 432x288 with 1 Axes>"
            ]
          },
          "metadata": {
            "needs_background": "light"
          }
        }
      ]
    },
    {
      "cell_type": "markdown",
      "metadata": {
        "id": "KKunJcNfWnZj"
      },
      "source": [
        "**babies**"
      ]
    },
    {
      "cell_type": "code",
      "metadata": {
        "colab": {
          "base_uri": "https://localhost:8080/"
        },
        "id": "Hj5JxcRlWfu0",
        "outputId": "a0e452eb-2d35-4abe-8d5e-ef1bf1308df7"
      },
      "source": [
        "#let's check unique no of babies\n",
        "print(df['babies'].nunique())\n",
        "df['babies'].unique()"
      ],
      "execution_count": 63,
      "outputs": [
        {
          "output_type": "stream",
          "name": "stdout",
          "text": [
            "5\n"
          ]
        },
        {
          "output_type": "execute_result",
          "data": {
            "text/plain": [
              "array([ 0,  1,  2, 10,  9])"
            ]
          },
          "metadata": {},
          "execution_count": 63
        }
      ]
    },
    {
      "cell_type": "code",
      "metadata": {
        "colab": {
          "base_uri": "https://localhost:8080/",
          "height": 369
        },
        "id": "mE18RrrsWz9v",
        "outputId": "7869f949-2928-4ee9-ce6e-c5c6f0b4fab1"
      },
      "source": [
        "#frequency distribution of babies\n",
        "sns.displot(df['babies'],label='babies')\n",
        "plt.show()"
      ],
      "execution_count": 64,
      "outputs": [
        {
          "output_type": "display_data",
          "data": {
            "image/png": "[encoded data removed]",
            "text/plain": [
              "<Figure size 360x360 with 1 Axes>"
            ]
          },
          "metadata": {
            "needs_background": "light"
          }
        }
      ]
    },
    {
      "cell_type": "code",
      "metadata": {
        "colab": {
          "base_uri": "https://localhost:8080/"
        },
        "id": "JtFPZiqxW-Ci",
        "outputId": "c8a43c39-b2f4-49ed-836c-6f61a8f34962"
      },
      "source": [
        "#distribution of number of babies\n",
        "df['babies'].value_counts()"
      ],
      "execution_count": 65,
      "outputs": [
        {
          "output_type": "execute_result",
          "data": {
            "text/plain": [
              "0     86482\n",
              "1       897\n",
              "2        15\n",
              "10        1\n",
              "9         1\n",
              "Name: babies, dtype: int64"
            ]
          },
          "metadata": {},
          "execution_count": 65
        }
      ]
    },
    {
      "cell_type": "code",
      "metadata": {
        "colab": {
          "base_uri": "https://localhost:8080/",
          "height": 285
        },
        "id": "QRkYbtg7XDq6",
        "outputId": "4b18e492-eda6-442b-faf8-24cb231c47c5"
      },
      "source": [
        "df['babies'].value_counts().plot.bar()"
      ],
      "execution_count": 66,
      "outputs": [
        {
          "output_type": "execute_result",
          "data": {
            "text/plain": [
              "<matplotlib.axes._subplots.AxesSubplot at 0x7fa6bf238d50>"
            ]
          },
          "metadata": {},
          "execution_count": 66
        },
        {
          "output_type": "display_data",
          "data": {
            "image/png": "[encoded data removed]",
            "text/plain": [
              "<Figure size 432x288 with 1 Axes>"
            ]
          },
          "metadata": {
            "needs_background": "light"
          }
        }
      ]
    },
    {
      "cell_type": "markdown",
      "metadata": {
        "id": "YlBqHh4uaXsX"
      },
      "source": [
        "**previous_cancellations**"
      ]
    },
    {
      "cell_type": "code",
      "metadata": {
        "colab": {
          "base_uri": "https://localhost:8080/"
        },
        "id": "5vhezsdMXJLC",
        "outputId": "ffa15de6-0828-498d-ef38-d642dd19068f"
      },
      "source": [
        "#let's check unique no of previous_cancellations\n",
        "print(df['previous_cancellations'].nunique())\n",
        "df['previous_cancellations'].unique()"
      ],
      "execution_count": 67,
      "outputs": [
        {
          "output_type": "stream",
          "name": "stdout",
          "text": [
            "15\n"
          ]
        },
        {
          "output_type": "execute_result",
          "data": {
            "text/plain": [
              "array([ 0,  1,  2,  3, 26, 25, 14,  4, 24, 19,  5, 21,  6, 13, 11])"
            ]
          },
          "metadata": {},
          "execution_count": 67
        }
      ]
    },
    {
      "cell_type": "code",
      "metadata": {
        "colab": {
          "base_uri": "https://localhost:8080/",
          "height": 369
        },
        "id": "vUl3e9e1arJ0",
        "outputId": "8977975e-6c6c-489e-cd81-56ee405c275c"
      },
      "source": [
        "#frequency distribution of previous_cancellations\n",
        "sns.displot(df['previous_cancellations'],label='previous_cancellations')\n",
        "plt.show()"
      ],
      "execution_count": 68,
      "outputs": [
        {
          "output_type": "display_data",
          "data": {
            "image/png": "[encoded data removed]",
            "text/plain": [
              "<Figure size 360x360 with 1 Axes>"
            ]
          },
          "metadata": {
            "needs_background": "light"
          }
        }
      ]
    },
    {
      "cell_type": "code",
      "metadata": {
        "colab": {
          "base_uri": "https://localhost:8080/"
        },
        "id": "_1VPNHX5a0Ge",
        "outputId": "ea0a098d-c8a8-420d-ae37-02ff5af789d9"
      },
      "source": [
        "#distribution of number of previous_cancellations\n",
        "df['previous_cancellations'].value_counts()"
      ],
      "execution_count": 69,
      "outputs": [
        {
          "output_type": "execute_result",
          "data": {
            "text/plain": [
              "0     85711\n",
              "1      1407\n",
              "2       112\n",
              "3        61\n",
              "4        30\n",
              "11       27\n",
              "5        19\n",
              "6        17\n",
              "13        4\n",
              "25        2\n",
              "24        2\n",
              "26        1\n",
              "21        1\n",
              "19        1\n",
              "14        1\n",
              "Name: previous_cancellations, dtype: int64"
            ]
          },
          "metadata": {},
          "execution_count": 69
        }
      ]
    },
    {
      "cell_type": "code",
      "metadata": {
        "colab": {
          "base_uri": "https://localhost:8080/",
          "height": 285
        },
        "id": "bn-HWk3KbD6C",
        "outputId": "3fd5c656-e140-4ce4-e48f-f3c0b2d7536c"
      },
      "source": [
        "# Distribution of number of previous_cancellations\n",
        "\n",
        "df['previous_cancellations'].value_counts(normalize = True).plot.bar()"
      ],
      "execution_count": 70,
      "outputs": [
        {
          "output_type": "execute_result",
          "data": {
            "text/plain": [
              "<matplotlib.axes._subplots.AxesSubplot at 0x7fa6bf16be10>"
            ]
          },
          "metadata": {},
          "execution_count": 70
        },
        {
          "output_type": "display_data",
          "data": {
            "image/png": "[encoded data removed]",
            "text/plain": [
              "<Figure size 432x288 with 1 Axes>"
            ]
          },
          "metadata": {
            "needs_background": "light"
          }
        }
      ]
    },
    {
      "cell_type": "markdown",
      "metadata": {
        "id": "rxDp5quDbIVy"
      },
      "source": [
        "**previous_bookings_not_canceled**"
      ]
    },
    {
      "cell_type": "code",
      "metadata": {
        "colab": {
          "base_uri": "https://localhost:8080/"
        },
        "id": "NBVg2XiObLpf",
        "outputId": "99947a95-d70f-460b-c5b6-c7890413fc81"
      },
      "source": [
        "#let's check unique no of previous_bookings_not_canceled\n",
        "print(df['previous_bookings_not_canceled'].nunique())\n",
        "df['previous_bookings_not_canceled'].unique()"
      ],
      "execution_count": 71,
      "outputs": [
        {
          "output_type": "stream",
          "name": "stdout",
          "text": [
            "73\n"
          ]
        },
        {
          "output_type": "execute_result",
          "data": {
            "text/plain": [
              "array([ 0,  1,  2,  3,  4,  5,  6,  7,  8,  9, 10, 11, 12, 13, 14, 15, 16,\n",
              "       17, 18, 20, 21, 22, 23, 24, 25, 27, 28, 29, 30, 19, 26, 31, 32, 33,\n",
              "       34, 35, 36, 37, 38, 39, 40, 41, 42, 43, 44, 45, 46, 47, 48, 49, 50,\n",
              "       51, 52, 53, 54, 55, 56, 57, 58, 59, 60, 61, 62, 63, 64, 65, 66, 67,\n",
              "       68, 69, 70, 71, 72])"
            ]
          },
          "metadata": {},
          "execution_count": 71
        }
      ]
    },
    {
      "cell_type": "code",
      "metadata": {
        "colab": {
          "base_uri": "https://localhost:8080/",
          "height": 369
        },
        "id": "LJnzSh7NbjXB",
        "outputId": "9b6cb85a-4c00-4cf7-e1d3-21cfb34a227f"
      },
      "source": [
        "#frequency distribution of previous_bookings_not_canceled\n",
        "sns.displot(df['previous_bookings_not_canceled'],label='previous_bookings_not_canceled')\n",
        "plt.show()"
      ],
      "execution_count": 72,
      "outputs": [
        {
          "output_type": "display_data",
          "data": {
            "image/png": "[encoded data removed]",
            "text/plain": [
              "<Figure size 360x360 with 1 Axes>"
            ]
          },
          "metadata": {
            "needs_background": "light"
          }
        }
      ]
    },
    {
      "cell_type": "code",
      "metadata": {
        "colab": {
          "base_uri": "https://localhost:8080/"
        },
        "id": "NlZHQ13sbu3n",
        "outputId": "059f8f42-926e-492d-8adb-0875902639bb"
      },
      "source": [
        "#distribution of number of previous_bookings_not_canceled\n",
        "df['previous_bookings_not_canceled'].value_counts()"
      ],
      "execution_count": 73,
      "outputs": [
        {
          "output_type": "execute_result",
          "data": {
            "text/plain": [
              "0     83851\n",
              "1      1482\n",
              "2       580\n",
              "3       331\n",
              "4       228\n",
              "      ...  \n",
              "47        1\n",
              "36        1\n",
              "49        1\n",
              "50        1\n",
              "63        1\n",
              "Name: previous_bookings_not_canceled, Length: 73, dtype: int64"
            ]
          },
          "metadata": {},
          "execution_count": 73
        }
      ]
    },
    {
      "cell_type": "markdown",
      "metadata": {
        "id": "rTl8tQwbhdRI"
      },
      "source": [
        "**booking_changes**"
      ]
    },
    {
      "cell_type": "code",
      "metadata": {
        "colab": {
          "base_uri": "https://localhost:8080/"
        },
        "id": "nq8BjKjghk3Y",
        "outputId": "f5d8c909-d3f4-446f-fbde-cc04c9ab04c5"
      },
      "source": [
        "#let's check unique no of booking_changes\n",
        "print(df['booking_changes'].nunique())\n",
        "df['booking_changes'].unique()"
      ],
      "execution_count": 74,
      "outputs": [
        {
          "output_type": "stream",
          "name": "stdout",
          "text": [
            "21\n"
          ]
        },
        {
          "output_type": "execute_result",
          "data": {
            "text/plain": [
              "array([ 3,  4,  0,  1,  2,  5, 17,  6,  8,  7, 10, 16,  9, 13, 12, 20, 14,\n",
              "       15, 11, 21, 18])"
            ]
          },
          "metadata": {},
          "execution_count": 74
        }
      ]
    },
    {
      "cell_type": "code",
      "metadata": {
        "colab": {
          "base_uri": "https://localhost:8080/",
          "height": 369
        },
        "id": "aLFFanuuhsvv",
        "outputId": "b6d1601a-c898-4b37-dce8-60a5c2e4e1ff"
      },
      "source": [
        "#frequency distribution of booking_changes\n",
        "sns.displot(df['booking_changes'],label='booking_changes')\n",
        "plt.show()"
      ],
      "execution_count": 75,
      "outputs": [
        {
          "output_type": "display_data",
          "data": {
            "image/png": "[encoded data removed]",
            "text/plain": [
              "<Figure size 360x360 with 1 Axes>"
            ]
          },
          "metadata": {
            "needs_background": "light"
          }
        }
      ]
    },
    {
      "cell_type": "code",
      "metadata": {
        "colab": {
          "base_uri": "https://localhost:8080/"
        },
        "id": "8My43gMKh00C",
        "outputId": "6cb3e27a-4627-426f-f010-ea40f1b56f6e"
      },
      "source": [
        "#distribution of number of booking_changes\n",
        "df['booking_changes'].value_counts()"
      ],
      "execution_count": 76,
      "outputs": [
        {
          "output_type": "execute_result",
          "data": {
            "text/plain": [
              "0     71494\n",
              "1     10902\n",
              "2      3508\n",
              "3       875\n",
              "4       356\n",
              "5       116\n",
              "6        59\n",
              "7        31\n",
              "8        17\n",
              "9         8\n",
              "10        6\n",
              "13        5\n",
              "14        5\n",
              "15        3\n",
              "11        2\n",
              "12        2\n",
              "16        2\n",
              "17        2\n",
              "20        1\n",
              "18        1\n",
              "21        1\n",
              "Name: booking_changes, dtype: int64"
            ]
          },
          "metadata": {},
          "execution_count": 76
        }
      ]
    },
    {
      "cell_type": "code",
      "metadata": {
        "colab": {
          "base_uri": "https://localhost:8080/",
          "height": 285
        },
        "id": "n5DKMyRdh9sC",
        "outputId": "42f7a975-0e78-4058-f862-f055f0e06004"
      },
      "source": [
        "# Distribution of number of booking_changes\n",
        "\n",
        "df['booking_changes'].value_counts(normalize = True).plot.bar()"
      ],
      "execution_count": 77,
      "outputs": [
        {
          "output_type": "execute_result",
          "data": {
            "text/plain": [
              "<matplotlib.axes._subplots.AxesSubplot at 0x7fa6beeecf90>"
            ]
          },
          "metadata": {},
          "execution_count": 77
        },
        {
          "output_type": "display_data",
          "data": {
            "image/png": "[encoded data removed]",
            "text/plain": [
              "<Figure size 432x288 with 1 Axes>"
            ]
          },
          "metadata": {
            "needs_background": "light"
          }
        }
      ]
    },
    {
      "cell_type": "markdown",
      "metadata": {
        "id": "JjMlHLnUiLlO"
      },
      "source": [
        "**days_in_waiting_list**"
      ]
    },
    {
      "cell_type": "code",
      "metadata": {
        "colab": {
          "base_uri": "https://localhost:8080/"
        },
        "id": "sOmmbcP9iKmv",
        "outputId": "bd63d4ab-6583-41cf-92ff-697726f2a86b"
      },
      "source": [
        "#let's check unique no of days_in_waiting_list\n",
        "print(df['days_in_waiting_list'].nunique())\n",
        "df['days_in_waiting_list'].unique()"
      ],
      "execution_count": 78,
      "outputs": [
        {
          "output_type": "stream",
          "name": "stdout",
          "text": [
            "128\n"
          ]
        },
        {
          "output_type": "execute_result",
          "data": {
            "text/plain": [
              "array([  0,  50,  47,  65, 122,  75, 101, 150, 125,  14,  60,  34, 100,\n",
              "        22, 121,  61,  39,   5,   1,   8, 107,  43,  52,   2,  11, 142,\n",
              "       116,  13,  44,  97,  83,   4, 113,  18,  20, 185,  93, 109,   6,\n",
              "        37, 105, 154,  64,  99,  38,  48,  33,  77,  21,  80,  59,  40,\n",
              "        58,  89,  53,  49,  69,  87,  91,  57, 111,  79,  98,  85,  63,\n",
              "        15,   3,  41, 224,  31,  56, 187, 176,  71,  55,  96, 236, 259,\n",
              "       207, 215, 160, 120,  30,  32,  27,  62,  24, 108, 147, 379,  70,\n",
              "        35, 178, 330, 223, 174, 162, 391,  68, 193,  10,  76,  16,  28,\n",
              "         9, 165,  17,  25,  46,   7,  84, 175, 183,  23, 117,  12,  54,\n",
              "        26,  73,  45,  19,  42,  72,  81,  92,  74, 167,  36])"
            ]
          },
          "metadata": {},
          "execution_count": 78
        }
      ]
    },
    {
      "cell_type": "code",
      "metadata": {
        "colab": {
          "base_uri": "https://localhost:8080/",
          "height": 369
        },
        "id": "JwrxJ_crjBE3",
        "outputId": "a9d08f1d-1ae3-40d5-a71e-8befb7cd75fe"
      },
      "source": [
        "#frequency distribution of days_in_waiting_list\n",
        "sns.displot(df['days_in_waiting_list'],label='days_in_waiting_list')\n",
        "plt.show()"
      ],
      "execution_count": 79,
      "outputs": [
        {
          "output_type": "display_data",
          "data": {
            "image/png": "[encoded data removed]",
            "text/plain": [
              "<Figure size 360x360 with 1 Axes>"
            ]
          },
          "metadata": {
            "needs_background": "light"
          }
        }
      ]
    },
    {
      "cell_type": "code",
      "metadata": {
        "colab": {
          "base_uri": "https://localhost:8080/"
        },
        "id": "XjuqDRNJk9cl",
        "outputId": "0de38745-4887-44d6-e5cc-b366b7db3366"
      },
      "source": [
        "#distribution of number of days_in_waiting_list\n",
        "df['days_in_waiting_list'].value_counts(normalize=True)"
      ],
      "execution_count": 80,
      "outputs": [
        {
          "output_type": "execute_result",
          "data": {
            "text/plain": [
              "0      0.990160\n",
              "63     0.000606\n",
              "87     0.000286\n",
              "44     0.000263\n",
              "15     0.000252\n",
              "         ...   \n",
              "120    0.000011\n",
              "89     0.000011\n",
              "85     0.000011\n",
              "55     0.000011\n",
              "62     0.000011\n",
              "Name: days_in_waiting_list, Length: 128, dtype: float64"
            ]
          },
          "metadata": {},
          "execution_count": 80
        }
      ]
    },
    {
      "cell_type": "markdown",
      "metadata": {
        "id": "Mp1YEAqIUM7O"
      },
      "source": [
        "**adr**"
      ]
    },
    {
      "cell_type": "code",
      "metadata": {
        "colab": {
          "base_uri": "https://localhost:8080/",
          "height": 334
        },
        "id": "Fq26t9IFULPD",
        "outputId": "9487ace0-7973-460d-aadb-71cd4493281f"
      },
      "source": [
        "# Let's check the frequency distribution of adr\n",
        "\n",
        "sns.distplot(df['adr'], label = 'adr')\n",
        "plt.show()"
      ],
      "execution_count": 81,
      "outputs": [
        {
          "output_type": "stream",
          "name": "stderr",
          "text": [
            "/usr/local/lib/python3.7/dist-packages/seaborn/distributions.py:2619: FutureWarning: `distplot` is a deprecated function and will be removed in a future version. Please adapt your code to use either `displot` (a figure-level function with similar flexibility) or `histplot` (an axes-level function for histograms).\n",
            "  warnings.warn(msg, FutureWarning)\n"
          ]
        },
        {
          "output_type": "display_data",
          "data": {
            "image/png": "[encoded data removed]",
            "text/plain": [
              "<Figure size 432x288 with 1 Axes>"
            ]
          },
          "metadata": {
            "needs_background": "light"
          }
        }
      ]
    },
    {
      "cell_type": "markdown",
      "metadata": {
        "id": "CCCFhOKVUjja"
      },
      "source": [
        "**required_car_parking_spaces**"
      ]
    },
    {
      "cell_type": "code",
      "metadata": {
        "colab": {
          "base_uri": "https://localhost:8080/"
        },
        "id": "VVTqLM8OUQ-Q",
        "outputId": "981b6859-f96e-4be5-d1e3-4d1a696456fa"
      },
      "source": [
        "#let's check unique no of required_car_parking_spaces\n",
        "print(df['required_car_parking_spaces'].nunique())\n",
        "df['required_car_parking_spaces'].unique()"
      ],
      "execution_count": 82,
      "outputs": [
        {
          "output_type": "stream",
          "name": "stdout",
          "text": [
            "5\n"
          ]
        },
        {
          "output_type": "execute_result",
          "data": {
            "text/plain": [
              "array([0, 1, 2, 8, 3])"
            ]
          },
          "metadata": {},
          "execution_count": 82
        }
      ]
    },
    {
      "cell_type": "code",
      "metadata": {
        "colab": {
          "base_uri": "https://localhost:8080/",
          "height": 369
        },
        "id": "CPlv3DuSU1MR",
        "outputId": "8c08f7b5-c0da-4135-a768-4475395203e8"
      },
      "source": [
        "#frequency distribution of required_car_parking_spaces\n",
        "sns.displot(df['required_car_parking_spaces'],label='required_car_parking_spaces')\n",
        "plt.show()"
      ],
      "execution_count": 83,
      "outputs": [
        {
          "output_type": "display_data",
          "data": {
            "image/png": "[encoded data removed]",
            "text/plain": [
              "<Figure size 360x360 with 1 Axes>"
            ]
          },
          "metadata": {
            "needs_background": "light"
          }
        }
      ]
    },
    {
      "cell_type": "code",
      "metadata": {
        "colab": {
          "base_uri": "https://localhost:8080/"
        },
        "id": "uxlwD_AuVJhi",
        "outputId": "53bd427b-265d-4867-efc9-db8c9267b2cb"
      },
      "source": [
        "#distribution of number of required_car_parking_spaces\n",
        "df['required_car_parking_spaces'].value_counts()"
      ],
      "execution_count": 84,
      "outputs": [
        {
          "output_type": "execute_result",
          "data": {
            "text/plain": [
              "0    80083\n",
              "1     7280\n",
              "2       28\n",
              "3        3\n",
              "8        2\n",
              "Name: required_car_parking_spaces, dtype: int64"
            ]
          },
          "metadata": {},
          "execution_count": 84
        }
      ]
    },
    {
      "cell_type": "code",
      "metadata": {
        "colab": {
          "base_uri": "https://localhost:8080/",
          "height": 279
        },
        "id": "Maq6XLivVW1g",
        "outputId": "07ce55e3-c1e9-4b28-85cf-29060adb5b93"
      },
      "source": [
        "# Distribution of number of required_car_parking_spaces\n",
        "\n",
        "df['required_car_parking_spaces'].value_counts(normalize = True).plot.bar()"
      ],
      "execution_count": 85,
      "outputs": [
        {
          "output_type": "execute_result",
          "data": {
            "text/plain": [
              "<matplotlib.axes._subplots.AxesSubplot at 0x7fa6beb58090>"
            ]
          },
          "metadata": {},
          "execution_count": 85
        },
        {
          "output_type": "display_data",
          "data": {
            "image/png": "[encoded data removed]",
            "text/plain": [
              "<Figure size 432x288 with 1 Axes>"
            ]
          },
          "metadata": {
            "needs_background": "light"
          }
        }
      ]
    },
    {
      "cell_type": "markdown",
      "metadata": {
        "id": "kaGq5HFXVhwR"
      },
      "source": [
        "**total of special requests**"
      ]
    },
    {
      "cell_type": "code",
      "metadata": {
        "colab": {
          "base_uri": "https://localhost:8080/"
        },
        "id": "Jzd3IAAcVec_",
        "outputId": "36bdc726-f4d5-41a2-9e28-4c800b06eaed"
      },
      "source": [
        "#let's check unique no of total_of_special_requests\n",
        "print(df['total_of_special_requests'].nunique())\n",
        "df['total_of_special_requests'].unique()"
      ],
      "execution_count": 86,
      "outputs": [
        {
          "output_type": "stream",
          "name": "stdout",
          "text": [
            "6\n"
          ]
        },
        {
          "output_type": "execute_result",
          "data": {
            "text/plain": [
              "array([0, 1, 3, 2, 4, 5])"
            ]
          },
          "metadata": {},
          "execution_count": 86
        }
      ]
    },
    {
      "cell_type": "code",
      "metadata": {
        "colab": {
          "base_uri": "https://localhost:8080/",
          "height": 369
        },
        "id": "RmEjn_bmWKFA",
        "outputId": "77559529-6a50-4394-c679-63255c6d53c4"
      },
      "source": [
        "#frequency distribution of total_of_special_requests\n",
        "sns.displot(df['total_of_special_requests'],label='total_of_special_requests')\n",
        "plt.show()"
      ],
      "execution_count": 87,
      "outputs": [
        {
          "output_type": "display_data",
          "data": {
            "image/png": "[encoded data removed]",
            "text/plain": [
              "<Figure size 360x360 with 1 Axes>"
            ]
          },
          "metadata": {
            "needs_background": "light"
          }
        }
      ]
    },
    {
      "cell_type": "code",
      "metadata": {
        "colab": {
          "base_uri": "https://localhost:8080/"
        },
        "id": "uCBTkrs-WTZ7",
        "outputId": "57dc00ad-40be-447d-9082-885c13dc2f55"
      },
      "source": [
        "#distribution of number of total_of_special_requests\n",
        "df['total_of_special_requests'].value_counts()"
      ],
      "execution_count": 88,
      "outputs": [
        {
          "output_type": "execute_result",
          "data": {
            "text/plain": [
              "0    43894\n",
              "1    29017\n",
              "2    11812\n",
              "3     2317\n",
              "4      320\n",
              "5       36\n",
              "Name: total_of_special_requests, dtype: int64"
            ]
          },
          "metadata": {},
          "execution_count": 88
        }
      ]
    },
    {
      "cell_type": "code",
      "metadata": {
        "colab": {
          "base_uri": "https://localhost:8080/",
          "height": 279
        },
        "id": "U9yYVApnWcp1",
        "outputId": "e497b0e3-56f0-4eea-b83d-2934349ee09b"
      },
      "source": [
        "# Distribution of number of total_of_special_requests\n",
        "\n",
        "df['total_of_special_requests'].value_counts(normalize = True).plot.bar()"
      ],
      "execution_count": 89,
      "outputs": [
        {
          "output_type": "execute_result",
          "data": {
            "text/plain": [
              "<matplotlib.axes._subplots.AxesSubplot at 0x7fa6bec35d50>"
            ]
          },
          "metadata": {},
          "execution_count": 89
        },
        {
          "output_type": "display_data",
          "data": {
            "image/png": "[encoded data removed]",
            "text/plain": [
              "<Figure size 432x288 with 1 Axes>"
            ]
          },
          "metadata": {
            "needs_background": "light"
          }
        }
      ]
    },
    {
      "cell_type": "markdown",
      "metadata": {
        "id": "efnwgS5eW7Bh"
      },
      "source": [
        "**Inference from Univariate Analysis of Numerical Variables**"
      ]
    },
    {
      "cell_type": "markdown",
      "metadata": {
        "id": "_nYDqCJmXkQd"
      },
      "source": [
        "\n",
        "\n",
        "1. **Lead Time** - Majority of the calls have a very low lead time.\n",
        "\n",
        "2. **stays_in_weekend_nights** - Majority people had 0-2 weekend nights of stay. There are only 2 people having 18 & 19 weekend nights.\n",
        "\n",
        "3. **stays_in_week_nights** - Majority people had 0-5 week nights of stay. There are only 10 people having more than 40 week nights.\n",
        "\n",
        "4. **adults** - Majority bookings had 2 adults.\n",
        "\n",
        "5. **children and babies** - Majority people travelled without children and babies.\n",
        "\n",
        "6. **previous_cancellations** - Majority travellers had no previous cancellations. I would like to compare previous_cancellations with current booking's is_cancelled\n",
        "\n",
        "7. **previous_bookings_not_canceled** - Majority people had zero previously uncancelled bookings. \n",
        "\n",
        "8. **booking_changes** - Very few people changed their booking more than 1 time\n",
        "\n",
        "9. **days_in_waiting_list** - Mostly people had no waiting list. However nominal number of travellers had waiting list as high as 391 days. \n",
        "\n",
        "10. **adr** - Not clear\n",
        "\n",
        "11. **required_car_parking** - Majority people didnot require car parking or required 1 car parking. 2 travellers required 8 car parkings. That is a strange request. We can check number of rooms booked, to validate this entry.\n",
        "12. **total_of_special_requests** - Majority people had maximum of 2 soecial requests"
      ]
    },
    {
      "cell_type": "markdown",
      "metadata": {
        "id": "ZPTd-B5Ph8Ts"
      },
      "source": [
        "**Bivariate Analysis**\n",
        "\n",
        "**Bivariate Analysis of Categorial Variables with is_cancelled (dependent variable)**"
      ]
    },
    {
      "cell_type": "code",
      "metadata": {
        "id": "rEVJ5BzzWnz9"
      },
      "source": [
        "categorial = ['hotel','meal','country','market_segment','distribution_channel','is_repeated_guest','reserved_room_type','assigned_room_type','deposit_type','customer_type','reservation_status']"
      ],
      "execution_count": 90,
      "outputs": []
    },
    {
      "cell_type": "code",
      "metadata": {
        "colab": {
          "base_uri": "https://localhost:8080/",
          "height": 1000
        },
        "id": "RwyK1AufjJRA",
        "outputId": "c37a57d8-5ee7-4c20-f3ca-28597271c8f7"
      },
      "source": [
        "for item in categorial:\n",
        "  plot = pd.crosstab(df[item],df['is_canceled'])\n",
        "  plot.div(plot.sum(1).astype(float),axis=0).plot(kind='bar',stacked=True)\n",
        "  plt.show()"
      ],
      "execution_count": 91,
      "outputs": [
        {
          "output_type": "display_data",
          "data": {
            "image/png": "[encoded data removed]",
            "text/plain": [
              "<Figure size 432x288 with 1 Axes>"
            ]
          },
          "metadata": {
            "needs_background": "light"
          }
        },
        {
          "output_type": "display_data",
          "data": {
            "image/png": "[encoded data removed]",
            "text/plain": [
              "<Figure size 432x288 with 1 Axes>"
            ]
          },
          "metadata": {
            "needs_background": "light"
          }
        },
        {
          "output_type": "display_data",
          "data": {
            "image/png": "[encoded data removed]",
            "text/plain": [
              "<Figure size 432x288 with 1 Axes>"
            ]
          },
          "metadata": {
            "needs_background": "light"
          }
        },
        {
          "output_type": "display_data",
          "data": {
            "image/png": "[encoded data removed]",
            "text/plain": [
              "<Figure size 432x288 with 1 Axes>"
            ]
          },
          "metadata": {
            "needs_background": "light"
          }
        },
        {
          "output_type": "display_data",
          "data": {
            "image/png": "[encoded data removed]",
            "text/plain": [
              "<Figure size 432x288 with 1 Axes>"
            ]
          },
          "metadata": {
            "needs_background": "light"
          }
        },
        {
          "output_type": "display_data",
          "data": {
            "image/png": "[encoded data removed]",
            "text/plain": [
              "<Figure size 432x288 with 1 Axes>"
            ]
          },
          "metadata": {
            "needs_background": "light"
          }
        },
        {
          "output_type": "display_data",
          "data": {
            "image/png": "[encoded data removed]",
            "text/plain": [
              "<Figure size 432x288 with 1 Axes>"
            ]
          },
          "metadata": {
            "needs_background": "light"
          }
        },
        {
          "output_type": "display_data",
          "data": {
            "image/png": "[encoded data removed]",
            "text/plain": [
              "<Figure size 432x288 with 1 Axes>"
            ]
          },
          "metadata": {
            "needs_background": "light"
          }
        },
        {
          "output_type": "display_data",
          "data": {
            "image/png": "[encoded data removed]",
            "text/plain": [
              "<Figure size 432x288 with 1 Axes>"
            ]
          },
          "metadata": {
            "needs_background": "light"
          }
        },
        {
          "output_type": "display_data",
          "data": {
            "image/png": "[encoded data removed]",
            "text/plain": [
              "<Figure size 432x288 with 1 Axes>"
            ]
          },
          "metadata": {
            "needs_background": "light"
          }
        },
        {
          "output_type": "display_data",
          "data": {
            "image/png": "[encoded data removed]",
            "text/plain": [
              "<Figure size 432x288 with 1 Axes>"
            ]
          },
          "metadata": {
            "needs_background": "light"
          }
        }
      ]
    },
    {
      "cell_type": "markdown",
      "metadata": {
        "id": "F8TA7LCeumN8"
      },
      "source": [
        "\n",
        "**Inference from Bivariate Analysis of Categorical variables with is_canceled**\n",
        "1. **hotel vs is_canceled** - city hotels had almost 40% cancellations whereas resorts had almost 30% cancellations.\n",
        "\n",
        "2. **meal vs is_canceled** - a booking with \"Full Board\" is more likely to get canceled.\n",
        "\n",
        "3. **market_segment vs is_cancele**d - group bookings are most likely to get canceled. Whereas Complementary, Corporate and Direct Bookings are least likely to get canceled.\n",
        "\n",
        "4. **is_repeated_guest vs is_canceled** - a repeated guest is hardly 10% likely to cancel his booking, while a non repeated guest is 40% likely to cancel\n",
        "\n",
        "5. **reserved_room_type vs is_canceled** - Booking for Room Type \"P\" will definitely get cancelled.\n",
        "\n",
        "6. **assigned_room_type vs is_canceled** - A traveller who is assigned Room Type \"L\" or \"P\", will definitely cancel his booking. Travellers assigned Rooms \"I\" and \"K\" are least likely to cancel.\n",
        "\n",
        "7. **deposit_type vs is_canceled** - Strangely, non-refundable bookings are almost certain to be cancelled. However, it may be noted that \"non-refund\" are very less compared to No Deposit bookings. The fields are highly imbalanced.\n",
        "\n",
        "8. **reservation_status vs is_canceled** - These two fields are highly dependent. Hence, reservation_status may be dropped."
      ]
    },
    {
      "cell_type": "markdown",
      "metadata": {
        "id": "Y0zOPfQUhOpj"
      },
      "source": [
        "**Bivariate Analysis of Categorial Variables with other independent Variables**"
      ]
    },
    {
      "cell_type": "markdown",
      "metadata": {
        "id": "K-MzzupkhaJg"
      },
      "source": [
        "**meal vs duration of stay**"
      ]
    },
    {
      "cell_type": "code",
      "metadata": {
        "id": "8UzzBfSUul6d"
      },
      "source": [
        "df1 = df.copy()"
      ],
      "execution_count": 92,
      "outputs": []
    },
    {
      "cell_type": "code",
      "metadata": {
        "id": "ah2FqRP8h8rT"
      },
      "source": [
        "df1['duration_of_stay'] = df1['stays_in_week_nights'] + df1['stays_in_weekend_nights']"
      ],
      "execution_count": 93,
      "outputs": []
    },
    {
      "cell_type": "code",
      "metadata": {
        "id": "GNlbDjqsiOga"
      },
      "source": [
        "meal_group = df1.groupby(by ='meal')"
      ],
      "execution_count": 94,
      "outputs": []
    },
    {
      "cell_type": "code",
      "metadata": {
        "colab": {
          "base_uri": "https://localhost:8080/"
        },
        "id": "aKijJ0YUiZTX",
        "outputId": "7ead8891-0ab6-46a9-b827-c743b66ca736"
      },
      "source": [
        "mean_stay_meal = meal_group.mean()\n",
        "mean_stay_meal['duration_of_stay'].head()"
      ],
      "execution_count": 95,
      "outputs": [
        {
          "output_type": "execute_result",
          "data": {
            "text/plain": [
              "meal\n",
              "BB           3.507326\n",
              "FB           5.233333\n",
              "HB           5.095872\n",
              "SC           2.966037\n",
              "Undefined    5.250000\n",
              "Name: duration_of_stay, dtype: float64"
            ]
          },
          "metadata": {},
          "execution_count": 95
        }
      ]
    },
    {
      "cell_type": "markdown",
      "metadata": {
        "id": "U1eeaAVoisfs"
      },
      "source": [
        "**market_segment vs distribution channel**"
      ]
    },
    {
      "cell_type": "code",
      "metadata": {
        "colab": {
          "base_uri": "https://localhost:8080/",
          "height": 350
        },
        "id": "UZENjDSIiyAC",
        "outputId": "8ab392a7-acf7-4173-da99-1faec07437d8"
      },
      "source": [
        "plot = pd.crosstab(df['market_segment'],df['distribution_channel'])\n",
        "plot.div(plot.sum(1).astype(float),axis=0).plot(kind='bar',stacked=True)\n",
        "plt.show()"
      ],
      "execution_count": 96,
      "outputs": [
        {
          "output_type": "display_data",
          "data": {
            "image/png": "[encoded data removed]",
            "text/plain": [
              "<Figure size 432x288 with 1 Axes>"
            ]
          },
          "metadata": {
            "needs_background": "light"
          }
        }
      ]
    },
    {
      "cell_type": "markdown",
      "metadata": {
        "id": "tPwmU9RMjdQO"
      },
      "source": [
        "**is_repeated_guest vs is_cancelled**"
      ]
    },
    {
      "cell_type": "code",
      "metadata": {
        "colab": {
          "base_uri": "https://localhost:8080/",
          "height": 277
        },
        "id": "Wjqj1_rejYq4",
        "outputId": "aec008b9-4408-44c8-a5ce-9a4c88394923"
      },
      "source": [
        "plot = pd.crosstab(df['is_repeated_guest'], df['is_canceled'])\n",
        "plot.div(plot.sum(1).astype(float), axis = 0).plot(kind = 'bar', stacked = True)\n",
        "plt.show()"
      ],
      "execution_count": 97,
      "outputs": [
        {
          "output_type": "display_data",
          "data": {
            "image/png": "[encoded data removed]",
            "text/plain": [
              "<Figure size 432x288 with 1 Axes>"
            ]
          },
          "metadata": {
            "needs_background": "light"
          }
        }
      ]
    },
    {
      "cell_type": "markdown",
      "metadata": {
        "id": "wuJYM9IyjqRj"
      },
      "source": [
        "**reserved_room_type and assigned_room_type**"
      ]
    },
    {
      "cell_type": "code",
      "metadata": {
        "colab": {
          "base_uri": "https://localhost:8080/",
          "height": 278
        },
        "id": "KYLSDsEAjxB1",
        "outputId": "5eafb315-d4dc-4b29-ffaa-485d6ae64654"
      },
      "source": [
        "plot = pd.crosstab(df['assigned_room_type'], df['reserved_room_type'])\n",
        "plot.div(plot.sum(1).astype(float), axis = 0).plot(kind = 'bar', stacked = True)\n",
        "plt.show()"
      ],
      "execution_count": 98,
      "outputs": [
        {
          "output_type": "display_data",
          "data": {
            "image/png": "[encoded data removed]",
            "text/plain": [
              "<Figure size 432x288 with 1 Axes>"
            ]
          },
          "metadata": {
            "needs_background": "light"
          }
        }
      ]
    },
    {
      "cell_type": "markdown",
      "metadata": {
        "id": "2DPg63Nfj17r"
      },
      "source": [
        "**reservation_status vs hotel**"
      ]
    },
    {
      "cell_type": "code",
      "metadata": {
        "colab": {
          "base_uri": "https://localhost:8080/",
          "height": 323
        },
        "id": "kEwQnYZ7j7jM",
        "outputId": "364a4409-1e78-4815-94c8-2034331cd59a"
      },
      "source": [
        "plot = pd.crosstab(df['reservation_status'], df['hotel'])\n",
        "plot.div(plot.sum(1).astype(float), axis = 0).plot(kind = 'bar', stacked = True)\n",
        "plt.show()"
      ],
      "execution_count": 99,
      "outputs": [
        {
          "output_type": "display_data",
          "data": {
            "image/png": "[encoded data removed]",
            "text/plain": [
              "<Figure size 432x288 with 1 Axes>"
            ]
          },
          "metadata": {
            "needs_background": "light"
          }
        }
      ]
    },
    {
      "cell_type": "markdown",
      "metadata": {
        "id": "JddBMLgvkAEA"
      },
      "source": [
        "**children vs babies**"
      ]
    },
    {
      "cell_type": "code",
      "metadata": {
        "colab": {
          "base_uri": "https://localhost:8080/",
          "height": 282
        },
        "id": "vtFyYzIkkGDF",
        "outputId": "eb89e1e7-7bae-405e-ed62-7ca650841025"
      },
      "source": [
        "plt.scatter(df['children'], df['babies'])"
      ],
      "execution_count": 100,
      "outputs": [
        {
          "output_type": "execute_result",
          "data": {
            "text/plain": [
              "<matplotlib.collections.PathCollection at 0x7fa6c16ba210>"
            ]
          },
          "metadata": {},
          "execution_count": 100
        },
        {
          "output_type": "display_data",
          "data": {
            "image/png": "[encoded data removed]",
            "text/plain": [
              "<Figure size 432x288 with 1 Axes>"
            ]
          },
          "metadata": {
            "needs_background": "light"
          }
        }
      ]
    },
    {
      "cell_type": "markdown",
      "metadata": {
        "id": "-rhz_mvgkKeJ"
      },
      "source": [
        "\n",
        "**Inference of Bivariate Analysis of Categorical variables with other independent variables**\n",
        "1. **meal vs duration_of_stay** - Travellers with HB (Breakfast + Dinner) had the longest duration of stay on average\n",
        "\n",
        "2. **market_segment vs distribution_channel** - As guessed, these two fields are highly interdependent. And hence one of the column can be dropped\n",
        "\n",
        "3. **reserved_room_type and assigned_room_type** - Majority people got the rooms, which they had booked.\n",
        "\n",
        "4. **reservation_status vs hotel** - Majority (approx 80%) of cancellations and no-shows were in City hotel"
      ]
    },
    {
      "cell_type": "markdown",
      "metadata": {
        "id": "2mu5iW1TkaH_"
      },
      "source": [
        "**Bivariate Analysis of Numerical Variables with is_cancelled (dependent variable)**\n",
        "\n",
        "**lead_time vs is_canceled**"
      ]
    },
    {
      "cell_type": "code",
      "metadata": {
        "colab": {
          "base_uri": "https://localhost:8080/",
          "height": 297
        },
        "id": "TFTE-NL_kjRj",
        "outputId": "638e8601-6099-41f3-ae06-811d6a3dda46"
      },
      "source": [
        "\n",
        "sns.boxplot(x = df.is_canceled, y = df.lead_time)"
      ],
      "execution_count": 101,
      "outputs": [
        {
          "output_type": "execute_result",
          "data": {
            "text/plain": [
              "<matplotlib.axes._subplots.AxesSubplot at 0x7fa6bfac9090>"
            ]
          },
          "metadata": {},
          "execution_count": 101
        },
        {
          "output_type": "display_data",
          "data": {
            "image/png": "[encoded data removed]",
            "text/plain": [
              "<Figure size 432x288 with 1 Axes>"
            ]
          },
          "metadata": {
            "needs_background": "light"
          }
        }
      ]
    },
    {
      "cell_type": "markdown",
      "metadata": {
        "id": "z_qcVyaikqK6"
      },
      "source": [
        "**previous_cancellations vs is_canceled**"
      ]
    },
    {
      "cell_type": "code",
      "metadata": {
        "colab": {
          "base_uri": "https://localhost:8080/",
          "height": 297
        },
        "id": "WZwhm-zjksZU",
        "outputId": "3d9675b8-4db3-4ade-ef9a-30b73cc08d00"
      },
      "source": [
        "sns.boxplot(x = df.is_canceled, y = df.previous_cancellations)"
      ],
      "execution_count": 102,
      "outputs": [
        {
          "output_type": "execute_result",
          "data": {
            "text/plain": [
              "<matplotlib.axes._subplots.AxesSubplot at 0x7fa6bfa2c710>"
            ]
          },
          "metadata": {},
          "execution_count": 102
        },
        {
          "output_type": "display_data",
          "data": {
            "image/png": "[encoded data removed]",
            "text/plain": [
              "<Figure size 432x288 with 1 Axes>"
            ]
          },
          "metadata": {
            "needs_background": "light"
          }
        }
      ]
    },
    {
      "cell_type": "code",
      "metadata": {
        "colab": {
          "base_uri": "https://localhost:8080/",
          "height": 283
        },
        "id": "GYHXFi6qkx1-",
        "outputId": "ec05e841-f2a3-4a7c-a11b-c135ceabdd16"
      },
      "source": [
        "plot = pd.crosstab(df['previous_cancellations'], df['is_canceled'])\n",
        "plot.div(plot.sum(1).astype(float), axis = 0).plot(kind = 'bar', stacked = True)\n",
        "plt.show()"
      ],
      "execution_count": 103,
      "outputs": [
        {
          "output_type": "display_data",
          "data": {
            "image/png": "[encoded data removed]",
            "text/plain": [
              "<Figure size 432x288 with 1 Axes>"
            ]
          },
          "metadata": {
            "needs_background": "light"
          }
        }
      ]
    },
    {
      "cell_type": "markdown",
      "metadata": {
        "id": "nppBGNUYkwi9"
      },
      "source": [
        "**Inference from Bivariate Analysis of Numerical Variables with is_cancelled**\n",
        "1. **lead_time vs is_canceled** - Lead_time for canceled bookings was on an average higher than not_canceled bookings.\n",
        "\n",
        "2. **previous_cancellations vs is_canceled** - Travellers with more than 14 cancellations in the past are certain to cancel the booking in future as well. The travellers with less than 11 cancellations in the past are less likely to cancel the booking in future."
      ]
    },
    {
      "cell_type": "markdown",
      "metadata": {
        "id": "XdXWVhILk_7W"
      },
      "source": [
        "\n",
        "**Bivariate Analysis of Numerical Variables with other independent variables**\n",
        "\n",
        "\n",
        "**hotel vs duration of stay, lead_time, days_in_waiting_list, car_parking and special_requests**"
      ]
    },
    {
      "cell_type": "code",
      "metadata": {
        "id": "MpFQ2KTJlGw3"
      },
      "source": [
        "df1 = df.copy()"
      ],
      "execution_count": 104,
      "outputs": []
    },
    {
      "cell_type": "code",
      "metadata": {
        "id": "9YjGewGdpDrV"
      },
      "source": [
        "df1['duration_of_stay'] = df1['stays_in_week_nights']+df1['stays_in_weekend_nights']"
      ],
      "execution_count": 105,
      "outputs": []
    },
    {
      "cell_type": "code",
      "metadata": {
        "id": "c92rwUfzqc9t"
      },
      "source": [
        "hotel_group = df1.groupby(by = 'hotel')"
      ],
      "execution_count": 106,
      "outputs": []
    },
    {
      "cell_type": "code",
      "metadata": {
        "colab": {
          "base_uri": "https://localhost:8080/",
          "height": 196
        },
        "id": "mm42Ib8ZqhB4",
        "outputId": "7a5b45b6-e7d2-48ba-f6bc-b422c817f966"
      },
      "source": [
        "\n",
        "mean_hotel_stay = hotel_group.mean()\n",
        "mean_hotel_stay.drop(columns = ['arrival_date_year', 'arrival_date_week_number', 'arrival_date_day_of_month',\n",
        "                                'adults', 'children', 'babies',\n",
        "                                'is_repeated_guest', 'previous_cancellations', 'previous_bookings_not_canceled', 'booking_changes',\n",
        "                                'agent', 'company', 'adr'], inplace = True)\n",
        "\n",
        "mean_hotel_stay.head()"
      ],
      "execution_count": 107,
      "outputs": [
        {
          "output_type": "execute_result",
          "data": {
            "text/html": [
              "<div>\n",
              "<style scoped>\n",
              "    .dataframe tbody tr th:only-of-type {\n",
              "        vertical-align: middle;\n",
              "    }\n",
              "\n",
              "    .dataframe tbody tr th {\n",
              "        vertical-align: top;\n",
              "    }\n",
              "\n",
              "    .dataframe thead th {\n",
              "        text-align: right;\n",
              "    }\n",
              "</style>\n",
              "<table border=\"1\" class=\"dataframe\">\n",
              "  <thead>\n",
              "    <tr style=\"text-align: right;\">\n",
              "      <th></th>\n",
              "      <th>is_canceled</th>\n",
              "      <th>lead_time</th>\n",
              "      <th>stays_in_weekend_nights</th>\n",
              "      <th>stays_in_week_nights</th>\n",
              "      <th>days_in_waiting_list</th>\n",
              "      <th>required_car_parking_spaces</th>\n",
              "      <th>total_of_special_requests</th>\n",
              "      <th>duration_of_stay</th>\n",
              "    </tr>\n",
              "    <tr>\n",
              "      <th>hotel</th>\n",
              "      <th></th>\n",
              "      <th></th>\n",
              "      <th></th>\n",
              "      <th></th>\n",
              "      <th></th>\n",
              "      <th></th>\n",
              "      <th></th>\n",
              "      <th></th>\n",
              "    </tr>\n",
              "  </thead>\n",
              "  <tbody>\n",
              "    <tr>\n",
              "      <th>City Hotel</th>\n",
              "      <td>0.300386</td>\n",
              "      <td>77.678521</td>\n",
              "      <td>0.872164</td>\n",
              "      <td>2.274444</td>\n",
              "      <td>1.020233</td>\n",
              "      <td>0.035618</td>\n",
              "      <td>0.710994</td>\n",
              "      <td>3.146609</td>\n",
              "    </tr>\n",
              "    <tr>\n",
              "      <th>Resort Hotel</th>\n",
              "      <td>0.234809</td>\n",
              "      <td>83.371938</td>\n",
              "      <td>1.214614</td>\n",
              "      <td>3.177402</td>\n",
              "      <td>0.323834</td>\n",
              "      <td>0.160681</td>\n",
              "      <td>0.679021</td>\n",
              "      <td>4.392016</td>\n",
              "    </tr>\n",
              "  </tbody>\n",
              "</table>\n",
              "</div>"
            ],
            "text/plain": [
              "              is_canceled  ...  duration_of_stay\n",
              "hotel                      ...                  \n",
              "City Hotel       0.300386  ...          3.146609\n",
              "Resort Hotel     0.234809  ...          4.392016\n",
              "\n",
              "[2 rows x 8 columns]"
            ]
          },
          "metadata": {},
          "execution_count": 107
        }
      ]
    },
    {
      "cell_type": "markdown",
      "metadata": {
        "id": "OU0GsEjGqnCW"
      },
      "source": [
        "**previous_bookings_not_canceled vs is_repeated_guest**"
      ]
    },
    {
      "cell_type": "code",
      "metadata": {
        "colab": {
          "base_uri": "https://localhost:8080/",
          "height": 297
        },
        "id": "wVJou-Lcql3F",
        "outputId": "acb50096-ae9e-443f-cd3b-b0be6371acc5"
      },
      "source": [
        "sns.boxplot(x = df.is_repeated_guest, y = df.previous_bookings_not_canceled)"
      ],
      "execution_count": 108,
      "outputs": [
        {
          "output_type": "execute_result",
          "data": {
            "text/plain": [
              "<matplotlib.axes._subplots.AxesSubplot at 0x7fa6bedaf4d0>"
            ]
          },
          "metadata": {},
          "execution_count": 108
        },
        {
          "output_type": "display_data",
          "data": {
            "image/png": "[encoded data removed]",
            "text/plain": [
              "<Figure size 432x288 with 1 Axes>"
            ]
          },
          "metadata": {
            "needs_background": "light"
          }
        }
      ]
    },
    {
      "cell_type": "markdown",
      "metadata": {
        "id": "mtBDPQhgqx3N"
      },
      "source": [
        "\n",
        "**Inference from Bivariate Analysis of Numerical Variables with other independent variables**\n",
        "1. **hotel vs duration of stay** - On an average, travellers stayed for longer duration in a resort hotel compared to city hotel\n",
        "\n",
        "2. **hotel vs lead_tim**e - On an average, it took longer to generate a lead for a city hotel as compared to resort.\n",
        "\n",
        "3. **hotel vs days_in_waiting_list** - Travellers had to wait for more than 3 days on an average for a city hotel compared to hardly 0.5 day for a resort hotel.\n",
        "\n",
        "4. **hotel vs car_parking and special_requests** - hardly any travellers requested for a car parking in general. However, it may be noted that chances of car parking request is higher in resort hotel than in a city hotel. Special Requests are also slightly higher in a resort hotel.\n",
        "\n",
        "5. **previous_bookings_not_canceled vs is_repeated_guest** - Not clear. There are a lot of outliers."
      ]
    },
    {
      "cell_type": "markdown",
      "metadata": {
        "id": "WXIoORfTrCY1"
      },
      "source": [
        "**STEP-4 - Multivariate Analysis**"
      ]
    },
    {
      "cell_type": "code",
      "metadata": {
        "colab": {
          "base_uri": "https://localhost:8080/",
          "height": 695
        },
        "id": "J6ZeSyDeqvlI",
        "outputId": "53c2dd1b-f8a3-4b23-dca4-30e0aaf68706"
      },
      "source": [
        "#correlation matrix\n",
        "corrmat = df.corr()\n",
        "f, ax = plt.subplots(figsize=(12, 9))\n",
        "sns.heatmap(corrmat, vmax=.8, square=True, );"
      ],
      "execution_count": 109,
      "outputs": [
        {
          "output_type": "display_data",
          "data": {
            "image/png": "[encoded data removed]",
            "text/plain": [
              "<Figure size 864x648 with 2 Axes>"
            ]
          },
          "metadata": {
            "needs_background": "light"
          }
        }
      ]
    },
    {
      "cell_type": "markdown",
      "metadata": {
        "id": "JnTVCrtsrKdA"
      },
      "source": [
        "**Inference from Heatmap\n",
        "Heatmap depicts that we have an ideal data at hand. None of the variables are highly correlated.**\n",
        "\n",
        "There is a correlation between \"adr & children\" and \"adr & adults\". Since the meaning of the column is not very clear and it is also not highly correlated with dependent variable, we can take the decision to drop this column.\n"
      ]
    },
    {
      "cell_type": "markdown",
      "metadata": {
        "id": "Pf6eGrzKraE0"
      },
      "source": [
        "**STEP-5 - Treating NaN values**"
      ]
    },
    {
      "cell_type": "code",
      "metadata": {
        "colab": {
          "base_uri": "https://localhost:8080/"
        },
        "id": "WpY1aoovrIjS",
        "outputId": "6cce0f1a-ee2c-448f-f93a-378bd554a639"
      },
      "source": [
        "# check NaN values in dataframe\n",
        "\n",
        "df.isna().sum()"
      ],
      "execution_count": 110,
      "outputs": [
        {
          "output_type": "execute_result",
          "data": {
            "text/plain": [
              "hotel                                 0\n",
              "is_canceled                           0\n",
              "lead_time                             0\n",
              "arrival_date_year                     0\n",
              "arrival_date_month                    0\n",
              "arrival_date_week_number              0\n",
              "arrival_date_day_of_month             0\n",
              "stays_in_weekend_nights               0\n",
              "stays_in_week_nights                  0\n",
              "adults                                0\n",
              "children                              4\n",
              "babies                                0\n",
              "meal                                  0\n",
              "country                             452\n",
              "market_segment                        0\n",
              "distribution_channel                  0\n",
              "is_repeated_guest                     0\n",
              "previous_cancellations                0\n",
              "previous_bookings_not_canceled        0\n",
              "reserved_room_type                    0\n",
              "assigned_room_type                    0\n",
              "booking_changes                       0\n",
              "deposit_type                          0\n",
              "agent                             12193\n",
              "company                           82137\n",
              "days_in_waiting_list                  0\n",
              "customer_type                         0\n",
              "adr                                   0\n",
              "required_car_parking_spaces           0\n",
              "total_of_special_requests             0\n",
              "reservation_status                    0\n",
              "reservation_status_date               0\n",
              "dtype: int64"
            ]
          },
          "metadata": {},
          "execution_count": 110
        }
      ]
    },
    {
      "cell_type": "code",
      "metadata": {
        "colab": {
          "base_uri": "https://localhost:8080/"
        },
        "id": "XSQqi2etrivS",
        "outputId": "d0d96823-9899-4729-fc92-f4ff28c73fa5"
      },
      "source": [
        "df.shape\n"
      ],
      "execution_count": 111,
      "outputs": [
        {
          "output_type": "execute_result",
          "data": {
            "text/plain": [
              "(87396, 32)"
            ]
          },
          "metadata": {},
          "execution_count": 111
        }
      ]
    },
    {
      "cell_type": "code",
      "metadata": {
        "id": "515WmVeTrlSJ"
      },
      "source": [
        "# make a copy of original dataset\n",
        "\n",
        "df1 = df.copy()"
      ],
      "execution_count": 112,
      "outputs": []
    },
    {
      "cell_type": "markdown",
      "metadata": {
        "id": "XcN7-yhbrqu3"
      },
      "source": [
        "There are only 4 NaN values in column 'children' and 488 NaN values in column'country'. Against the total rows of 119390, these are very few and can be dropped"
      ]
    },
    {
      "cell_type": "code",
      "metadata": {
        "colab": {
          "base_uri": "https://localhost:8080/"
        },
        "id": "7YXBMJ9hrr0Y",
        "outputId": "d21f526a-b2dd-45ec-fb11-872fbd026e68"
      },
      "source": [
        "# drop rows having NaN in columns 'country' and 'children'\n",
        "\n",
        "df1.dropna(subset = ['country', 'children'], inplace = True)\n",
        "df1.isna().sum()"
      ],
      "execution_count": 113,
      "outputs": [
        {
          "output_type": "execute_result",
          "data": {
            "text/plain": [
              "hotel                                 0\n",
              "is_canceled                           0\n",
              "lead_time                             0\n",
              "arrival_date_year                     0\n",
              "arrival_date_month                    0\n",
              "arrival_date_week_number              0\n",
              "arrival_date_day_of_month             0\n",
              "stays_in_weekend_nights               0\n",
              "stays_in_week_nights                  0\n",
              "adults                                0\n",
              "children                              0\n",
              "babies                                0\n",
              "meal                                  0\n",
              "country                               0\n",
              "market_segment                        0\n",
              "distribution_channel                  0\n",
              "is_repeated_guest                     0\n",
              "previous_cancellations                0\n",
              "previous_bookings_not_canceled        0\n",
              "reserved_room_type                    0\n",
              "assigned_room_type                    0\n",
              "booking_changes                       0\n",
              "deposit_type                          0\n",
              "agent                             11866\n",
              "company                           81848\n",
              "days_in_waiting_list                  0\n",
              "customer_type                         0\n",
              "adr                                   0\n",
              "required_car_parking_spaces           0\n",
              "total_of_special_requests             0\n",
              "reservation_status                    0\n",
              "reservation_status_date               0\n",
              "dtype: int64"
            ]
          },
          "metadata": {},
          "execution_count": 113
        }
      ]
    },
    {
      "cell_type": "code",
      "metadata": {
        "colab": {
          "base_uri": "https://localhost:8080/"
        },
        "id": "PlBQ_EiDrvPE",
        "outputId": "6d94da29-f536-4e44-913a-29ec4add5111"
      },
      "source": [
        "df1['agent'].value_counts()"
      ],
      "execution_count": 114,
      "outputs": [
        {
          "output_type": "execute_result",
          "data": {
            "text/plain": [
              "9.0      28757\n",
              "240.0    12977\n",
              "14.0      3347\n",
              "7.0       3300\n",
              "250.0     2764\n",
              "         ...  \n",
              "433.0        1\n",
              "90.0         1\n",
              "480.0        1\n",
              "388.0        1\n",
              "216.0        1\n",
              "Name: agent, Length: 332, dtype: int64"
            ]
          },
          "metadata": {},
          "execution_count": 114
        }
      ]
    },
    {
      "cell_type": "markdown",
      "metadata": {
        "id": "9k5rlGgur0hg"
      },
      "source": [
        "Meaning of the contents of this coumn is not clear. Since this column also contains NaN values, we can simply delete this column as it is not strongly affecting our target variable"
      ]
    },
    {
      "cell_type": "code",
      "metadata": {
        "colab": {
          "base_uri": "https://localhost:8080/"
        },
        "id": "nH4aaz9Dr1lw",
        "outputId": "ee1f4db7-fef6-43f8-fdac-cd83cb74c753"
      },
      "source": [
        "df1.drop(columns = 'agent', inplace = True)\n",
        "\n",
        "df1.isna().sum()"
      ],
      "execution_count": 115,
      "outputs": [
        {
          "output_type": "execute_result",
          "data": {
            "text/plain": [
              "hotel                                 0\n",
              "is_canceled                           0\n",
              "lead_time                             0\n",
              "arrival_date_year                     0\n",
              "arrival_date_month                    0\n",
              "arrival_date_week_number              0\n",
              "arrival_date_day_of_month             0\n",
              "stays_in_weekend_nights               0\n",
              "stays_in_week_nights                  0\n",
              "adults                                0\n",
              "children                              0\n",
              "babies                                0\n",
              "meal                                  0\n",
              "country                               0\n",
              "market_segment                        0\n",
              "distribution_channel                  0\n",
              "is_repeated_guest                     0\n",
              "previous_cancellations                0\n",
              "previous_bookings_not_canceled        0\n",
              "reserved_room_type                    0\n",
              "assigned_room_type                    0\n",
              "booking_changes                       0\n",
              "deposit_type                          0\n",
              "company                           81848\n",
              "days_in_waiting_list                  0\n",
              "customer_type                         0\n",
              "adr                                   0\n",
              "required_car_parking_spaces           0\n",
              "total_of_special_requests             0\n",
              "reservation_status                    0\n",
              "reservation_status_date               0\n",
              "dtype: int64"
            ]
          },
          "metadata": {},
          "execution_count": 115
        }
      ]
    },
    {
      "cell_type": "markdown",
      "metadata": {
        "id": "G-thxOj2sEcv"
      },
      "source": [
        "Now let's check company column"
      ]
    },
    {
      "cell_type": "code",
      "metadata": {
        "colab": {
          "base_uri": "https://localhost:8080/"
        },
        "id": "azx4LhaAsCE2",
        "outputId": "8b7151a9-7301-40f2-a048-e4a3bd02688c"
      },
      "source": [
        "df1['company'].value_counts()"
      ],
      "execution_count": 116,
      "outputs": [
        {
          "output_type": "execute_result",
          "data": {
            "text/plain": [
              "40.0     851\n",
              "223.0    503\n",
              "45.0     238\n",
              "153.0    206\n",
              "219.0    131\n",
              "        ... \n",
              "6.0        1\n",
              "71.0       1\n",
              "305.0      1\n",
              "420.0      1\n",
              "433.0      1\n",
              "Name: company, Length: 349, dtype: int64"
            ]
          },
          "metadata": {},
          "execution_count": 116
        }
      ]
    },
    {
      "cell_type": "markdown",
      "metadata": {
        "id": "zFifaC1zsHws"
      },
      "source": [
        "As was the case with column 'agent', the column 'company' is also not clear. We can thus drop this column as well"
      ]
    },
    {
      "cell_type": "code",
      "metadata": {
        "colab": {
          "base_uri": "https://localhost:8080/"
        },
        "id": "pb-mnKnbsL8o",
        "outputId": "25cda48d-39ec-465b-fb86-010f7e12d9c6"
      },
      "source": [
        "df1.drop(columns = 'company', inplace = True)\n",
        "\n",
        "df1.isna().sum()"
      ],
      "execution_count": 117,
      "outputs": [
        {
          "output_type": "execute_result",
          "data": {
            "text/plain": [
              "hotel                             0\n",
              "is_canceled                       0\n",
              "lead_time                         0\n",
              "arrival_date_year                 0\n",
              "arrival_date_month                0\n",
              "arrival_date_week_number          0\n",
              "arrival_date_day_of_month         0\n",
              "stays_in_weekend_nights           0\n",
              "stays_in_week_nights              0\n",
              "adults                            0\n",
              "children                          0\n",
              "babies                            0\n",
              "meal                              0\n",
              "country                           0\n",
              "market_segment                    0\n",
              "distribution_channel              0\n",
              "is_repeated_guest                 0\n",
              "previous_cancellations            0\n",
              "previous_bookings_not_canceled    0\n",
              "reserved_room_type                0\n",
              "assigned_room_type                0\n",
              "booking_changes                   0\n",
              "deposit_type                      0\n",
              "days_in_waiting_list              0\n",
              "customer_type                     0\n",
              "adr                               0\n",
              "required_car_parking_spaces       0\n",
              "total_of_special_requests         0\n",
              "reservation_status                0\n",
              "reservation_status_date           0\n",
              "dtype: int64"
            ]
          },
          "metadata": {},
          "execution_count": 117
        }
      ]
    },
    {
      "cell_type": "markdown",
      "metadata": {
        "id": "J5ZcgxqgsR1m"
      },
      "source": [
        "\n",
        "**STEP-6 - Dealing with Outliers**\n",
        "\n",
        "**Column 'meal'**\n",
        "\n",
        "This column has a value 'undefined', which is hardly 1% of the total data.\n",
        "\n",
        "As analysed in Bivariate analysis, undefined and HB (Half Board) have similar effect on cancellations.\n",
        "\n",
        "Thus, we will replace 'undefined' with HB"
      ]
    },
    {
      "cell_type": "code",
      "metadata": {
        "id": "2BRr404QsOtw"
      },
      "source": [
        "# Make a copy of df1\n",
        "\n",
        "df2 = df1.copy()"
      ],
      "execution_count": 118,
      "outputs": []
    },
    {
      "cell_type": "code",
      "metadata": {
        "id": "5PC4cnRjsciS"
      },
      "source": [
        "df2['meal'].replace({'Undefined' : 'HB'}, inplace = True)"
      ],
      "execution_count": 119,
      "outputs": []
    },
    {
      "cell_type": "code",
      "metadata": {
        "colab": {
          "base_uri": "https://localhost:8080/"
        },
        "id": "DPxUpJoTsevL",
        "outputId": "1401c214-e726-4f60-e669-638a9dfbdcab"
      },
      "source": [
        "\n",
        "df2['meal'].value_counts()"
      ],
      "execution_count": 120,
      "outputs": [
        {
          "output_type": "execute_result",
          "data": {
            "text/plain": [
              "BB    67562\n",
              "HB     9544\n",
              "SC     9474\n",
              "FB      360\n",
              "Name: meal, dtype: int64"
            ]
          },
          "metadata": {},
          "execution_count": 120
        }
      ]
    },
    {
      "cell_type": "markdown",
      "metadata": {
        "id": "BQSBWdv5sbkx"
      },
      "source": [
        "\n",
        "**Column 'lead_time'**\n",
        "This column had a lot of outliers. The data was skewed.\n",
        "\n",
        "However, removing all outliers will reduce the data set size. So we will remove only the values that are extreme outliers"
      ]
    },
    {
      "cell_type": "code",
      "metadata": {
        "colab": {
          "base_uri": "https://localhost:8080/",
          "height": 405
        },
        "id": "elSgrulzslxM",
        "outputId": "516643e4-2512-4860-af76-a9db91d9f740"
      },
      "source": [
        "\n",
        "# Let's make a boxplot for this column\n",
        "\n",
        "plt.boxplot(df['lead_time'])"
      ],
      "execution_count": 121,
      "outputs": [
        {
          "output_type": "execute_result",
          "data": {
            "text/plain": [
              "{'boxes': [<matplotlib.lines.Line2D at 0x7fa6bf0d4450>],\n",
              " 'caps': [<matplotlib.lines.Line2D at 0x7fa6bf375c50>,\n",
              "  <matplotlib.lines.Line2D at 0x7fa6bf375650>],\n",
              " 'fliers': [<matplotlib.lines.Line2D at 0x7fa6bf363ed0>],\n",
              " 'means': [],\n",
              " 'medians': [<matplotlib.lines.Line2D at 0x7fa6bf363d10>],\n",
              " 'whiskers': [<matplotlib.lines.Line2D at 0x7fa6bf0d4790>,\n",
              "  <matplotlib.lines.Line2D at 0x7fa6bf3751d0>]}"
            ]
          },
          "metadata": {},
          "execution_count": 121
        },
        {
          "output_type": "display_data",
          "data": {
            "image/png": "[encoded data removed]",
            "text/plain": [
              "<Figure size 432x288 with 1 Axes>"
            ]
          },
          "metadata": {
            "needs_background": "light"
          }
        }
      ]
    },
    {
      "cell_type": "code",
      "metadata": {
        "colab": {
          "base_uri": "https://localhost:8080/"
        },
        "id": "FIQ7lU4KspTJ",
        "outputId": "9a559ec2-00c5-43fb-9dc5-07b8dca8b34d"
      },
      "source": [
        "# Let's check the number of rows containing lead_time greater than 650\n",
        "\n",
        "df2[df2['lead_time'] > 650].shape"
      ],
      "execution_count": 122,
      "outputs": [
        {
          "output_type": "execute_result",
          "data": {
            "text/plain": [
              "(2, 30)"
            ]
          },
          "metadata": {},
          "execution_count": 122
        }
      ]
    },
    {
      "cell_type": "code",
      "metadata": {
        "id": "iomblBv5suy2"
      },
      "source": [
        "# Save index of all rows containing lead_time greater than 650\n",
        "\n",
        "index = df2[df2['lead_time'] > 650].index"
      ],
      "execution_count": 123,
      "outputs": []
    },
    {
      "cell_type": "code",
      "metadata": {
        "id": "KSAhWg8qsxiw"
      },
      "source": [
        "# Drop rows containing lead_time greater than 650\n",
        "\n",
        "df2.drop(index, inplace = True)"
      ],
      "execution_count": 124,
      "outputs": []
    },
    {
      "cell_type": "code",
      "metadata": {
        "colab": {
          "base_uri": "https://localhost:8080/"
        },
        "id": "tc0Q0rtls0mV",
        "outputId": "230a391e-af14-4208-dd2d-c8707a374acf"
      },
      "source": [
        "df2[df2['lead_time'] > 650].shape"
      ],
      "execution_count": 125,
      "outputs": [
        {
          "output_type": "execute_result",
          "data": {
            "text/plain": [
              "(0, 30)"
            ]
          },
          "metadata": {},
          "execution_count": 125
        }
      ]
    },
    {
      "cell_type": "code",
      "metadata": {
        "colab": {
          "base_uri": "https://localhost:8080/",
          "height": 335
        },
        "id": "mmy9hBt8s3Dt",
        "outputId": "3507ef8c-1e5d-4813-971c-be9c14024860"
      },
      "source": [
        "\n",
        "# Let's check the frequency distribution of lead_time\n",
        "\n",
        "sns.distplot(df2['lead_time'], label = 'lead_time')\n",
        "plt.show()"
      ],
      "execution_count": 126,
      "outputs": [
        {
          "output_type": "stream",
          "name": "stderr",
          "text": [
            "/usr/local/lib/python3.7/dist-packages/seaborn/distributions.py:2619: FutureWarning: `distplot` is a deprecated function and will be removed in a future version. Please adapt your code to use either `displot` (a figure-level function with similar flexibility) or `histplot` (an axes-level function for histograms).\n",
            "  warnings.warn(msg, FutureWarning)\n"
          ]
        },
        {
          "output_type": "display_data",
          "data": {
            "image/png": "[encoded data removed]",
            "text/plain": [
              "<Figure size 432x288 with 1 Axes>"
            ]
          },
          "metadata": {
            "needs_background": "light"
          }
        }
      ]
    },
    {
      "cell_type": "markdown",
      "metadata": {
        "id": "rR2Jd_Ais7hr"
      },
      "source": [
        "\n",
        "**Column 'stays_in_weekend_nights'**\n",
        "\n",
        "Majority people stayed for upto 5 weekend nights. This data is also skewed"
      ]
    },
    {
      "cell_type": "code",
      "metadata": {
        "colab": {
          "base_uri": "https://localhost:8080/",
          "height": 405
        },
        "id": "folIaLPIs5B3",
        "outputId": "1a768fb7-a810-41c5-c811-2c302b84e366"
      },
      "source": [
        "\n",
        "# Let's make a boxplot for this column\n",
        "\n",
        "plt.boxplot(df2['stays_in_weekend_nights'])"
      ],
      "execution_count": 127,
      "outputs": [
        {
          "output_type": "execute_result",
          "data": {
            "text/plain": [
              "{'boxes': [<matplotlib.lines.Line2D at 0x7fa6bfde0490>],\n",
              " 'caps': [<matplotlib.lines.Line2D at 0x7fa6beee0f50>,\n",
              "  <matplotlib.lines.Line2D at 0x7fa6beee0c90>],\n",
              " 'fliers': [<matplotlib.lines.Line2D at 0x7fa6bfc62690>],\n",
              " 'means': [],\n",
              " 'medians': [<matplotlib.lines.Line2D at 0x7fa6bfc62290>],\n",
              " 'whiskers': [<matplotlib.lines.Line2D at 0x7fa6bfde0c50>,\n",
              "  <matplotlib.lines.Line2D at 0x7fa6beee0c10>]}"
            ]
          },
          "metadata": {},
          "execution_count": 127
        },
        {
          "output_type": "display_data",
          "data": {
            "image/png": "[encoded data removed]",
            "text/plain": [
              "<Figure size 432x288 with 1 Axes>"
            ]
          },
          "metadata": {
            "needs_background": "light"
          }
        }
      ]
    },
    {
      "cell_type": "code",
      "metadata": {
        "colab": {
          "base_uri": "https://localhost:8080/"
        },
        "id": "vhNDjS7TtJf6",
        "outputId": "30a89e8f-765a-4774-945f-3d1b2e38f905"
      },
      "source": [
        "# Let's check the number of rows containing stays_in_week_nights greater than 20\n",
        "\n",
        "df2[df2['stays_in_week_nights'] > 20].shape"
      ],
      "execution_count": 128,
      "outputs": [
        {
          "output_type": "execute_result",
          "data": {
            "text/plain": [
              "(43, 30)"
            ]
          },
          "metadata": {},
          "execution_count": 128
        }
      ]
    },
    {
      "cell_type": "code",
      "metadata": {
        "id": "vXozwfS0tKvM"
      },
      "source": [
        "# Save index of all rows containing stays_in_week_nights greater than 20\n",
        "\n",
        "index_week_outlier = df2[df2['stays_in_week_nights'] > 20].index"
      ],
      "execution_count": 129,
      "outputs": []
    },
    {
      "cell_type": "code",
      "metadata": {
        "id": "McXHFYFitNvB"
      },
      "source": [
        "# Drop rows containing stays_in_week_nights greater than 20\n",
        "\n",
        "df2.drop(index_week_outlier, inplace = True)"
      ],
      "execution_count": 130,
      "outputs": []
    },
    {
      "cell_type": "code",
      "metadata": {
        "colab": {
          "base_uri": "https://localhost:8080/"
        },
        "id": "SsZbJLditQq1",
        "outputId": "fe9f90f5-b0fb-4bbf-e49e-3e33082e52e9"
      },
      "source": [
        "df2[df2['stays_in_week_nights'] > 20].shape"
      ],
      "execution_count": 131,
      "outputs": [
        {
          "output_type": "execute_result",
          "data": {
            "text/plain": [
              "(0, 30)"
            ]
          },
          "metadata": {},
          "execution_count": 131
        }
      ]
    },
    {
      "cell_type": "code",
      "metadata": {
        "colab": {
          "base_uri": "https://localhost:8080/",
          "height": 405
        },
        "id": "y6o1bxYGtVMo",
        "outputId": "add00e15-6478-4613-f826-7d9441e6a2c3"
      },
      "source": [
        "plt.boxplot(df2['stays_in_week_nights'])"
      ],
      "execution_count": 132,
      "outputs": [
        {
          "output_type": "execute_result",
          "data": {
            "text/plain": [
              "{'boxes': [<matplotlib.lines.Line2D at 0x7fa6bfc6e390>],\n",
              " 'caps': [<matplotlib.lines.Line2D at 0x7fa6bfe048d0>,\n",
              "  <matplotlib.lines.Line2D at 0x7fa6bfe04ad0>],\n",
              " 'fliers': [<matplotlib.lines.Line2D at 0x7fa6bf1853d0>],\n",
              " 'means': [],\n",
              " 'medians': [<matplotlib.lines.Line2D at 0x7fa6bf185a90>],\n",
              " 'whiskers': [<matplotlib.lines.Line2D at 0x7fa6bfc6ecd0>,\n",
              "  <matplotlib.lines.Line2D at 0x7fa6bfe04d90>]}"
            ]
          },
          "metadata": {},
          "execution_count": 132
        },
        {
          "output_type": "display_data",
          "data": {
            "image/png": "[encoded data removed]",
            "text/plain": [
              "<Figure size 432x288 with 1 Axes>"
            ]
          },
          "metadata": {
            "needs_background": "light"
          }
        }
      ]
    },
    {
      "cell_type": "markdown",
      "metadata": {
        "id": "_o4hQC3mtX5d"
      },
      "source": [
        "\n",
        "**column 'adults'**\n",
        "\n",
        "Few bookings have number of adults as high as 55. This is not a practical scenario and such entries can be dropped.\n",
        "\n",
        "In a practical scenario, more than 4 adults cannot stay in a room"
      ]
    },
    {
      "cell_type": "code",
      "metadata": {
        "colab": {
          "base_uri": "https://localhost:8080/"
        },
        "id": "dXqvix1yta_Q",
        "outputId": "8dd82309-17ff-451d-cc5b-60ab94906685"
      },
      "source": [
        "# Let's check the number of bookings with more than 4 adults\n",
        "\n",
        "df2[df2['adults'] > 4].shape"
      ],
      "execution_count": 133,
      "outputs": [
        {
          "output_type": "execute_result",
          "data": {
            "text/plain": [
              "(16, 30)"
            ]
          },
          "metadata": {},
          "execution_count": 133
        }
      ]
    },
    {
      "cell_type": "code",
      "metadata": {
        "id": "Y74fb3Pqtfva"
      },
      "source": [
        "# Save index of all rows containing adults greater than 4\n",
        "\n",
        "index_adult_outlier = df2[df2['adults'] > 4].index"
      ],
      "execution_count": 134,
      "outputs": []
    },
    {
      "cell_type": "code",
      "metadata": {
        "id": "c0m4LOuBuGWz"
      },
      "source": [
        "# Drop rows containing adults greater than 4\n",
        "\n",
        "df2.drop(index_adult_outlier, inplace = True)"
      ],
      "execution_count": 135,
      "outputs": []
    },
    {
      "cell_type": "code",
      "metadata": {
        "colab": {
          "base_uri": "https://localhost:8080/"
        },
        "id": "YJy6LLyPuI2q",
        "outputId": "9c0199a5-59bd-4744-c437-76acab3198e5"
      },
      "source": [
        "\n",
        "df2['adults'].value_counts()"
      ],
      "execution_count": 136,
      "outputs": [
        {
          "output_type": "execute_result",
          "data": {
            "text/plain": [
              "2    64315\n",
              "1    16198\n",
              "3     5929\n",
              "0      377\n",
              "4       60\n",
              "Name: adults, dtype: int64"
            ]
          },
          "metadata": {},
          "execution_count": 136
        }
      ]
    },
    {
      "cell_type": "markdown",
      "metadata": {
        "id": "VgGZOA9fuPCY"
      },
      "source": [
        "**column 'children'**\n",
        "\n",
        "Some reservations have 10 number of children. Not a practical scenario in my opinion.\n",
        "\n",
        "I would choose to drop such entries"
      ]
    },
    {
      "cell_type": "code",
      "metadata": {
        "colab": {
          "base_uri": "https://localhost:8080/"
        },
        "id": "TvAKcm6MuM-e",
        "outputId": "9d8867da-6a02-4e8b-ec47-e9cb74c8cb09"
      },
      "source": [
        "# Let's check the number of bookings with more than 3 children\n",
        "\n",
        "df2[df2['children'] > 3].shape"
      ],
      "execution_count": 138,
      "outputs": [
        {
          "output_type": "execute_result",
          "data": {
            "text/plain": [
              "(1, 30)"
            ]
          },
          "metadata": {},
          "execution_count": 138
        }
      ]
    },
    {
      "cell_type": "code",
      "metadata": {
        "id": "cnHkU4BquV6T"
      },
      "source": [
        "\n",
        "# Save index of all rows containing children greater than 3\n",
        "\n",
        "index_children_outlier = df2[df2['children'] > 3].index"
      ],
      "execution_count": 139,
      "outputs": []
    },
    {
      "cell_type": "code",
      "metadata": {
        "id": "jjtmyK7suaQd"
      },
      "source": [
        "# Drop rows containing children greater than 3\n",
        "\n",
        "df2.drop(index_children_outlier, inplace = True)"
      ],
      "execution_count": 140,
      "outputs": []
    },
    {
      "cell_type": "code",
      "metadata": {
        "colab": {
          "base_uri": "https://localhost:8080/",
          "height": 334
        },
        "id": "CrjSNNnpufjB",
        "outputId": "6a57f42e-5025-4a9f-a11b-c0073806e9de"
      },
      "source": [
        "\n",
        "sns.distplot(df2['children'], label = 'children')\n",
        "plt.show()"
      ],
      "execution_count": 141,
      "outputs": [
        {
          "output_type": "stream",
          "name": "stderr",
          "text": [
            "/usr/local/lib/python3.7/dist-packages/seaborn/distributions.py:2619: FutureWarning: `distplot` is a deprecated function and will be removed in a future version. Please adapt your code to use either `displot` (a figure-level function with similar flexibility) or `histplot` (an axes-level function for histograms).\n",
            "  warnings.warn(msg, FutureWarning)\n"
          ]
        },
        {
          "output_type": "display_data",
          "data": {
            "image/png": "[encoded data removed]",
            "text/plain": [
              "<Figure size 432x288 with 1 Axes>"
            ]
          },
          "metadata": {
            "needs_background": "light"
          }
        }
      ]
    },
    {
      "cell_type": "markdown",
      "metadata": {
        "id": "e5rjRnOhulDm"
      },
      "source": [
        "**column 'babies'**\n",
        "\n",
        "Similar to children column, this column also has certain outliers that need to be removed"
      ]
    },
    {
      "cell_type": "code",
      "metadata": {
        "colab": {
          "base_uri": "https://localhost:8080/"
        },
        "id": "m-ghpUggun-W",
        "outputId": "26a21e5a-7feb-4f42-b063-3d763ef81a31"
      },
      "source": [
        "# Let's check the number of bookings with more than or equal to 3 babies\n",
        "\n",
        "df2[df2['babies'] >= 3].shape"
      ],
      "execution_count": 142,
      "outputs": [
        {
          "output_type": "execute_result",
          "data": {
            "text/plain": [
              "(2, 30)"
            ]
          },
          "metadata": {},
          "execution_count": 142
        }
      ]
    },
    {
      "cell_type": "code",
      "metadata": {
        "id": "_dkKDutAurIL"
      },
      "source": [
        "\n",
        "# Save index of all rows containing babies greater than or equal to 3\n",
        "\n",
        "index_babies_outlier = df2[df2['babies'] >= 3].index"
      ],
      "execution_count": 143,
      "outputs": []
    },
    {
      "cell_type": "code",
      "metadata": {
        "id": "vnSKSDojutey"
      },
      "source": [
        "# Drop rows containing babies greater than or equal to 3\n",
        "\n",
        "df2.drop(index_babies_outlier, inplace = True)"
      ],
      "execution_count": 144,
      "outputs": []
    },
    {
      "cell_type": "markdown",
      "metadata": {
        "id": "RvNwHr8tuwPR"
      },
      "source": [
        "**column 'previous_cancellations'**\n",
        "Some reservations have as high as 26 previous cancellation records.\n",
        "\n",
        "Majority reservations have less than 2 previous cancellation records"
      ]
    },
    {
      "cell_type": "code",
      "metadata": {
        "colab": {
          "base_uri": "https://localhost:8080/"
        },
        "id": "e8EqORpdu0wo",
        "outputId": "4d01e088-0f83-4298-8087-c4de0e7439f9"
      },
      "source": [
        "# Let's check the number of bookings with more than 10 previous cancellations\n",
        "\n",
        "df2[df2['previous_cancellations'] > 10].shape"
      ],
      "execution_count": 145,
      "outputs": [
        {
          "output_type": "execute_result",
          "data": {
            "text/plain": [
              "(39, 30)"
            ]
          },
          "metadata": {},
          "execution_count": 145
        }
      ]
    },
    {
      "cell_type": "code",
      "metadata": {
        "id": "-SR6DMlOu37f"
      },
      "source": [
        "# Save index of all rows containing previous_cancellations greater than10\n",
        "\n",
        "index_previous_cancellations_outlier = df2[df2['previous_cancellations'] > 10].index"
      ],
      "execution_count": 146,
      "outputs": []
    },
    {
      "cell_type": "code",
      "metadata": {
        "id": "Nf_sxqn8u7Ao"
      },
      "source": [
        "# Drop rows containing babies greater than 10\n",
        "\n",
        "df2.drop(index_previous_cancellations_outlier, inplace = True)"
      ],
      "execution_count": 147,
      "outputs": []
    },
    {
      "cell_type": "code",
      "metadata": {
        "colab": {
          "base_uri": "https://localhost:8080/"
        },
        "id": "2zCqDvyWu_aa",
        "outputId": "f71b7867-56ff-4d30-fbc6-e2df2d6c892f"
      },
      "source": [
        "\n",
        "df2['previous_cancellations'].value_counts()"
      ],
      "execution_count": 148,
      "outputs": [
        {
          "output_type": "execute_result",
          "data": {
            "text/plain": [
              "0    85220\n",
              "1     1381\n",
              "2      109\n",
              "3       61\n",
              "4       30\n",
              "5       19\n",
              "6       17\n",
              "Name: previous_cancellations, dtype: int64"
            ]
          },
          "metadata": {},
          "execution_count": 148
        }
      ]
    },
    {
      "cell_type": "markdown",
      "metadata": {
        "id": "1PcNpxO5vEPT"
      },
      "source": [
        "\n",
        "**column 'previous_bookings_not_canceled'**\n",
        "\n",
        "Majority people had less than 2 previous_bookings_not_canceled"
      ]
    },
    {
      "cell_type": "code",
      "metadata": {
        "colab": {
          "base_uri": "https://localhost:8080/"
        },
        "id": "rZIDEEhvvBRM",
        "outputId": "1fccbc9a-d6cc-4507-f313-bc7832f5cfdd"
      },
      "source": [
        "# Let's check the number of bookings with more than 25 previous_bookings_not_canceled\n",
        "\n",
        "df2[df2['previous_bookings_not_canceled'] > 25].shape"
      ],
      "execution_count": 149,
      "outputs": [
        {
          "output_type": "execute_result",
          "data": {
            "text/plain": [
              "(79, 30)"
            ]
          },
          "metadata": {},
          "execution_count": 149
        }
      ]
    },
    {
      "cell_type": "code",
      "metadata": {
        "id": "oIMOJD2SvJvG"
      },
      "source": [
        "# Save index of all rows containing previous_bookings_not_canceled greater than 25\n",
        "\n",
        "index_previous_bookings_not_canceled_outlier = df2[df2['previous_bookings_not_canceled'] > 25].index"
      ],
      "execution_count": 150,
      "outputs": []
    },
    {
      "cell_type": "code",
      "metadata": {
        "id": "9ufB4PJsvNE5"
      },
      "source": [
        "# Drop rows containing previous_bookings_not_canceled greater than 25\n",
        "\n",
        "df2.drop(index_previous_bookings_not_canceled_outlier, inplace = True)"
      ],
      "execution_count": 151,
      "outputs": []
    },
    {
      "cell_type": "code",
      "metadata": {
        "colab": {
          "base_uri": "https://localhost:8080/"
        },
        "id": "h_HT6K-OvQKk",
        "outputId": "18138d63-33c9-4147-8781-7f87c79d1b5c"
      },
      "source": [
        "df2['previous_bookings_not_canceled'].value_counts()"
      ],
      "execution_count": 152,
      "outputs": [
        {
          "output_type": "execute_result",
          "data": {
            "text/plain": [
              "0     83544\n",
              "1      1387\n",
              "2       535\n",
              "3       299\n",
              "4       200\n",
              "5       165\n",
              "6       110\n",
              "7        83\n",
              "8        67\n",
              "9        56\n",
              "10       48\n",
              "11       40\n",
              "12       37\n",
              "13       30\n",
              "14       28\n",
              "15       21\n",
              "16       18\n",
              "17       15\n",
              "18       12\n",
              "19       12\n",
              "21       11\n",
              "20       10\n",
              "24        9\n",
              "25        9\n",
              "22        6\n",
              "23        6\n",
              "Name: previous_bookings_not_canceled, dtype: int64"
            ]
          },
          "metadata": {},
          "execution_count": 152
        }
      ]
    },
    {
      "cell_type": "markdown",
      "metadata": {
        "id": "2rYQXOLSvV9p"
      },
      "source": [
        "**column 'booking_changes'**"
      ]
    },
    {
      "cell_type": "code",
      "metadata": {
        "colab": {
          "base_uri": "https://localhost:8080/"
        },
        "id": "MnLSFLVzvXho",
        "outputId": "a9bf19a2-0af7-4466-f8a2-ef76a43c9a49"
      },
      "source": [
        "# Let's check the number of bookings with more than 10 booking_changes\n",
        "\n",
        "df2[df2['booking_changes'] > 10].shape"
      ],
      "execution_count": 153,
      "outputs": [
        {
          "output_type": "execute_result",
          "data": {
            "text/plain": [
              "(19, 30)"
            ]
          },
          "metadata": {},
          "execution_count": 153
        }
      ]
    },
    {
      "cell_type": "code",
      "metadata": {
        "id": "97un6Mv5vaW_"
      },
      "source": [
        "# Save index of all rows containing booking_changes greater than 10\n",
        "\n",
        "index_booking_changes_outlier = df2[df2['booking_changes'] > 10].index"
      ],
      "execution_count": 154,
      "outputs": []
    },
    {
      "cell_type": "code",
      "metadata": {
        "id": "_ubvapUeveqe"
      },
      "source": [
        "\n",
        "# Drop rows containing booking_changes greater than 10\n",
        "\n",
        "df2.drop(index_booking_changes_outlier, inplace = True)"
      ],
      "execution_count": 155,
      "outputs": []
    },
    {
      "cell_type": "code",
      "metadata": {
        "colab": {
          "base_uri": "https://localhost:8080/",
          "height": 335
        },
        "id": "5BDm9L_bvfwR",
        "outputId": "2be21ca5-25a8-4171-e019-e8b1f480d298"
      },
      "source": [
        "sns.distplot(df2['booking_changes'], label = 'booking_changes')\n",
        "plt.show()"
      ],
      "execution_count": 156,
      "outputs": [
        {
          "output_type": "stream",
          "name": "stderr",
          "text": [
            "/usr/local/lib/python3.7/dist-packages/seaborn/distributions.py:2619: FutureWarning: `distplot` is a deprecated function and will be removed in a future version. Please adapt your code to use either `displot` (a figure-level function with similar flexibility) or `histplot` (an axes-level function for histograms).\n",
            "  warnings.warn(msg, FutureWarning)\n"
          ]
        },
        {
          "output_type": "display_data",
          "data": {
            "image/png": "[encoded data removed]",
            "text/plain": [
              "<Figure size 432x288 with 1 Axes>"
            ]
          },
          "metadata": {
            "needs_background": "light"
          }
        }
      ]
    },
    {
      "cell_type": "markdown",
      "metadata": {
        "id": "REpvcqn_vljX"
      },
      "source": [
        "\n",
        "**column 'days_in_waiting_list'**"
      ]
    },
    {
      "cell_type": "code",
      "metadata": {
        "id": "fCqG5LS4vnG5"
      },
      "source": [
        "\n",
        "# Let's check the number of bookings with more than 250 days_in_waiting_list\n",
        "\n",
        "df2[df2['days_in_waiting_list'] > 250].shape"
      ],
      "execution_count": null,
      "outputs": []
    },
    {
      "cell_type": "code",
      "metadata": {
        "id": "LYgcDN2HvppG"
      },
      "source": [
        "\n",
        "# Save index of all rows containing days_in_waiting_list greater than 250\n",
        "\n",
        "index_days_in_waiting_list_outlier = df2[df2['days_in_waiting_list'] > 250].index"
      ],
      "execution_count": 157,
      "outputs": []
    },
    {
      "cell_type": "code",
      "metadata": {
        "id": "TpD7SU4Zvszv"
      },
      "source": [
        "# Drop rows containing days_in_waiting_list greater than 250\n",
        "\n",
        "df2.drop(index_days_in_waiting_list_outlier, inplace = True)"
      ],
      "execution_count": 158,
      "outputs": []
    },
    {
      "cell_type": "code",
      "metadata": {
        "colab": {
          "base_uri": "https://localhost:8080/",
          "height": 335
        },
        "id": "teBGu-swvvWw",
        "outputId": "3373b25d-26ad-47fb-b19f-58fd49bbe5f1"
      },
      "source": [
        "sns.distplot(df2['days_in_waiting_list'], label = 'days_in_waiting_list')\n",
        "plt.show()"
      ],
      "execution_count": 159,
      "outputs": [
        {
          "output_type": "stream",
          "name": "stderr",
          "text": [
            "/usr/local/lib/python3.7/dist-packages/seaborn/distributions.py:2619: FutureWarning: `distplot` is a deprecated function and will be removed in a future version. Please adapt your code to use either `displot` (a figure-level function with similar flexibility) or `histplot` (an axes-level function for histograms).\n",
            "  warnings.warn(msg, FutureWarning)\n"
          ]
        },
        {
          "output_type": "display_data",
          "data": {
            "image/png": "[encoded data removed]",
            "text/plain": [
              "<Figure size 432x288 with 1 Axes>"
            ]
          },
          "metadata": {
            "needs_background": "light"
          }
        }
      ]
    },
    {
      "cell_type": "markdown",
      "metadata": {
        "id": "Jv5j9G1yv0x3"
      },
      "source": [
        "**column 'required_car_parking_spaces**"
      ]
    },
    {
      "cell_type": "code",
      "metadata": {
        "colab": {
          "base_uri": "https://localhost:8080/"
        },
        "id": "LDMQF3CJv2Zx",
        "outputId": "b1d600bc-9558-45a5-ca51-10f36083e227"
      },
      "source": [
        "\n",
        "# Let's check the number of bookings with more than 1 required_car_parking_spaces\n",
        "\n",
        "df2[df2['required_car_parking_spaces'] > 1].shape"
      ],
      "execution_count": 160,
      "outputs": [
        {
          "output_type": "execute_result",
          "data": {
            "text/plain": [
              "(32, 30)"
            ]
          },
          "metadata": {},
          "execution_count": 160
        }
      ]
    },
    {
      "cell_type": "code",
      "metadata": {
        "id": "IAFxYDf5v7Bb"
      },
      "source": [
        "# Save index of all rows containing required_car_parking_spaces greater than 1\n",
        "\n",
        "index_required_car_parking_spaces_outlier = df2[df2['required_car_parking_spaces'] > 1].index"
      ],
      "execution_count": 164,
      "outputs": []
    },
    {
      "cell_type": "code",
      "metadata": {
        "id": "L5_S-AoBv9yM"
      },
      "source": [
        "\n",
        "# Drop rows containing required_car_parking_spaces greater than 1\n",
        "\n",
        "df2.drop(index_required_car_parking_spaces_outlier, inplace = True)"
      ],
      "execution_count": 165,
      "outputs": []
    },
    {
      "cell_type": "code",
      "metadata": {
        "colab": {
          "base_uri": "https://localhost:8080/",
          "height": 335
        },
        "id": "NxyMBEkjwAjm",
        "outputId": "a995d3fc-133a-44ec-ea04-8a1ab5a7c1ac"
      },
      "source": [
        "\n",
        "sns.distplot(df2['required_car_parking_spaces'], label = 'required_car_parking_spaces')\n",
        "plt.show()"
      ],
      "execution_count": 166,
      "outputs": [
        {
          "output_type": "stream",
          "name": "stderr",
          "text": [
            "/usr/local/lib/python3.7/dist-packages/seaborn/distributions.py:2619: FutureWarning: `distplot` is a deprecated function and will be removed in a future version. Please adapt your code to use either `displot` (a figure-level function with similar flexibility) or `histplot` (an axes-level function for histograms).\n",
            "  warnings.warn(msg, FutureWarning)\n"
          ]
        },
        {
          "output_type": "display_data",
          "data": {
            "image/png": "[encoded data removed]",
            "text/plain": [
              "<Figure size 432x288 with 1 Axes>"
            ]
          },
          "metadata": {
            "needs_background": "light"
          }
        }
      ]
    },
    {
      "cell_type": "markdown",
      "metadata": {
        "id": "ANm433NzwJDP"
      },
      "source": [
        "\n",
        "**Final Check**"
      ]
    },
    {
      "cell_type": "code",
      "metadata": {
        "colab": {
          "base_uri": "https://localhost:8080/"
        },
        "id": "YjQhdlfXwK8G",
        "outputId": "99edda61-771d-4c2b-8fab-2cdb21d48f1d"
      },
      "source": [
        "\n",
        "df2.shape"
      ],
      "execution_count": 167,
      "outputs": [
        {
          "output_type": "execute_result",
          "data": {
            "text/plain": [
              "(86686, 30)"
            ]
          },
          "metadata": {},
          "execution_count": 167
        }
      ]
    }
  ]
}