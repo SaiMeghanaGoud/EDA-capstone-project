{
  "nbformat": 4,
  "nbformat_minor": 0,
  "metadata": {
    "kernelspec": {
      "display_name": "Python 3",
      "language": "python",
      "name": "python3"
    },
    "language_info": {
      "codemirror_mode": {
        "name": "ipython",
        "version": 3
      },
      "file_extension": ".py",
      "mimetype": "text/x-python",
      "name": "python",
      "nbconvert_exporter": "python",
      "pygments_lexer": "ipython3",
      "version": "3.6.6"
    },
    "colab": {
      "name": "Copy of Airbnb Bookings Analysis _ meghna_neha - Capstone Project.ipynb",
      "provenance": [],
      "collapsed_sections": [],
      "include_colab_link": true
    }
  },
  "cells": [
    {
      "cell_type": "markdown",
      "metadata": {
        "id": "view-in-github",
        "colab_type": "text"
      },
      "source": [
        "<a href=\"https://colab.research.google.com/github/SaiMeghanaGoud/EDA-capstone-project/blob/main/Copy_of_Airbnb_Bookings_Analysis___meghna_neha_Capstone_Project.ipynb\" target=\"_parent\"><img src=\"https://colab.research.google.com/assets/colab-badge.svg\" alt=\"Open In Colab\"/></a>"
      ]
    },
    {
      "cell_type": "markdown",
      "metadata": {
        "id": "Y06xIdG26kRF"
      },
      "source": [
        "## <b> Since 2008, guests and hosts have used Airbnb to expand on traveling possibilities and present a more unique, personalized way of experiencing the world. Today, Airbnb became one of a kind service that is used and recognized by the whole world. Data analysis on millions of listings provided through Airbnb is a crucial factor for the company. These millions of listings generate a lot of data - data that can be analyzed and used for security, business decisions, understanding of customers' and providers' (hosts) behavior and performance on the platform, guiding marketing initiatives, implementation of innovative additional services and much more. </b>\n",
        "\n",
        "## <b>This dataset has around 49,000 observations in it with 16 columns and it is a mix between categorical and numeric values. </b>\n",
        "\n",
        "## <b> Explore and analyze the data to discover key understandings (not limited to these) such as : \n",
        "* What can we learn about different hosts and areas?\n",
        "* What can we learn from predictions? (ex: locations, prices, reviews, etc)\n",
        "* Which hosts are the busiest and why?\n",
        "* Is there any noticeable difference of traffic among different areas and what could be the reason for it? </b>"
      ]
    },
    {
      "cell_type": "code",
      "metadata": {
        "id": "dByMsuzT8Tnw"
      },
      "source": [
        "import pandas as pd \n",
        "import numpy as np\n",
        "import matplotlib.pyplot as plt\n",
        "%matplotlib inline\n",
        "import seaborn as sns"
      ],
      "execution_count": 29,
      "outputs": []
    },
    {
      "cell_type": "code",
      "source": [
        "from google.colab import drive\n",
        "drive.mount('/content/drive')"
      ],
      "metadata": {
        "colab": {
          "base_uri": "https://localhost:8080/"
        },
        "id": "WGoMqDWNNBpM",
        "outputId": "45b49656-0713-44fd-c329-f2c66c4cd72f"
      },
      "execution_count": 30,
      "outputs": [
        {
          "output_type": "stream",
          "name": "stdout",
          "text": [
            "Drive already mounted at /content/drive; to attempt to forcibly remount, call drive.mount(\"/content/drive\", force_remount=True).\n"
          ]
        }
      ]
    },
    {
      "cell_type": "code",
      "source": [
        "dir_path = '/content/drive/MyDrive/almabetter/Copy of Airbnb NYC 2019.csv'"
      ],
      "metadata": {
        "id": "uWc58EQdSj3U"
      },
      "execution_count": 35,
      "outputs": []
    },
    {
      "cell_type": "code",
      "source": [
        "df1 = pd.read_csv(dir_path)"
      ],
      "metadata": {
        "id": "1JhK6OlTN206"
      },
      "execution_count": 36,
      "outputs": []
    },
    {
      "cell_type": "code",
      "source": [
        "df=df1"
      ],
      "metadata": {
        "id": "NCiZVOhtr0xo"
      },
      "execution_count": 37,
      "outputs": []
    },
    {
      "cell_type": "code",
      "source": [
        "df1.head(5)"
      ],
      "metadata": {
        "id": "TtFvmnGPOjO5",
        "colab": {
          "base_uri": "https://localhost:8080/",
          "height": 461
        },
        "outputId": "8a1eb944-2809-43c7-972b-6f3c0dcd344e"
      },
      "execution_count": 38,
      "outputs": [
        {
          "output_type": "execute_result",
          "data": {
            "text/plain": [
              "     id                                              name  host_id  \\\n",
              "0  2539                Clean & quiet apt home by the park     2787   \n",
              "1  2595                             Skylit Midtown Castle     2845   \n",
              "2  3647               THE VILLAGE OF HARLEM....NEW YORK !     4632   \n",
              "3  3831                   Cozy Entire Floor of Brownstone     4869   \n",
              "4  5022  Entire Apt: Spacious Studio/Loft by central park     7192   \n",
              "\n",
              "     host_name neighbourhood_group neighbourhood  latitude  longitude  \\\n",
              "0         John            Brooklyn    Kensington  40.64749  -73.97237   \n",
              "1     Jennifer           Manhattan       Midtown  40.75362  -73.98377   \n",
              "2    Elisabeth           Manhattan        Harlem  40.80902  -73.94190   \n",
              "3  LisaRoxanne            Brooklyn  Clinton Hill  40.68514  -73.95976   \n",
              "4        Laura           Manhattan   East Harlem  40.79851  -73.94399   \n",
              "\n",
              "         room_type  price  minimum_nights  number_of_reviews last_review  \\\n",
              "0     Private room    149               1                  9  2018-10-19   \n",
              "1  Entire home/apt    225               1                 45  2019-05-21   \n",
              "2     Private room    150               3                  0         NaN   \n",
              "3  Entire home/apt     89               1                270  2019-07-05   \n",
              "4  Entire home/apt     80              10                  9  2018-11-19   \n",
              "\n",
              "   reviews_per_month  calculated_host_listings_count  availability_365  \n",
              "0               0.21                               6               365  \n",
              "1               0.38                               2               355  \n",
              "2                NaN                               1               365  \n",
              "3               4.64                               1               194  \n",
              "4               0.10                               1                 0  "
            ],
            "text/html": [
              "\n",
              "  <div id=\"df-fbda70f7-d624-40c1-b6f0-ce2873ac3d6d\">\n",
              "    <div class=\"colab-df-container\">\n",
              "      <div>\n",
              "<style scoped>\n",
              "    .dataframe tbody tr th:only-of-type {\n",
              "        vertical-align: middle;\n",
              "    }\n",
              "\n",
              "    .dataframe tbody tr th {\n",
              "        vertical-align: top;\n",
              "    }\n",
              "\n",
              "    .dataframe thead th {\n",
              "        text-align: right;\n",
              "    }\n",
              "</style>\n",
              "<table border=\"1\" class=\"dataframe\">\n",
              "  <thead>\n",
              "    <tr style=\"text-align: right;\">\n",
              "      <th></th>\n",
              "      <th>id</th>\n",
              "      <th>name</th>\n",
              "      <th>host_id</th>\n",
              "      <th>host_name</th>\n",
              "      <th>neighbourhood_group</th>\n",
              "      <th>neighbourhood</th>\n",
              "      <th>latitude</th>\n",
              "      <th>longitude</th>\n",
              "      <th>room_type</th>\n",
              "      <th>price</th>\n",
              "      <th>minimum_nights</th>\n",
              "      <th>number_of_reviews</th>\n",
              "      <th>last_review</th>\n",
              "      <th>reviews_per_month</th>\n",
              "      <th>calculated_host_listings_count</th>\n",
              "      <th>availability_365</th>\n",
              "    </tr>\n",
              "  </thead>\n",
              "  <tbody>\n",
              "    <tr>\n",
              "      <th>0</th>\n",
              "      <td>2539</td>\n",
              "      <td>Clean &amp; quiet apt home by the park</td>\n",
              "      <td>2787</td>\n",
              "      <td>John</td>\n",
              "      <td>Brooklyn</td>\n",
              "      <td>Kensington</td>\n",
              "      <td>40.64749</td>\n",
              "      <td>-73.97237</td>\n",
              "      <td>Private room</td>\n",
              "      <td>149</td>\n",
              "      <td>1</td>\n",
              "      <td>9</td>\n",
              "      <td>2018-10-19</td>\n",
              "      <td>0.21</td>\n",
              "      <td>6</td>\n",
              "      <td>365</td>\n",
              "    </tr>\n",
              "    <tr>\n",
              "      <th>1</th>\n",
              "      <td>2595</td>\n",
              "      <td>Skylit Midtown Castle</td>\n",
              "      <td>2845</td>\n",
              "      <td>Jennifer</td>\n",
              "      <td>Manhattan</td>\n",
              "      <td>Midtown</td>\n",
              "      <td>40.75362</td>\n",
              "      <td>-73.98377</td>\n",
              "      <td>Entire home/apt</td>\n",
              "      <td>225</td>\n",
              "      <td>1</td>\n",
              "      <td>45</td>\n",
              "      <td>2019-05-21</td>\n",
              "      <td>0.38</td>\n",
              "      <td>2</td>\n",
              "      <td>355</td>\n",
              "    </tr>\n",
              "    <tr>\n",
              "      <th>2</th>\n",
              "      <td>3647</td>\n",
              "      <td>THE VILLAGE OF HARLEM....NEW YORK !</td>\n",
              "      <td>4632</td>\n",
              "      <td>Elisabeth</td>\n",
              "      <td>Manhattan</td>\n",
              "      <td>Harlem</td>\n",
              "      <td>40.80902</td>\n",
              "      <td>-73.94190</td>\n",
              "      <td>Private room</td>\n",
              "      <td>150</td>\n",
              "      <td>3</td>\n",
              "      <td>0</td>\n",
              "      <td>NaN</td>\n",
              "      <td>NaN</td>\n",
              "      <td>1</td>\n",
              "      <td>365</td>\n",
              "    </tr>\n",
              "    <tr>\n",
              "      <th>3</th>\n",
              "      <td>3831</td>\n",
              "      <td>Cozy Entire Floor of Brownstone</td>\n",
              "      <td>4869</td>\n",
              "      <td>LisaRoxanne</td>\n",
              "      <td>Brooklyn</td>\n",
              "      <td>Clinton Hill</td>\n",
              "      <td>40.68514</td>\n",
              "      <td>-73.95976</td>\n",
              "      <td>Entire home/apt</td>\n",
              "      <td>89</td>\n",
              "      <td>1</td>\n",
              "      <td>270</td>\n",
              "      <td>2019-07-05</td>\n",
              "      <td>4.64</td>\n",
              "      <td>1</td>\n",
              "      <td>194</td>\n",
              "    </tr>\n",
              "    <tr>\n",
              "      <th>4</th>\n",
              "      <td>5022</td>\n",
              "      <td>Entire Apt: Spacious Studio/Loft by central park</td>\n",
              "      <td>7192</td>\n",
              "      <td>Laura</td>\n",
              "      <td>Manhattan</td>\n",
              "      <td>East Harlem</td>\n",
              "      <td>40.79851</td>\n",
              "      <td>-73.94399</td>\n",
              "      <td>Entire home/apt</td>\n",
              "      <td>80</td>\n",
              "      <td>10</td>\n",
              "      <td>9</td>\n",
              "      <td>2018-11-19</td>\n",
              "      <td>0.10</td>\n",
              "      <td>1</td>\n",
              "      <td>0</td>\n",
              "    </tr>\n",
              "  </tbody>\n",
              "</table>\n",
              "</div>\n",
              "      <button class=\"colab-df-convert\" onclick=\"convertToInteractive('df-fbda70f7-d624-40c1-b6f0-ce2873ac3d6d')\"\n",
              "              title=\"Convert this dataframe to an interactive table.\"\n",
              "              style=\"display:none;\">\n",
              "        \n",
              "  <svg xmlns=\"http://www.w3.org/2000/svg\" height=\"24px\"viewBox=\"0 0 24 24\"\n",
              "       width=\"24px\">\n",
              "    <path d=\"M0 0h24v24H0V0z\" fill=\"none\"/>\n",
              "    <path d=\"M18.56 5.44l.94 2.06.94-2.06 2.06-.94-2.06-.94-.94-2.06-.94 2.06-2.06.94zm-11 1L8.5 8.5l.94-2.06 2.06-.94-2.06-.94L8.5 2.5l-.94 2.06-2.06.94zm10 10l.94 2.06.94-2.06 2.06-.94-2.06-.94-.94-2.06-.94 2.06-2.06.94z\"/><path d=\"M17.41 7.96l-1.37-1.37c-.4-.4-.92-.59-1.43-.59-.52 0-1.04.2-1.43.59L10.3 9.45l-7.72 7.72c-.78.78-.78 2.05 0 2.83L4 21.41c.39.39.9.59 1.41.59.51 0 1.02-.2 1.41-.59l7.78-7.78 2.81-2.81c.8-.78.8-2.07 0-2.86zM5.41 20L4 18.59l7.72-7.72 1.47 1.35L5.41 20z\"/>\n",
              "  </svg>\n",
              "      </button>\n",
              "      \n",
              "  <style>\n",
              "    .colab-df-container {\n",
              "      display:flex;\n",
              "      flex-wrap:wrap;\n",
              "      gap: 12px;\n",
              "    }\n",
              "\n",
              "    .colab-df-convert {\n",
              "      background-color: #E8F0FE;\n",
              "      border: none;\n",
              "      border-radius: 50%;\n",
              "      cursor: pointer;\n",
              "      display: none;\n",
              "      fill: #1967D2;\n",
              "      height: 32px;\n",
              "      padding: 0 0 0 0;\n",
              "      width: 32px;\n",
              "    }\n",
              "\n",
              "    .colab-df-convert:hover {\n",
              "      background-color: #E2EBFA;\n",
              "      box-shadow: 0px 1px 2px rgba(60, 64, 67, 0.3), 0px 1px 3px 1px rgba(60, 64, 67, 0.15);\n",
              "      fill: #174EA6;\n",
              "    }\n",
              "\n",
              "    [theme=dark] .colab-df-convert {\n",
              "      background-color: #3B4455;\n",
              "      fill: #D2E3FC;\n",
              "    }\n",
              "\n",
              "    [theme=dark] .colab-df-convert:hover {\n",
              "      background-color: #434B5C;\n",
              "      box-shadow: 0px 1px 3px 1px rgba(0, 0, 0, 0.15);\n",
              "      filter: drop-shadow(0px 1px 2px rgba(0, 0, 0, 0.3));\n",
              "      fill: #FFFFFF;\n",
              "    }\n",
              "  </style>\n",
              "\n",
              "      <script>\n",
              "        const buttonEl =\n",
              "          document.querySelector('#df-fbda70f7-d624-40c1-b6f0-ce2873ac3d6d button.colab-df-convert');\n",
              "        buttonEl.style.display =\n",
              "          google.colab.kernel.accessAllowed ? 'block' : 'none';\n",
              "\n",
              "        async function convertToInteractive(key) {\n",
              "          const element = document.querySelector('#df-fbda70f7-d624-40c1-b6f0-ce2873ac3d6d');\n",
              "          const dataTable =\n",
              "            await google.colab.kernel.invokeFunction('convertToInteractive',\n",
              "                                                     [key], {});\n",
              "          if (!dataTable) return;\n",
              "\n",
              "          const docLinkHtml = 'Like what you see? Visit the ' +\n",
              "            '<a target=\"_blank\" href=https://colab.research.google.com/notebooks/data_table.ipynb>data table notebook</a>'\n",
              "            + ' to learn more about interactive tables.';\n",
              "          element.innerHTML = '';\n",
              "          dataTable['output_type'] = 'display_data';\n",
              "          await google.colab.output.renderOutput(dataTable, element);\n",
              "          const docLink = document.createElement('div');\n",
              "          docLink.innerHTML = docLinkHtml;\n",
              "          element.appendChild(docLink);\n",
              "        }\n",
              "      </script>\n",
              "    </div>\n",
              "  </div>\n",
              "  "
            ]
          },
          "metadata": {},
          "execution_count": 38
        }
      ]
    },
    {
      "cell_type": "code",
      "source": [
        "df.shape"
      ],
      "metadata": {
        "id": "FhYM__puOw4o",
        "colab": {
          "base_uri": "https://localhost:8080/"
        },
        "outputId": "e582f4b0-a8ea-4a45-9ec6-16df17f2c579"
      },
      "execution_count": 39,
      "outputs": [
        {
          "output_type": "execute_result",
          "data": {
            "text/plain": [
              "(48895, 16)"
            ]
          },
          "metadata": {},
          "execution_count": 39
        }
      ]
    },
    {
      "cell_type": "code",
      "source": [
        "df.columns"
      ],
      "metadata": {
        "id": "rlql9ONCO0jD",
        "colab": {
          "base_uri": "https://localhost:8080/"
        },
        "outputId": "a9541b23-0921-4d73-e227-cda571f04c55"
      },
      "execution_count": 40,
      "outputs": [
        {
          "output_type": "execute_result",
          "data": {
            "text/plain": [
              "Index(['id', 'name', 'host_id', 'host_name', 'neighbourhood_group',\n",
              "       'neighbourhood', 'latitude', 'longitude', 'room_type', 'price',\n",
              "       'minimum_nights', 'number_of_reviews', 'last_review',\n",
              "       'reviews_per_month', 'calculated_host_listings_count',\n",
              "       'availability_365'],\n",
              "      dtype='object')"
            ]
          },
          "metadata": {},
          "execution_count": 40
        }
      ]
    },
    {
      "cell_type": "code",
      "source": [
        "df.info()"
      ],
      "metadata": {
        "id": "jiEvhF1LPHuh",
        "colab": {
          "base_uri": "https://localhost:8080/"
        },
        "outputId": "d01e8631-625e-4a3e-d7e2-caa8ac5c19ce"
      },
      "execution_count": 41,
      "outputs": [
        {
          "output_type": "stream",
          "name": "stdout",
          "text": [
            "<class 'pandas.core.frame.DataFrame'>\n",
            "RangeIndex: 48895 entries, 0 to 48894\n",
            "Data columns (total 16 columns):\n",
            " #   Column                          Non-Null Count  Dtype  \n",
            "---  ------                          --------------  -----  \n",
            " 0   id                              48895 non-null  int64  \n",
            " 1   name                            48879 non-null  object \n",
            " 2   host_id                         48895 non-null  int64  \n",
            " 3   host_name                       48874 non-null  object \n",
            " 4   neighbourhood_group             48895 non-null  object \n",
            " 5   neighbourhood                   48895 non-null  object \n",
            " 6   latitude                        48895 non-null  float64\n",
            " 7   longitude                       48895 non-null  float64\n",
            " 8   room_type                       48895 non-null  object \n",
            " 9   price                           48895 non-null  int64  \n",
            " 10  minimum_nights                  48895 non-null  int64  \n",
            " 11  number_of_reviews               48895 non-null  int64  \n",
            " 12  last_review                     38843 non-null  object \n",
            " 13  reviews_per_month               38843 non-null  float64\n",
            " 14  calculated_host_listings_count  48895 non-null  int64  \n",
            " 15  availability_365                48895 non-null  int64  \n",
            "dtypes: float64(3), int64(7), object(6)\n",
            "memory usage: 6.0+ MB\n"
          ]
        }
      ]
    },
    {
      "cell_type": "code",
      "source": [
        "df.describe()"
      ],
      "metadata": {
        "id": "-sXyuV7IPCiJ",
        "colab": {
          "base_uri": "https://localhost:8080/",
          "height": 364
        },
        "outputId": "f0de9633-a133-49ca-fa11-606efe0bac33"
      },
      "execution_count": 42,
      "outputs": [
        {
          "output_type": "execute_result",
          "data": {
            "text/plain": [
              "                 id       host_id      latitude     longitude         price  \\\n",
              "count  4.889500e+04  4.889500e+04  48895.000000  48895.000000  48895.000000   \n",
              "mean   1.901714e+07  6.762001e+07     40.728949    -73.952170    152.720687   \n",
              "std    1.098311e+07  7.861097e+07      0.054530      0.046157    240.154170   \n",
              "min    2.539000e+03  2.438000e+03     40.499790    -74.244420      0.000000   \n",
              "25%    9.471945e+06  7.822033e+06     40.690100    -73.983070     69.000000   \n",
              "50%    1.967728e+07  3.079382e+07     40.723070    -73.955680    106.000000   \n",
              "75%    2.915218e+07  1.074344e+08     40.763115    -73.936275    175.000000   \n",
              "max    3.648724e+07  2.743213e+08     40.913060    -73.712990  10000.000000   \n",
              "\n",
              "       minimum_nights  number_of_reviews  reviews_per_month  \\\n",
              "count    48895.000000       48895.000000       38843.000000   \n",
              "mean         7.029962          23.274466           1.373221   \n",
              "std         20.510550          44.550582           1.680442   \n",
              "min          1.000000           0.000000           0.010000   \n",
              "25%          1.000000           1.000000           0.190000   \n",
              "50%          3.000000           5.000000           0.720000   \n",
              "75%          5.000000          24.000000           2.020000   \n",
              "max       1250.000000         629.000000          58.500000   \n",
              "\n",
              "       calculated_host_listings_count  availability_365  \n",
              "count                    48895.000000      48895.000000  \n",
              "mean                         7.143982        112.781327  \n",
              "std                         32.952519        131.622289  \n",
              "min                          1.000000          0.000000  \n",
              "25%                          1.000000          0.000000  \n",
              "50%                          1.000000         45.000000  \n",
              "75%                          2.000000        227.000000  \n",
              "max                        327.000000        365.000000  "
            ],
            "text/html": [
              "\n",
              "  <div id=\"df-9da0e5ed-73cc-4dd8-9ef4-c0c3f3b52604\">\n",
              "    <div class=\"colab-df-container\">\n",
              "      <div>\n",
              "<style scoped>\n",
              "    .dataframe tbody tr th:only-of-type {\n",
              "        vertical-align: middle;\n",
              "    }\n",
              "\n",
              "    .dataframe tbody tr th {\n",
              "        vertical-align: top;\n",
              "    }\n",
              "\n",
              "    .dataframe thead th {\n",
              "        text-align: right;\n",
              "    }\n",
              "</style>\n",
              "<table border=\"1\" class=\"dataframe\">\n",
              "  <thead>\n",
              "    <tr style=\"text-align: right;\">\n",
              "      <th></th>\n",
              "      <th>id</th>\n",
              "      <th>host_id</th>\n",
              "      <th>latitude</th>\n",
              "      <th>longitude</th>\n",
              "      <th>price</th>\n",
              "      <th>minimum_nights</th>\n",
              "      <th>number_of_reviews</th>\n",
              "      <th>reviews_per_month</th>\n",
              "      <th>calculated_host_listings_count</th>\n",
              "      <th>availability_365</th>\n",
              "    </tr>\n",
              "  </thead>\n",
              "  <tbody>\n",
              "    <tr>\n",
              "      <th>count</th>\n",
              "      <td>4.889500e+04</td>\n",
              "      <td>4.889500e+04</td>\n",
              "      <td>48895.000000</td>\n",
              "      <td>48895.000000</td>\n",
              "      <td>48895.000000</td>\n",
              "      <td>48895.000000</td>\n",
              "      <td>48895.000000</td>\n",
              "      <td>38843.000000</td>\n",
              "      <td>48895.000000</td>\n",
              "      <td>48895.000000</td>\n",
              "    </tr>\n",
              "    <tr>\n",
              "      <th>mean</th>\n",
              "      <td>1.901714e+07</td>\n",
              "      <td>6.762001e+07</td>\n",
              "      <td>40.728949</td>\n",
              "      <td>-73.952170</td>\n",
              "      <td>152.720687</td>\n",
              "      <td>7.029962</td>\n",
              "      <td>23.274466</td>\n",
              "      <td>1.373221</td>\n",
              "      <td>7.143982</td>\n",
              "      <td>112.781327</td>\n",
              "    </tr>\n",
              "    <tr>\n",
              "      <th>std</th>\n",
              "      <td>1.098311e+07</td>\n",
              "      <td>7.861097e+07</td>\n",
              "      <td>0.054530</td>\n",
              "      <td>0.046157</td>\n",
              "      <td>240.154170</td>\n",
              "      <td>20.510550</td>\n",
              "      <td>44.550582</td>\n",
              "      <td>1.680442</td>\n",
              "      <td>32.952519</td>\n",
              "      <td>131.622289</td>\n",
              "    </tr>\n",
              "    <tr>\n",
              "      <th>min</th>\n",
              "      <td>2.539000e+03</td>\n",
              "      <td>2.438000e+03</td>\n",
              "      <td>40.499790</td>\n",
              "      <td>-74.244420</td>\n",
              "      <td>0.000000</td>\n",
              "      <td>1.000000</td>\n",
              "      <td>0.000000</td>\n",
              "      <td>0.010000</td>\n",
              "      <td>1.000000</td>\n",
              "      <td>0.000000</td>\n",
              "    </tr>\n",
              "    <tr>\n",
              "      <th>25%</th>\n",
              "      <td>9.471945e+06</td>\n",
              "      <td>7.822033e+06</td>\n",
              "      <td>40.690100</td>\n",
              "      <td>-73.983070</td>\n",
              "      <td>69.000000</td>\n",
              "      <td>1.000000</td>\n",
              "      <td>1.000000</td>\n",
              "      <td>0.190000</td>\n",
              "      <td>1.000000</td>\n",
              "      <td>0.000000</td>\n",
              "    </tr>\n",
              "    <tr>\n",
              "      <th>50%</th>\n",
              "      <td>1.967728e+07</td>\n",
              "      <td>3.079382e+07</td>\n",
              "      <td>40.723070</td>\n",
              "      <td>-73.955680</td>\n",
              "      <td>106.000000</td>\n",
              "      <td>3.000000</td>\n",
              "      <td>5.000000</td>\n",
              "      <td>0.720000</td>\n",
              "      <td>1.000000</td>\n",
              "      <td>45.000000</td>\n",
              "    </tr>\n",
              "    <tr>\n",
              "      <th>75%</th>\n",
              "      <td>2.915218e+07</td>\n",
              "      <td>1.074344e+08</td>\n",
              "      <td>40.763115</td>\n",
              "      <td>-73.936275</td>\n",
              "      <td>175.000000</td>\n",
              "      <td>5.000000</td>\n",
              "      <td>24.000000</td>\n",
              "      <td>2.020000</td>\n",
              "      <td>2.000000</td>\n",
              "      <td>227.000000</td>\n",
              "    </tr>\n",
              "    <tr>\n",
              "      <th>max</th>\n",
              "      <td>3.648724e+07</td>\n",
              "      <td>2.743213e+08</td>\n",
              "      <td>40.913060</td>\n",
              "      <td>-73.712990</td>\n",
              "      <td>10000.000000</td>\n",
              "      <td>1250.000000</td>\n",
              "      <td>629.000000</td>\n",
              "      <td>58.500000</td>\n",
              "      <td>327.000000</td>\n",
              "      <td>365.000000</td>\n",
              "    </tr>\n",
              "  </tbody>\n",
              "</table>\n",
              "</div>\n",
              "      <button class=\"colab-df-convert\" onclick=\"convertToInteractive('df-9da0e5ed-73cc-4dd8-9ef4-c0c3f3b52604')\"\n",
              "              title=\"Convert this dataframe to an interactive table.\"\n",
              "              style=\"display:none;\">\n",
              "        \n",
              "  <svg xmlns=\"http://www.w3.org/2000/svg\" height=\"24px\"viewBox=\"0 0 24 24\"\n",
              "       width=\"24px\">\n",
              "    <path d=\"M0 0h24v24H0V0z\" fill=\"none\"/>\n",
              "    <path d=\"M18.56 5.44l.94 2.06.94-2.06 2.06-.94-2.06-.94-.94-2.06-.94 2.06-2.06.94zm-11 1L8.5 8.5l.94-2.06 2.06-.94-2.06-.94L8.5 2.5l-.94 2.06-2.06.94zm10 10l.94 2.06.94-2.06 2.06-.94-2.06-.94-.94-2.06-.94 2.06-2.06.94z\"/><path d=\"M17.41 7.96l-1.37-1.37c-.4-.4-.92-.59-1.43-.59-.52 0-1.04.2-1.43.59L10.3 9.45l-7.72 7.72c-.78.78-.78 2.05 0 2.83L4 21.41c.39.39.9.59 1.41.59.51 0 1.02-.2 1.41-.59l7.78-7.78 2.81-2.81c.8-.78.8-2.07 0-2.86zM5.41 20L4 18.59l7.72-7.72 1.47 1.35L5.41 20z\"/>\n",
              "  </svg>\n",
              "      </button>\n",
              "      \n",
              "  <style>\n",
              "    .colab-df-container {\n",
              "      display:flex;\n",
              "      flex-wrap:wrap;\n",
              "      gap: 12px;\n",
              "    }\n",
              "\n",
              "    .colab-df-convert {\n",
              "      background-color: #E8F0FE;\n",
              "      border: none;\n",
              "      border-radius: 50%;\n",
              "      cursor: pointer;\n",
              "      display: none;\n",
              "      fill: #1967D2;\n",
              "      height: 32px;\n",
              "      padding: 0 0 0 0;\n",
              "      width: 32px;\n",
              "    }\n",
              "\n",
              "    .colab-df-convert:hover {\n",
              "      background-color: #E2EBFA;\n",
              "      box-shadow: 0px 1px 2px rgba(60, 64, 67, 0.3), 0px 1px 3px 1px rgba(60, 64, 67, 0.15);\n",
              "      fill: #174EA6;\n",
              "    }\n",
              "\n",
              "    [theme=dark] .colab-df-convert {\n",
              "      background-color: #3B4455;\n",
              "      fill: #D2E3FC;\n",
              "    }\n",
              "\n",
              "    [theme=dark] .colab-df-convert:hover {\n",
              "      background-color: #434B5C;\n",
              "      box-shadow: 0px 1px 3px 1px rgba(0, 0, 0, 0.15);\n",
              "      filter: drop-shadow(0px 1px 2px rgba(0, 0, 0, 0.3));\n",
              "      fill: #FFFFFF;\n",
              "    }\n",
              "  </style>\n",
              "\n",
              "      <script>\n",
              "        const buttonEl =\n",
              "          document.querySelector('#df-9da0e5ed-73cc-4dd8-9ef4-c0c3f3b52604 button.colab-df-convert');\n",
              "        buttonEl.style.display =\n",
              "          google.colab.kernel.accessAllowed ? 'block' : 'none';\n",
              "\n",
              "        async function convertToInteractive(key) {\n",
              "          const element = document.querySelector('#df-9da0e5ed-73cc-4dd8-9ef4-c0c3f3b52604');\n",
              "          const dataTable =\n",
              "            await google.colab.kernel.invokeFunction('convertToInteractive',\n",
              "                                                     [key], {});\n",
              "          if (!dataTable) return;\n",
              "\n",
              "          const docLinkHtml = 'Like what you see? Visit the ' +\n",
              "            '<a target=\"_blank\" href=https://colab.research.google.com/notebooks/data_table.ipynb>data table notebook</a>'\n",
              "            + ' to learn more about interactive tables.';\n",
              "          element.innerHTML = '';\n",
              "          dataTable['output_type'] = 'display_data';\n",
              "          await google.colab.output.renderOutput(dataTable, element);\n",
              "          const docLink = document.createElement('div');\n",
              "          docLink.innerHTML = docLinkHtml;\n",
              "          element.appendChild(docLink);\n",
              "        }\n",
              "      </script>\n",
              "    </div>\n",
              "  </div>\n",
              "  "
            ]
          },
          "metadata": {},
          "execution_count": 42
        }
      ]
    },
    {
      "cell_type": "markdown",
      "source": [
        "**Check for missing values**\n"
      ],
      "metadata": {
        "id": "3U4hJrMtbQb2"
      }
    },
    {
      "cell_type": "code",
      "source": [
        "df.isnull().sum()"
      ],
      "metadata": {
        "id": "lZUl8z2pR1Gw",
        "colab": {
          "base_uri": "https://localhost:8080/"
        },
        "outputId": "6ea672a6-ad98-4c84-f02f-c8b15517ca76"
      },
      "execution_count": 43,
      "outputs": [
        {
          "output_type": "execute_result",
          "data": {
            "text/plain": [
              "id                                    0\n",
              "name                                 16\n",
              "host_id                               0\n",
              "host_name                            21\n",
              "neighbourhood_group                   0\n",
              "neighbourhood                         0\n",
              "latitude                              0\n",
              "longitude                             0\n",
              "room_type                             0\n",
              "price                                 0\n",
              "minimum_nights                        0\n",
              "number_of_reviews                     0\n",
              "last_review                       10052\n",
              "reviews_per_month                 10052\n",
              "calculated_host_listings_count        0\n",
              "availability_365                      0\n",
              "dtype: int64"
            ]
          },
          "metadata": {},
          "execution_count": 43
        }
      ]
    },
    {
      "cell_type": "markdown",
      "source": [
        "It is showing that we have 12 null values in 'name and 16  in 'host_name', 10052 in last_review and 10052 in reviews_per_month\n"
      ],
      "metadata": {
        "id": "AkI3jRLVYEC3"
      }
    },
    {
      "cell_type": "markdown",
      "source": [
        "**Visualizing the missing values**\n",
        "\n",
        "with the help of heat map , we can see the amount of data is missing from the attribute. With this , we can make decisions whether to drop these missing values or to replace them.But dropping the missing values is not advisable but sometimes it may be helpful too."
      ],
      "metadata": {
        "id": "aIXK5orgarEt"
      }
    },
    {
      "cell_type": "code",
      "source": [
        "#spread of missing values\n",
        "sns.heatmap(df.isnull() ,cbar = False , cmap = 'viridis')"
      ],
      "metadata": {
        "id": "iSk1ZKEtZAtc",
        "colab": {
          "base_uri": "https://localhost:8080/",
          "height": 429
        },
        "outputId": "ccfac0a4-9b66-4b05-be4e-7f7a80584cbb"
      },
      "execution_count": null,
      "outputs": [
        {
          "output_type": "execute_result",
          "data": {
            "text/plain": [
              "<matplotlib.axes._subplots.AxesSubplot at 0x7fb40cd135d0>"
            ]
          },
          "metadata": {},
          "execution_count": 25
        },
        {
          "output_type": "display_data",
          "data": {
            "text/plain": [
              "<Figure size 432x288 with 1 Axes>"
            ],
            "image/png": "[encoded data removed]"
          },
          "metadata": {
            "needs_background": "light"
          }
        }
      ]
    },
    {
      "cell_type": "code",
      "source": [
        "df.tail()"
      ],
      "metadata": {
        "colab": {
          "base_uri": "https://localhost:8080/",
          "height": 513
        },
        "id": "n6ZbMuXceo5P",
        "outputId": "fe23cd04-2ede-4a24-8e2e-fe1d15f53c80"
      },
      "execution_count": null,
      "outputs": [
        {
          "output_type": "execute_result",
          "data": {
            "text/plain": [
              "             id                                               name   host_id  \\\n",
              "48890  36484665    Charming one bedroom - newly renovated rowhouse   8232441   \n",
              "48891  36485057      Affordable room in Bushwick/East Williamsburg   6570630   \n",
              "48892  36485431            Sunny Studio at Historical Neighborhood  23492952   \n",
              "48893  36485609               43rd St. Time Square-cozy single bed  30985759   \n",
              "48894  36487245  Trendy duplex in the very heart of Hell's Kitchen  68119814   \n",
              "\n",
              "           host_name neighbourhood_group       neighbourhood  latitude  \\\n",
              "48890        Sabrina            Brooklyn  Bedford-Stuyvesant  40.67853   \n",
              "48891        Marisol            Brooklyn            Bushwick  40.70184   \n",
              "48892  Ilgar & Aysel           Manhattan              Harlem  40.81475   \n",
              "48893            Taz           Manhattan      Hell's Kitchen  40.75751   \n",
              "48894     Christophe           Manhattan      Hell's Kitchen  40.76404   \n",
              "\n",
              "       longitude        room_type  price  minimum_nights  number_of_reviews  \\\n",
              "48890  -73.94995     Private room     70               2                  0   \n",
              "48891  -73.93317     Private room     40               4                  0   \n",
              "48892  -73.94867  Entire home/apt    115              10                  0   \n",
              "48893  -73.99112      Shared room     55               1                  0   \n",
              "48894  -73.98933     Private room     90               7                  0   \n",
              "\n",
              "      last_review  reviews_per_month  calculated_host_listings_count  \\\n",
              "48890         NaN                NaN                               2   \n",
              "48891         NaN                NaN                               2   \n",
              "48892         NaN                NaN                               1   \n",
              "48893         NaN                NaN                               6   \n",
              "48894         NaN                NaN                               1   \n",
              "\n",
              "       availability_365  \n",
              "48890                 9  \n",
              "48891                36  \n",
              "48892                27  \n",
              "48893                 2  \n",
              "48894                23  "
            ],
            "text/html": [
              "\n",
              "  <div id=\"df-2bff7261-04dd-4c7f-b9c7-0a0fdba71919\">\n",
              "    <div class=\"colab-df-container\">\n",
              "      <div>\n",
              "<style scoped>\n",
              "    .dataframe tbody tr th:only-of-type {\n",
              "        vertical-align: middle;\n",
              "    }\n",
              "\n",
              "    .dataframe tbody tr th {\n",
              "        vertical-align: top;\n",
              "    }\n",
              "\n",
              "    .dataframe thead th {\n",
              "        text-align: right;\n",
              "    }\n",
              "</style>\n",
              "<table border=\"1\" class=\"dataframe\">\n",
              "  <thead>\n",
              "    <tr style=\"text-align: right;\">\n",
              "      <th></th>\n",
              "      <th>id</th>\n",
              "      <th>name</th>\n",
              "      <th>host_id</th>\n",
              "      <th>host_name</th>\n",
              "      <th>neighbourhood_group</th>\n",
              "      <th>neighbourhood</th>\n",
              "      <th>latitude</th>\n",
              "      <th>longitude</th>\n",
              "      <th>room_type</th>\n",
              "      <th>price</th>\n",
              "      <th>minimum_nights</th>\n",
              "      <th>number_of_reviews</th>\n",
              "      <th>last_review</th>\n",
              "      <th>reviews_per_month</th>\n",
              "      <th>calculated_host_listings_count</th>\n",
              "      <th>availability_365</th>\n",
              "    </tr>\n",
              "  </thead>\n",
              "  <tbody>\n",
              "    <tr>\n",
              "      <th>48890</th>\n",
              "      <td>36484665</td>\n",
              "      <td>Charming one bedroom - newly renovated rowhouse</td>\n",
              "      <td>8232441</td>\n",
              "      <td>Sabrina</td>\n",
              "      <td>Brooklyn</td>\n",
              "      <td>Bedford-Stuyvesant</td>\n",
              "      <td>40.67853</td>\n",
              "      <td>-73.94995</td>\n",
              "      <td>Private room</td>\n",
              "      <td>70</td>\n",
              "      <td>2</td>\n",
              "      <td>0</td>\n",
              "      <td>NaN</td>\n",
              "      <td>NaN</td>\n",
              "      <td>2</td>\n",
              "      <td>9</td>\n",
              "    </tr>\n",
              "    <tr>\n",
              "      <th>48891</th>\n",
              "      <td>36485057</td>\n",
              "      <td>Affordable room in Bushwick/East Williamsburg</td>\n",
              "      <td>6570630</td>\n",
              "      <td>Marisol</td>\n",
              "      <td>Brooklyn</td>\n",
              "      <td>Bushwick</td>\n",
              "      <td>40.70184</td>\n",
              "      <td>-73.93317</td>\n",
              "      <td>Private room</td>\n",
              "      <td>40</td>\n",
              "      <td>4</td>\n",
              "      <td>0</td>\n",
              "      <td>NaN</td>\n",
              "      <td>NaN</td>\n",
              "      <td>2</td>\n",
              "      <td>36</td>\n",
              "    </tr>\n",
              "    <tr>\n",
              "      <th>48892</th>\n",
              "      <td>36485431</td>\n",
              "      <td>Sunny Studio at Historical Neighborhood</td>\n",
              "      <td>23492952</td>\n",
              "      <td>Ilgar &amp; Aysel</td>\n",
              "      <td>Manhattan</td>\n",
              "      <td>Harlem</td>\n",
              "      <td>40.81475</td>\n",
              "      <td>-73.94867</td>\n",
              "      <td>Entire home/apt</td>\n",
              "      <td>115</td>\n",
              "      <td>10</td>\n",
              "      <td>0</td>\n",
              "      <td>NaN</td>\n",
              "      <td>NaN</td>\n",
              "      <td>1</td>\n",
              "      <td>27</td>\n",
              "    </tr>\n",
              "    <tr>\n",
              "      <th>48893</th>\n",
              "      <td>36485609</td>\n",
              "      <td>43rd St. Time Square-cozy single bed</td>\n",
              "      <td>30985759</td>\n",
              "      <td>Taz</td>\n",
              "      <td>Manhattan</td>\n",
              "      <td>Hell's Kitchen</td>\n",
              "      <td>40.75751</td>\n",
              "      <td>-73.99112</td>\n",
              "      <td>Shared room</td>\n",
              "      <td>55</td>\n",
              "      <td>1</td>\n",
              "      <td>0</td>\n",
              "      <td>NaN</td>\n",
              "      <td>NaN</td>\n",
              "      <td>6</td>\n",
              "      <td>2</td>\n",
              "    </tr>\n",
              "    <tr>\n",
              "      <th>48894</th>\n",
              "      <td>36487245</td>\n",
              "      <td>Trendy duplex in the very heart of Hell's Kitchen</td>\n",
              "      <td>68119814</td>\n",
              "      <td>Christophe</td>\n",
              "      <td>Manhattan</td>\n",
              "      <td>Hell's Kitchen</td>\n",
              "      <td>40.76404</td>\n",
              "      <td>-73.98933</td>\n",
              "      <td>Private room</td>\n",
              "      <td>90</td>\n",
              "      <td>7</td>\n",
              "      <td>0</td>\n",
              "      <td>NaN</td>\n",
              "      <td>NaN</td>\n",
              "      <td>1</td>\n",
              "      <td>23</td>\n",
              "    </tr>\n",
              "  </tbody>\n",
              "</table>\n",
              "</div>\n",
              "      <button class=\"colab-df-convert\" onclick=\"convertToInteractive('df-2bff7261-04dd-4c7f-b9c7-0a0fdba71919')\"\n",
              "              title=\"Convert this dataframe to an interactive table.\"\n",
              "              style=\"display:none;\">\n",
              "        \n",
              "  <svg xmlns=\"http://www.w3.org/2000/svg\" height=\"24px\"viewBox=\"0 0 24 24\"\n",
              "       width=\"24px\">\n",
              "    <path d=\"M0 0h24v24H0V0z\" fill=\"none\"/>\n",
              "    <path d=\"M18.56 5.44l.94 2.06.94-2.06 2.06-.94-2.06-.94-.94-2.06-.94 2.06-2.06.94zm-11 1L8.5 8.5l.94-2.06 2.06-.94-2.06-.94L8.5 2.5l-.94 2.06-2.06.94zm10 10l.94 2.06.94-2.06 2.06-.94-2.06-.94-.94-2.06-.94 2.06-2.06.94z\"/><path d=\"M17.41 7.96l-1.37-1.37c-.4-.4-.92-.59-1.43-.59-.52 0-1.04.2-1.43.59L10.3 9.45l-7.72 7.72c-.78.78-.78 2.05 0 2.83L4 21.41c.39.39.9.59 1.41.59.51 0 1.02-.2 1.41-.59l7.78-7.78 2.81-2.81c.8-.78.8-2.07 0-2.86zM5.41 20L4 18.59l7.72-7.72 1.47 1.35L5.41 20z\"/>\n",
              "  </svg>\n",
              "      </button>\n",
              "      \n",
              "  <style>\n",
              "    .colab-df-container {\n",
              "      display:flex;\n",
              "      flex-wrap:wrap;\n",
              "      gap: 12px;\n",
              "    }\n",
              "\n",
              "    .colab-df-convert {\n",
              "      background-color: #E8F0FE;\n",
              "      border: none;\n",
              "      border-radius: 50%;\n",
              "      cursor: pointer;\n",
              "      display: none;\n",
              "      fill: #1967D2;\n",
              "      height: 32px;\n",
              "      padding: 0 0 0 0;\n",
              "      width: 32px;\n",
              "    }\n",
              "\n",
              "    .colab-df-convert:hover {\n",
              "      background-color: #E2EBFA;\n",
              "      box-shadow: 0px 1px 2px rgba(60, 64, 67, 0.3), 0px 1px 3px 1px rgba(60, 64, 67, 0.15);\n",
              "      fill: #174EA6;\n",
              "    }\n",
              "\n",
              "    [theme=dark] .colab-df-convert {\n",
              "      background-color: #3B4455;\n",
              "      fill: #D2E3FC;\n",
              "    }\n",
              "\n",
              "    [theme=dark] .colab-df-convert:hover {\n",
              "      background-color: #434B5C;\n",
              "      box-shadow: 0px 1px 3px 1px rgba(0, 0, 0, 0.15);\n",
              "      filter: drop-shadow(0px 1px 2px rgba(0, 0, 0, 0.3));\n",
              "      fill: #FFFFFF;\n",
              "    }\n",
              "  </style>\n",
              "\n",
              "      <script>\n",
              "        const buttonEl =\n",
              "          document.querySelector('#df-2bff7261-04dd-4c7f-b9c7-0a0fdba71919 button.colab-df-convert');\n",
              "        buttonEl.style.display =\n",
              "          google.colab.kernel.accessAllowed ? 'block' : 'none';\n",
              "\n",
              "        async function convertToInteractive(key) {\n",
              "          const element = document.querySelector('#df-2bff7261-04dd-4c7f-b9c7-0a0fdba71919');\n",
              "          const dataTable =\n",
              "            await google.colab.kernel.invokeFunction('convertToInteractive',\n",
              "                                                     [key], {});\n",
              "          if (!dataTable) return;\n",
              "\n",
              "          const docLinkHtml = 'Like what you see? Visit the ' +\n",
              "            '<a target=\"_blank\" href=https://colab.research.google.com/notebooks/data_table.ipynb>data table notebook</a>'\n",
              "            + ' to learn more about interactive tables.';\n",
              "          element.innerHTML = '';\n",
              "          dataTable['output_type'] = 'display_data';\n",
              "          await google.colab.output.renderOutput(dataTable, element);\n",
              "          const docLink = document.createElement('div');\n",
              "          docLink.innerHTML = docLinkHtml;\n",
              "          element.appendChild(docLink);\n",
              "        }\n",
              "      </script>\n",
              "    </div>\n",
              "  </div>\n",
              "  "
            ]
          },
          "metadata": {},
          "execution_count": 26
        }
      ]
    },
    {
      "cell_type": "markdown",
      "source": [
        "Now we can see that there are many missing values in last_reviews and reviews_per_month. we cant drop these columns as it is vary important for our prediction."
      ],
      "metadata": {
        "id": "QEOhP9BTaZd-"
      }
    },
    {
      "cell_type": "code",
      "source": [
        "df.dtypes"
      ],
      "metadata": {
        "colab": {
          "base_uri": "https://localhost:8080/"
        },
        "id": "e69COhdrr8xn",
        "outputId": "ec647d61-4da5-432e-e967-85f6552e6003"
      },
      "execution_count": 44,
      "outputs": [
        {
          "output_type": "execute_result",
          "data": {
            "text/plain": [
              "id                                  int64\n",
              "name                               object\n",
              "host_id                             int64\n",
              "host_name                          object\n",
              "neighbourhood_group                object\n",
              "neighbourhood                      object\n",
              "latitude                          float64\n",
              "longitude                         float64\n",
              "room_type                          object\n",
              "price                               int64\n",
              "minimum_nights                      int64\n",
              "number_of_reviews                   int64\n",
              "last_review                        object\n",
              "reviews_per_month                 float64\n",
              "calculated_host_listings_count      int64\n",
              "availability_365                    int64\n",
              "dtype: object"
            ]
          },
          "metadata": {},
          "execution_count": 44
        }
      ]
    },
    {
      "cell_type": "code",
      "source": [
        "# dropping rows with missing values in name and host_name column\n",
        "df.dropna(subset=['name'],inplace = True)\n",
        "df.dropna(subset=['host_name'],inplace = True)"
      ],
      "metadata": {
        "id": "mMIWpqAEp7Zw"
      },
      "execution_count": 46,
      "outputs": []
    },
    {
      "cell_type": "code",
      "source": [
        "df.isnull().sum()"
      ],
      "metadata": {
        "colab": {
          "base_uri": "https://localhost:8080/"
        },
        "id": "NviAr1cxs7dO",
        "outputId": "da415060-92d1-47d2-cffa-9ffe2fede472"
      },
      "execution_count": 47,
      "outputs": [
        {
          "output_type": "execute_result",
          "data": {
            "text/plain": [
              "id                                    0\n",
              "name                                  0\n",
              "host_id                               0\n",
              "host_name                             0\n",
              "neighbourhood_group                   0\n",
              "neighbourhood                         0\n",
              "latitude                              0\n",
              "longitude                             0\n",
              "room_type                             0\n",
              "price                                 0\n",
              "minimum_nights                        0\n",
              "number_of_reviews                     0\n",
              "last_review                       10037\n",
              "reviews_per_month                 10037\n",
              "calculated_host_listings_count        0\n",
              "availability_365                      0\n",
              "dtype: int64"
            ]
          },
          "metadata": {},
          "execution_count": 47
        }
      ]
    },
    {
      "cell_type": "code",
      "source": [
        "df.isnull().sum()"
      ],
      "metadata": {
        "colab": {
          "base_uri": "https://localhost:8080/"
        },
        "id": "rThFnIA8nYt2",
        "outputId": "71a8fe76-cfee-4f4e-8f8a-8f28399c9836"
      },
      "execution_count": 54,
      "outputs": [
        {
          "output_type": "execute_result",
          "data": {
            "text/plain": [
              "id                                0\n",
              "name                              0\n",
              "host_id                           0\n",
              "host_name                         0\n",
              "neighbourhood_group               0\n",
              "neighbourhood                     0\n",
              "latitude                          0\n",
              "longitude                         0\n",
              "room_type                         0\n",
              "price                             0\n",
              "minimum_nights                    0\n",
              "number_of_reviews                 0\n",
              "last_review                       0\n",
              "reviews_per_month                 0\n",
              "calculated_host_listings_count    0\n",
              "availability_365                  0\n",
              "dtype: int64"
            ]
          },
          "metadata": {},
          "execution_count": 54
        }
      ]
    },
    {
      "cell_type": "code",
      "source": [
        "#checking unique values in last review"
      ],
      "metadata": {
        "id": "hsBIzzGstYOj"
      },
      "execution_count": 49,
      "outputs": []
    },
    {
      "cell_type": "code",
      "source": [
        "print(list(df['last_review'].unique()))"
      ],
      "metadata": {
        "colab": {
          "base_uri": "https://localhost:8080/"
        },
        "id": "L02MSYLJtdxm",
        "outputId": "dc9c1745-25fb-4418-cdce-4f70b59548ed"
      },
      "execution_count": 50,
      "outputs": [
        {
          "output_type": "stream",
          "name": "stdout",
          "text": [
            "['2018-10-19', '2019-05-21', nan, '2019-07-05', '2018-11-19', '2019-06-22', '2017-10-05', '2019-06-24', '2017-07-21', '2019-06-09', '2019-06-23', '2018-10-31', '2019-06-29', '2019-06-28', '2019-07-01', '2011-12-28', '2019-01-01', '2019-07-02', '2019-06-19', '2017-08-13', '2019-06-15', '2019-04-19', '2019-06-01', '2019-06-14', '2019-05-12', '2019-06-21', '2019-05-27', '2018-09-30', '2019-06-16', '2019-06-13', '2019-06-05', '2019-05-25', '2017-01-01', '2019-06-17', '2019-07-07', '2019-05-17', '2019-03-25', '2019-05-18', '2019-06-04', '2019-06-30', '2018-11-03', '2019-03-30', '2019-01-26', '2017-09-30', '2019-05-16', '2017-09-24', '2018-05-14', '2019-06-18', '2019-06-26', '2019-01-02', '2019-07-06', '2019-05-31', '2019-05-28', '2019-04-22', '2019-03-23', '2019-04-08', '2016-08-04', '2018-08-09', '2016-02-14', '2019-05-26', '2019-06-27', '2018-07-22', '2018-10-09', '2019-05-01', '2018-10-28', '2019-01-03', '2012-11-01', '2019-05-29', '2018-11-02', '2018-05-26', '2017-03-17', '2019-06-02', '2017-12-11', '2018-12-30', '2017-08-09', '2015-12-02', '2019-04-27', '2019-06-07', '2019-05-20', '2011-12-10', '2018-10-05', '2011-09-18', '2017-08-15', '2017-08-17', '2019-05-14', '2019-06-20', '2019-07-03', '2019-06-25', '2017-07-30', '2018-06-11', '2016-04-24', '2011-09-19', '2013-05-10', '2018-08-27', '2017-05-29', '2019-03-31', '2018-12-27', '2018-12-31', '2019-06-08', '2019-04-12', '2011-04-25', '2016-09-23', '2015-11-02', '2019-07-04', '2016-07-06', '2016-04-20', '2018-12-17', '2019-05-19', '2012-09-03', '2015-07-17', '2017-11-13', '2015-05-09', '2015-10-08', '2014-01-07', '2019-06-06', '2018-12-05', '2019-06-10', '2019-06-03', '2019-05-24', '2019-05-08', '2012-09-17', '2016-01-05', '2019-05-11', '2018-09-29', '2019-06-11', '2018-10-07', '2017-08-25', '2015-12-12', '2017-07-27', '2019-04-30', '2016-08-29', '2018-08-19', '2019-01-07', '2019-01-05', '2013-05-02', '2019-02-16', '2019-05-06', '2018-07-06', '2016-11-13', '2019-01-10', '2014-05-13', '2019-02-15', '2015-11-25', '2012-08-22', '2011-03-28', '2016-02-05', '2019-04-20', '2016-03-27', '2018-09-25', '2011-05-12', '2016-09-16', '2018-09-03', '2018-08-26', '2019-01-14', '2016-07-18', '2018-12-26', '2012-01-03', '2019-03-01', '2018-01-01', '2018-05-19', '2015-09-21', '2013-01-01', '2016-01-02', '2018-12-28', '2018-09-24', '2016-05-02', '2014-11-06', '2014-08-04', '2017-12-26', '2016-06-06', '2019-05-30', '2018-07-08', '2019-01-31', '2017-05-25', '2018-01-13', '2013-10-01', '2014-11-10', '2014-06-06', '2013-05-31', '2018-12-11', '2019-02-12', '2018-11-16', '2018-05-08', '2019-05-02', '2017-10-08', '2015-03-13', '2014-08-31', '2017-12-31', '2018-08-29', '2018-08-23', '2015-08-08', '2018-05-13', '2018-08-24', '2013-10-15', '2017-04-18', '2016-02-15', '2015-10-01', '2018-01-03', '2018-05-05', '2018-10-23', '2019-05-07', '2019-04-13', '2018-12-01', '2019-04-04', '2019-04-29', '2018-12-03', '2015-08-28', '2016-01-01', '2018-10-20', '2018-01-12', '2014-04-20', '2019-03-28', '2018-05-21', '2017-06-18', '2019-06-12', '2015-06-14', '2018-04-30', '2016-12-26', '2016-09-18', '2015-09-17', '2016-11-15', '2015-08-31', '2018-04-25', '2016-06-23', '2019-04-21', '2018-02-08', '2018-11-14', '2019-01-19', '2017-10-14', '2015-06-03', '2015-07-20', '2019-02-28', '2017-01-05', '2019-03-15', '2018-09-15', '2018-10-26', '2015-01-02', '2018-07-05', '2018-08-14', '2012-01-02', '2015-10-02', '2013-07-09', '2018-07-31', '2017-07-31', '2019-04-26', '2018-05-28', '2019-04-14', '2019-04-28', '2014-10-06', '2018-05-18', '2018-12-19', '2017-07-09', '2019-04-01', '2016-10-02', '2015-08-17', '2017-06-28', '2015-07-03', '2014-12-03', '2017-09-25', '2019-05-23', '2018-09-01', '2018-11-06', '2015-06-25', '2018-11-26', '2019-04-25', '2018-07-26', '2015-11-03', '2018-04-19', '2015-12-04', '2014-01-13', '2019-01-28', '2017-08-12', '2019-04-10', '2015-12-30', '2014-10-26', '2018-06-30', '2019-05-22', '2017-08-28', '2015-05-27', '2017-04-01', '2017-12-30', '2019-01-27', '2015-08-19', '2017-05-03', '2015-01-08', '2015-11-01', '2019-03-19', '2018-07-12', '2019-01-21', '2013-09-24', '2019-01-15', '2019-03-27', '2015-09-07', '2015-09-08', '2018-01-02', '2018-10-27', '2016-09-01', '2019-05-13', '2017-12-29', '2017-06-20', '2013-04-21', '2017-03-18', '2018-04-10', '2014-10-31', '2012-10-02', '2018-08-10', '2016-08-03', '2018-11-12', '2013-05-06', '2018-08-03', '2013-09-11', '2015-10-31', '2017-08-01', '2016-09-05', '2016-08-11', '2016-11-26', '2014-09-09', '2018-04-15', '2016-08-30', '2018-09-12', '2019-04-23', '2015-05-20', '2014-03-24', '2017-09-21', '2018-10-10', '2013-12-04', '2016-11-08', '2018-04-02', '2016-03-26', '2019-05-04', '2017-06-24', '2019-02-08', '2017-12-10', '2018-12-22', '2015-11-16', '2017-01-02', '2016-05-14', '2019-05-03', '2015-08-23', '2018-07-16', '2012-06-07', '2016-07-13', '2015-05-31', '2014-10-28', '2018-06-19', '2018-11-04', '2019-04-07', '2014-06-09', '2018-07-30', '2018-12-29', '2014-09-04', '2019-04-24', '2015-10-12', '2017-04-14', '2018-12-04', '2018-10-24', '2015-05-15', '2016-01-03', '2018-09-04', '2019-03-04', '2018-11-09', '2015-09-30', '2019-05-05', '2018-10-08', '2013-06-22', '2015-11-17', '2017-09-05', '2016-12-04', '2017-06-30', '2016-10-11', '2016-10-22', '2019-02-14', '2019-05-09', '2018-09-26', '2019-03-24', '2016-05-31', '2019-03-13', '2016-10-30', '2017-08-11', '2016-05-21', '2019-04-02', '2015-05-21', '2015-10-06', '2017-01-31', '2014-08-22', '2016-09-28', '2018-11-25', '2017-10-03', '2016-12-24', '2015-10-07', '2018-08-22', '2017-04-17', '2018-03-27', '2014-08-21', '2016-01-09', '2018-12-15', '2015-08-16', '2018-06-23', '2013-11-01', '2014-12-31', '2018-08-16', '2018-09-19', '2015-10-04', '2016-05-12', '2018-03-24', '2018-12-16', '2012-05-29', '2015-12-22', '2018-12-12', '2013-09-01', '2016-05-23', '2019-01-04', '2017-02-19', '2015-07-27', '2019-03-09', '2018-10-11', '2019-01-06', '2014-05-20', '2017-11-04', '2012-12-30', '2019-02-20', '2014-06-30', '2016-08-21', '2018-03-02', '2017-03-29', '2016-10-09', '2013-03-31', '2017-05-30', '2018-07-23', '2017-05-07', '2018-10-22', '2019-02-23', '2013-07-14', '2017-07-01', '2014-09-03', '2012-06-22', '2019-03-22', '2015-09-20', '2016-05-09', '2012-07-11', '2013-01-04', '2015-08-15', '2019-05-15', '2016-04-28', '2012-12-25', '2012-12-31', '2015-06-28', '2018-07-04', '2018-09-10', '2018-09-14', '2014-06-28', '2018-10-18', '2014-07-08', '2018-10-15', '2015-06-12', '2019-01-20', '2018-08-07', '2015-08-07', '2016-05-16', '2015-05-25', '2017-08-10', '2019-05-10', '2016-04-22', '2016-12-05', '2012-09-05', '2017-02-15', '2016-12-28', '2016-10-03', '2014-04-15', '2017-08-22', '2012-09-14', '2018-08-05', '2017-06-01', '2018-11-13', '2016-07-01', '2013-06-20', '2017-05-08', '2015-03-31', '2012-08-10', '2014-04-27', '2016-07-15', '2016-11-18', '2015-10-11', '2018-10-21', '2017-01-25', '2015-12-29', '2014-10-18', '2015-12-07', '2019-04-18', '2018-06-05', '2015-12-31', '2015-10-18', '2017-07-29', '2017-11-21', '2018-09-13', '2018-08-21', '2015-10-28', '2013-09-04', '2015-10-13', '2014-04-22', '2015-09-28', '2018-06-04', '2013-04-03', '2016-01-11', '2015-09-23', '2019-07-08', '2012-09-18', '2019-04-06', '2013-03-08', '2012-09-23', '2015-09-25', '2016-12-08', '2013-12-25', '2015-08-25', '2016-12-31', '2016-08-15', '2018-08-15', '2015-10-24', '2012-08-25', '2018-07-09', '2018-01-04', '2016-05-07', '2016-01-28', '2013-07-11', '2018-06-24', '2017-08-03', '2015-07-16', '2018-08-31', '2019-01-18', '2018-12-20', '2017-10-15', '2017-05-20', '2017-05-18', '2018-01-25', '2018-09-07', '2016-08-26', '2019-04-15', '2017-12-08', '2017-10-06', '2018-12-10', '2015-04-11', '2017-08-29', '2013-08-08', '2019-03-12', '2018-09-02', '2015-05-14', '2019-03-17', '2017-04-16', '2014-05-19', '2018-06-25', '2015-10-05', '2018-09-18', '2017-08-21', '2015-08-29', '2017-12-12', '2016-03-15', '2018-11-01', '2018-12-07', '2016-05-25', '2017-05-26', '2018-08-02', '2015-08-02', '2018-07-24', '2018-09-16', '2018-09-05', '2017-12-15', '2013-01-05', '2015-07-06', '2016-10-15', '2015-12-28', '2015-12-13', '2015-10-27', '2017-05-22', '2015-04-28', '2015-05-23', '2014-11-03', '2015-03-02', '2016-12-27', '2017-04-30', '2012-11-10', '2018-06-29', '2016-05-01', '2014-09-22', '2019-02-11', '2016-04-21', '2018-06-28', '2015-10-19', '2016-04-23', '2014-04-28', '2014-06-10', '2013-10-17', '2019-03-16', '2017-11-18', '2015-06-09', '2017-08-14', '2018-07-27', '2018-04-07', '2015-06-15', '2015-09-26', '2018-09-21', '2017-08-19', '2017-01-03', '2019-03-11', '2016-09-26', '2016-06-27', '2018-11-10', '2016-01-07', '2015-11-14', '2015-06-26', '2013-06-30', '2015-11-13', '2017-11-20', '2018-11-28', '2018-01-07', '2014-09-12', '2017-12-28', '2019-01-12', '2015-01-07', '2016-11-06', '2015-11-10', '2016-10-08', '2014-12-26', '2012-12-12', '2017-06-09', '2016-05-24', '2019-03-02', '2015-01-03', '2014-07-13', '2018-10-13', '2016-10-12', '2017-10-18', '2013-11-09', '2016-03-30', '2019-04-17', '2017-05-24', '2015-09-27', '2017-09-10', '2018-05-16', '2018-05-11', '2016-02-29', '2013-06-28', '2014-09-06', '2015-11-05', '2018-10-29', '2018-07-20', '2015-07-19', '2018-05-02', '2015-12-08', '2017-12-06', '2018-10-25', '2017-09-16', '2015-03-25', '2017-07-03', '2015-03-30', '2016-10-17', '2019-04-11', '2016-08-18', '2017-08-02', '2018-11-27', '2018-02-12', '2016-06-10', '2016-10-16', '2015-01-05', '2019-01-29', '2018-05-06', '2014-06-27', '2018-06-10', '2019-02-01', '2018-06-26', '2018-10-14', '2019-02-03', '2018-12-21', '2016-11-11', '2018-12-09', '2018-09-08', '2013-04-09', '2016-08-20', '2014-09-24', '2013-08-01', '2018-03-31', '2014-10-05', '2018-05-29', '2015-10-29', '2018-08-12', '2015-08-05', '2018-07-03', '2014-05-27', '2016-10-26', '2017-08-26', '2015-10-15', '2017-06-19', '2017-06-03', '2017-05-31', '2018-07-28', '2018-09-27', '2017-12-02', '2018-10-06', '2019-03-08', '2014-10-02', '2017-12-07', '2016-10-14', '2016-05-28', '2015-09-12', '2015-01-09', '2017-09-29', '2015-01-01', '2016-04-01', '2017-05-21', '2016-08-23', '2016-08-17', '2018-07-07', '2019-02-19', '2016-07-04', '2016-01-27', '2018-08-30', '2014-07-12', '2013-05-24', '2019-01-13', '2016-11-07', '2016-11-30', '2015-09-22', '2017-07-24', '2015-05-17', '2019-01-23', '2018-10-17', '2018-08-25', '2016-08-19', '2014-10-12', '2017-06-22', '2018-07-01', '2016-09-27', '2015-07-01', '2018-12-02', '2015-08-01', '2017-08-18', '2017-06-29', '2017-12-14', '2019-01-08', '2015-03-16', '2014-08-13', '2015-12-19', '2014-05-17', '2017-08-20', '2017-01-16', '2016-09-19', '2018-09-11', '2015-10-09', '2018-08-20', '2018-01-31', '2019-03-10', '2018-11-30', '2016-09-04', '2015-04-03', '2018-12-08', '2015-12-20', '2018-04-21', '2017-09-07', '2016-05-29', '2016-08-27', '2019-03-29', '2017-12-03', '2013-11-21', '2016-01-30', '2013-10-09', '2018-08-18', '2014-08-23', '2017-05-28', '2013-09-06', '2016-05-18', '2016-08-22', '2018-10-03', '2018-10-12', '2019-01-25', '2017-12-20', '2019-04-03', '2016-07-05', '2016-07-25', '2013-09-07', '2014-10-20', '2015-09-01', '2013-09-28', '2016-05-04', '2017-10-28', '2018-05-01', '2019-02-04', '2018-09-23', '2016-06-29', '2017-07-19', '2016-12-13', '2016-09-21', '2014-09-01', '2018-11-07', '2017-05-04', '2013-09-16', '2016-09-24', '2018-02-18', '2015-09-04', '2017-03-31', '2019-02-18', '2019-02-22', '2014-04-02', '2018-05-30', '2016-07-09', '2015-12-01', '2014-01-05', '2015-03-18', '2014-02-03', '2017-09-06', '2014-04-23', '2015-12-23', '2017-04-15', '2017-05-11', '2014-07-21', '2019-01-30', '2018-03-07', '2017-11-25', '2014-08-10', '2015-06-01', '2016-10-01', '2019-04-09', '2019-01-24', '2019-02-07', '2017-09-22', '2018-11-18', '2016-07-12', '2016-08-05', '2017-09-04', '2016-04-11', '2015-11-21', '2017-01-07', '2017-12-04', '2016-10-18', '2017-12-17', '2016-10-31', '2015-09-10', '2014-09-28', '2016-06-13', '2018-08-01', '2018-07-19', '2017-06-11', '2014-10-19', '2014-02-01', '2018-08-28', '2017-10-23', '2016-02-12', '2016-07-29', '2018-04-08', '2016-07-03', '2015-02-06', '2016-03-08', '2015-12-11', '2016-09-11', '2016-06-05', '2016-09-07', '2015-07-13', '2018-04-29', '2016-03-13', '2016-02-20', '2019-02-26', '2018-03-16', '2017-06-06', '2017-10-24', '2013-12-15', '2016-05-06', '2018-08-08', '2018-11-11', '2015-03-23', '2014-10-14', '2015-10-26', '2016-02-27', '2017-05-06', '2017-01-15', '2016-10-04', '2015-09-06', '2014-06-21', '2016-06-26', '2014-11-01', '2016-08-16', '2015-10-14', '2015-12-17', '2014-08-03', '2018-12-06', '2016-08-06', '2016-06-20', '2015-07-25', '2014-12-19', '2018-11-23', '2018-06-01', '2016-04-04', '2016-09-25', '2016-11-14', '2015-08-20', '2014-09-30', '2018-05-04', '2014-01-02', '2015-05-08', '2016-03-25', '2014-08-01', '2016-09-22', '2016-01-15', '2018-01-08', '2016-10-10', '2016-06-11', '2016-01-06', '2016-04-09', '2018-05-31', '2015-07-23', '2019-03-14', '2016-06-07', '2019-01-22', '2014-01-03', '2016-08-28', '2016-09-06', '2014-09-07', '2013-12-14', '2014-08-19', '2018-07-13', '2017-07-25', '2015-05-30', '2018-07-17', '2016-12-30', '2016-03-20', '2017-02-20', '2016-06-01', '2017-09-20', '2018-02-28', '2018-07-25', '2015-05-19', '2017-08-30', '2015-12-14', '2018-01-23', '2017-12-21', '2014-11-30', '2015-06-22', '2017-04-07', '2014-06-02', '2017-03-08', '2017-01-29', '2018-01-05', '2015-04-21', '2015-02-17', '2016-11-05', '2016-12-22', '2018-06-27', '2018-09-28', '2016-11-21', '2015-12-06', '2018-03-10', '2016-05-15', '2014-01-04', '2015-08-04', '2017-06-26', '2016-08-25', '2018-04-23', '2017-05-23', '2017-12-25', '2019-02-09', '2014-09-29', '2016-04-07', '2014-09-14', '2016-07-31', '2018-07-29', '2014-04-21', '2018-01-06', '2016-02-24', '2014-06-26', '2014-08-20', '2016-03-29', '2014-08-24', '2014-08-18', '2018-07-14', '2016-11-27', '2015-06-21', '2015-11-19', '2015-12-27', '2016-06-15', '2018-08-11', '2015-03-11', '2016-06-02', '2015-02-22', '2019-03-05', '2018-09-17', '2015-05-04', '2017-10-22', '2015-10-20', '2018-07-21', '2016-01-12', '2017-09-15', '2016-07-11', '2018-04-24', '2017-03-13', '2015-07-22', '2016-05-26', '2018-04-14', '2016-07-28', '2015-05-10', '2017-11-06', '2015-04-30', '2016-09-12', '2017-10-31', '2017-02-07', '2017-10-30', '2018-04-22', '2015-04-06', '2017-12-18', '2018-11-29', '2014-04-11', '2014-08-28', '2016-02-21', '2017-12-01', '2014-05-02', '2018-06-20', '2015-08-18', '2016-07-16', '2018-03-28', '2017-10-01', '2017-03-05', '2014-03-28', '2014-04-24', '2019-01-09', '2016-10-13', '2016-12-12', '2016-05-30', '2016-08-13', '2015-11-06', '2017-11-12', '2016-01-08', '2016-04-30', '2015-02-25', '2014-08-07', '2018-09-09', '2015-04-14', '2017-11-14', '2014-10-13', '2014-05-05', '2014-04-17', '2016-12-11', '2014-05-29', '2016-03-23', '2016-10-27', '2018-05-25', '2018-06-08', '2018-01-15', '2014-04-19', '2015-04-26', '2017-04-28', '2018-02-22', '2014-10-04', '2015-09-05', '2016-05-22', '2017-11-24', '2015-04-25', '2017-11-11', '2014-07-15', '2015-11-15', '2015-08-12', '2015-05-01', '2017-08-31', '2015-12-25', '2018-07-18', '2015-04-22', '2015-10-21', '2015-07-28', '2018-04-27', '2014-06-13', '2015-10-16', '2016-03-24', '2017-04-20', '2016-12-19', '2016-09-15', '2017-04-23', '2015-06-18', '2017-02-04', '2014-06-14', '2015-02-21', '2018-05-15', '2014-08-25', '2018-06-15', '2017-10-20', '2016-11-29', '2015-04-02', '2015-08-11', '2015-06-30', '2016-08-31', '2018-10-04', '2014-08-17', '2016-10-28', '2015-07-31', '2015-11-12', '2018-06-02', '2016-10-20', '2017-04-22', '2014-08-15', '2014-07-10', '2014-12-22', '2017-08-07', '2016-12-06', '2015-10-17', '2014-05-24', '2015-06-19', '2016-09-29', '2016-03-09', '2018-06-21', '2017-09-23', '2014-09-27', '2015-01-11', '2015-02-12', '2016-07-26', '2018-05-17', '2016-10-24', '2018-03-23', '2014-09-17', '2018-03-03', '2017-05-09', '2017-03-02', '2015-07-11', '2017-09-02', '2015-01-12', '2019-02-24', '2019-03-18', '2016-12-16', '2017-09-11', '2018-11-15', '2018-12-24', '2016-08-14', '2017-09-03', '2015-06-06', '2015-06-08', '2016-07-30', '2018-02-27', '2017-10-29', '2016-06-30', '2015-08-03', '2016-10-06', '2018-04-05', '2015-09-14', '2017-03-04', '2017-01-09', '2016-04-17', '2015-01-30', '2018-03-20', '2015-09-15', '2017-11-30', '2018-07-15', '2016-12-01', '2018-08-13', '2015-12-09', '2014-10-24', '2016-11-10', '2016-09-09', '2019-04-05', '2014-08-09', '2015-09-24', '2014-07-28', '2018-05-24', '2016-06-21', '2014-11-02', '2016-11-22', '2014-12-30', '2014-08-05', '2014-07-11', '2016-03-19', '2015-06-05', '2017-10-09', '2016-05-11', '2016-01-17', '2017-03-10', '2018-08-06', '2016-03-22', '2016-11-01', '2016-05-19', '2016-06-24', '2015-07-26', '2016-08-02', '2017-04-26', '2017-07-04', '2016-04-29', '2014-09-20', '2018-11-21', '2016-01-25', '2014-08-27', '2016-02-22', '2018-03-15', '2015-01-04', '2016-06-17', '2019-02-02', '2017-01-04', '2016-08-08', '2015-11-07', '2015-08-21', '2015-11-04', '2017-05-15', '2014-09-15', '2014-10-22', '2015-06-17', '2016-09-13', '2017-09-19', '2016-09-10', '2016-01-16', '2018-12-23', '2016-09-17', '2016-04-08', '2018-11-20', '2015-05-07', '2014-08-16', '2016-05-27', '2017-05-13', '2016-06-19', '2018-05-27', '2016-10-25', '2014-08-30', '2018-02-01', '2017-04-27', '2015-09-16', '2017-07-06', '2016-05-10', '2015-06-24', '2015-07-15', '2015-09-13', '2015-09-19', '2017-07-16', '2017-09-14', '2017-07-28', '2014-12-08', '2015-09-29', '2017-02-10', '2014-10-17', '2018-11-05', '2014-09-18', '2018-10-01', '2017-03-26', '2018-02-11', '2017-08-24', '2015-05-26', '2014-10-08', '2015-04-07', '2015-12-03', '2015-10-30', '2017-06-23', '2014-09-25', '2014-09-21', '2017-11-02', '2016-04-05', '2017-05-12', '2016-04-02', '2016-10-05', '2015-06-07', '2015-05-24', '2016-09-20', '2017-12-27', '2015-01-15', '2018-03-30', '2019-03-06', '2015-07-10', '2014-09-23', '2016-05-03', '2018-08-04', '2017-02-01', '2014-11-28', '2017-08-05', '2016-07-02', '2015-05-05', '2016-04-15', '2016-01-21', '2014-10-27', '2014-11-09', '2016-04-19', '2015-05-03', '2016-07-07', '2014-12-27', '2015-11-27', '2014-10-11', '2018-01-26', '2015-06-10', '2018-06-18', '2016-11-28', '2016-05-17', '2017-04-12', '2019-01-17', '2016-06-22', '2018-12-14', '2014-11-14', '2015-03-27', '2016-11-17', '2015-11-28', '2017-11-22', '2015-10-25', '2014-11-04', '2014-11-15', '2015-08-10', '2016-03-16', '2016-08-24', '2018-02-10', '2016-04-12', '2018-12-25', '2016-09-08', '2017-11-19', '2016-06-04', '2016-07-08', '2016-06-12', '2017-01-06', '2015-01-06', '2017-06-27', '2016-07-14', '2018-05-12', '2018-04-11', '2016-11-23', '2015-10-22', '2018-07-10', '2017-08-27', '2017-10-27', '2016-04-10', '2015-08-24', '2017-08-08', '2015-06-02', '2016-02-07', '2015-03-17', '2016-07-19', '2016-04-26', '2016-03-02', '2015-08-30', '2019-03-20', '2017-10-16', '2017-06-04', '2017-01-11', '2018-02-14', '2017-01-08', '2017-09-26', '2015-02-16', '2017-11-23', '2018-06-12', '2017-07-23', '2015-08-22', '2015-02-04', '2017-09-17', '2016-04-14', '2015-08-09', '2017-10-17', '2018-03-14', '2016-02-10', '2017-06-02', '2018-10-16', '2016-02-18', '2015-09-09', '2015-02-05', '2016-09-02', '2018-04-13', '2016-12-25', '2018-07-11', '2017-01-10', '2016-10-19', '2015-01-10', '2017-06-25', '2016-04-13', '2016-07-24', '2016-02-04', '2015-03-22', '2016-07-20', '2015-07-08', '2016-12-21', '2015-09-18', '2017-07-22', '2017-06-08', '2017-06-16', '2018-07-02', '2017-07-12', '2016-05-08', '2016-06-14', '2017-10-25', '2018-11-24', '2015-04-01', '2016-02-01', '2017-06-17', '2017-05-10', '2015-02-20', '2017-01-17', '2018-01-14', '2018-06-14', '2015-02-23', '2015-01-18', '2018-12-18', '2015-01-21', '2015-11-11', '2019-03-03', '2016-02-16', '2015-03-05', '2016-10-23', '2017-05-17', '2016-07-17', '2018-02-17', '2018-02-26', '2015-08-27', '2018-05-20', '2015-02-28', '2015-05-16', '2016-06-08', '2018-04-12', '2015-03-06', '2015-07-09', '2018-12-13', '2015-03-10', '2016-09-03', '2016-09-30', '2015-03-14', '2018-03-08', '2015-04-24', '2016-10-21', '2016-12-15', '2016-08-07', '2015-03-21', '2017-02-21', '2015-10-03', '2017-04-05', '2017-03-25', '2015-04-09', '2018-01-20', '2016-08-01', '2016-02-25', '2015-04-27', '2015-11-09', '2015-04-08', '2018-05-23', '2017-09-28', '2015-04-12', '2017-01-23', '2018-10-02', '2017-12-22', '2017-06-13', '2017-07-15', '2016-01-20', '2017-03-01', '2017-10-12', '2018-03-19', '2018-02-19', '2015-09-02', '2017-08-16', '2019-04-16', '2015-12-21', '2018-01-27', '2015-12-05', '2015-05-22', '2015-05-13', '2015-06-11', '2017-09-08', '2018-04-18', '2016-01-31', '2016-07-21', '2018-11-08', '2015-06-20', '2015-07-02', '2017-01-14', '2015-08-26', '2015-12-16', '2015-05-06', '2019-02-25', '2019-03-26', '2016-04-03', '2017-05-27', '2015-08-14', '2015-06-29', '2015-06-27', '2018-06-17', '2017-01-19', '2016-05-13', '2017-04-10', '2017-07-14', '2015-05-29', '2015-05-18', '2016-06-18', '2015-07-05', '2016-08-10', '2018-01-18', '2017-04-06', '2016-03-28', '2015-07-30', '2017-02-28', '2015-06-13', '2015-06-16', '2015-07-18', '2018-04-16', '2017-06-15', '2019-02-10', '2017-08-04', '2018-03-04', '2017-09-18', '2016-11-16', '2016-12-10', '2018-06-16', '2016-06-03', '2017-05-16', '2016-11-25', '2018-09-22', '2016-12-29', '2018-02-16', '2019-01-16', '2017-01-28', '2015-07-21', '2018-04-20', '2018-05-07', '2015-07-14', '2017-05-01', '2015-06-23', '2017-07-17', '2016-01-29', '2015-08-13', '2016-04-25', '2015-11-18', '2016-08-09', '2018-10-30', '2016-04-18', '2016-11-20', '2016-10-29', '2016-12-23', '2017-11-26', '2018-06-22', '2017-03-20', '2016-02-13', '2016-12-14', '2018-05-10', '2016-11-19', '2015-07-24', '2018-09-06', '2018-02-24', '2017-10-10', '2017-06-21', '2017-03-16', '2016-12-20', '2015-11-29', '2017-04-29', '2018-04-04', '2015-07-12', '2018-01-30', '2015-10-23', '2016-02-02', '2017-06-12', '2018-06-06', '2015-12-18', '2016-12-03', '2017-02-11', '2016-01-04', '2017-04-11', '2015-09-03', '2016-07-10', '2016-04-27', '2016-07-23', '2018-03-06', '2018-06-03', '2017-10-02', '2019-03-21', '2016-03-31', '2016-10-07', '2016-04-16', '2017-12-24', '2016-09-14', '2016-03-12', '2018-05-22', '2017-07-11', '2017-01-20', '2016-07-22', '2018-03-11', '2018-03-01', '2017-06-10', '2016-06-28', '2018-02-25', '2016-07-27', '2018-06-09', '2017-07-26', '2017-05-19', '2016-01-14', '2017-04-19', '2019-01-11', '2015-11-26', '2016-03-04', '2017-02-14', '2017-03-19', '2016-06-09', '2018-01-11', '2015-10-10', '2015-12-10', '2017-02-24', '2016-05-05', '2018-08-17', '2016-03-07', '2018-01-21', '2016-03-10', '2018-11-22', '2017-02-22', '2017-09-27', '2016-03-18', '2017-07-02', '2015-11-22', '2018-11-17', '2017-01-27', '2017-03-06', '2016-01-18', '2019-02-21', '2015-11-08', '2017-06-14', '2016-01-13', '2015-11-20', '2016-11-24', '2016-03-01', '2016-01-23', '2016-03-06', '2019-02-05', '2017-02-16', '2018-05-03', '2017-04-08', '2017-03-12', '2017-07-07', '2016-02-08', '2015-11-23', '2017-12-09', '2016-11-03', '2016-03-17', '2018-04-01', '2016-01-10', '2017-05-02', '2017-10-13', '2017-02-26', '2017-07-20', '2018-04-26', '2017-07-18', '2016-02-03', '2019-03-07', '2017-03-07', '2016-03-05', '2017-04-04', '2017-07-08', '2016-01-26', '2015-12-26', '2017-04-24', '2017-10-07', '2017-05-14', '2017-01-22', '2017-09-09', '2015-12-15', '2015-12-24', '2018-04-03', '2016-01-19', '2017-05-05', '2017-06-05', '2018-04-28', '2016-06-25', '2016-02-19', '2018-06-07', '2017-11-17', '2018-01-16', '2017-11-05', '2016-05-20', '2017-12-16', '2017-07-10', '2016-03-11', '2016-11-09', '2017-04-03', '2016-11-04', '2017-07-05', '2018-03-12', '2016-01-24', '2017-12-05', '2018-02-04', '2017-03-11', '2016-03-03', '2017-02-05', '2017-11-01', '2018-09-20', '2017-07-13', '2019-02-17', '2018-04-17', '2017-04-09', '2016-02-26', '2017-02-12', '2017-10-19', '2016-08-12', '2017-11-10', '2017-11-28', '2018-03-05', '2016-03-21', '2017-12-13', '2016-12-17', '2016-04-06', '2016-06-16', '2017-01-13', '2018-03-22', '2016-12-09', '2017-10-04', '2017-10-11', '2016-12-02', '2017-03-30', '2017-02-08', '2018-01-17', '2017-04-25', '2017-03-24', '2017-06-07', '2016-11-12', '2018-01-10', '2018-05-09', '2017-02-13', '2017-12-19', '2018-02-03', '2016-12-18', '2017-11-15', '2018-03-18', '2018-02-02', '2018-02-23', '2018-06-13', '2017-01-24', '2018-03-25', '2017-09-01', '2017-02-18', '2018-03-09', '2017-10-21', '2017-08-06', '2016-11-02', '2018-02-15', '2017-03-22', '2017-03-21', '2018-03-26', '2017-11-27', '2017-01-30', '2017-09-13', '2018-01-19', '2018-01-09', '2018-03-13', '2018-02-06', '2016-12-07', '2019-02-27', '2017-02-25', '2018-01-24', '2017-09-12', '2017-01-12', '2019-02-13', '2017-03-27', '2017-11-08', '2017-02-23', '2017-03-03', '2017-01-18', '2017-08-23', '2018-03-21', '2017-11-07', '2017-04-02', '2017-03-15', '2018-02-20', '2017-02-09', '2017-03-14', '2018-04-09', '2017-04-21', '2018-03-17', '2018-04-06', '2019-02-06', '2018-02-21', '2017-11-29', '2017-11-09', '2018-02-07', '2017-11-03', '2018-01-28', '2017-10-26', '2018-01-22', '2017-11-16', '2018-02-13', '2018-02-05', '2018-02-09', '2017-12-23', '2018-01-29', '2018-03-29']\n"
          ]
        }
      ]
    },
    {
      "cell_type": "code",
      "source": [
        "# filling missing values of last_review variable with mode\n",
        "df.fillna(df['last_review'].mode()[0], inplace = True)"
      ],
      "metadata": {
        "id": "dYbK_tho69TQ"
      },
      "execution_count": 51,
      "outputs": []
    },
    {
      "cell_type": "code",
      "source": [
        "df.isnull().sum()"
      ],
      "metadata": {
        "colab": {
          "base_uri": "https://localhost:8080/"
        },
        "id": "4oEyg_G4iVi3",
        "outputId": "d25cb04f-5bf3-4f16-fd92-76049f64f7c4"
      },
      "execution_count": 52,
      "outputs": [
        {
          "output_type": "execute_result",
          "data": {
            "text/plain": [
              "id                                0\n",
              "name                              0\n",
              "host_id                           0\n",
              "host_name                         0\n",
              "neighbourhood_group               0\n",
              "neighbourhood                     0\n",
              "latitude                          0\n",
              "longitude                         0\n",
              "room_type                         0\n",
              "price                             0\n",
              "minimum_nights                    0\n",
              "number_of_reviews                 0\n",
              "last_review                       0\n",
              "reviews_per_month                 0\n",
              "calculated_host_listings_count    0\n",
              "availability_365                  0\n",
              "dtype: int64"
            ]
          },
          "metadata": {},
          "execution_count": 52
        }
      ]
    },
    {
      "cell_type": "code",
      "source": [
        "# num_col = ['name' , 'host_name' ,'last_review' , 'reviews_per_month']\n",
        "# for col in num_col:\n",
        "#   df[col] = pd.to_numeric(df[col] , errors='coerce')\n",
        "#   df[col].fillna(df[col].mean() , inplace = True)\n",
        "# df.head()"
      ],
      "metadata": {
        "id": "fLCTqC9th9n6"
      },
      "execution_count": null,
      "outputs": []
    },
    {
      "cell_type": "code",
      "source": [
        "df.head()"
      ],
      "metadata": {
        "id": "n30zBZ8pgyso",
        "colab": {
          "base_uri": "https://localhost:8080/",
          "height": 461
        },
        "outputId": "ef1547bc-56b5-48ac-a467-817b13c1c670"
      },
      "execution_count": null,
      "outputs": [
        {
          "output_type": "execute_result",
          "data": {
            "text/plain": [
              "     id                                              name  host_id  \\\n",
              "0  2539                Clean & quiet apt home by the park     2787   \n",
              "1  2595                             Skylit Midtown Castle     2845   \n",
              "2  3647               THE VILLAGE OF HARLEM....NEW YORK !     4632   \n",
              "3  3831                   Cozy Entire Floor of Brownstone     4869   \n",
              "4  5022  Entire Apt: Spacious Studio/Loft by central park     7192   \n",
              "\n",
              "     host_name neighbourhood_group neighbourhood  latitude  longitude  \\\n",
              "0         John            Brooklyn    Kensington  40.64749  -73.97237   \n",
              "1     Jennifer           Manhattan       Midtown  40.75362  -73.98377   \n",
              "2    Elisabeth           Manhattan        Harlem  40.80902  -73.94190   \n",
              "3  LisaRoxanne            Brooklyn  Clinton Hill  40.68514  -73.95976   \n",
              "4        Laura           Manhattan   East Harlem  40.79851  -73.94399   \n",
              "\n",
              "         room_type  price  minimum_nights  number_of_reviews last_review  \\\n",
              "0     Private room    149               1                  9  2018-10-19   \n",
              "1  Entire home/apt    225               1                 45  2019-05-21   \n",
              "2     Private room    150               3                  0  2019-06-23   \n",
              "3  Entire home/apt     89               1                270  2019-07-05   \n",
              "4  Entire home/apt     80              10                  9  2018-11-19   \n",
              "\n",
              "  reviews_per_month  calculated_host_listings_count  availability_365  \n",
              "0              0.21                               6               365  \n",
              "1              0.38                               2               355  \n",
              "2        2019-06-23                               1               365  \n",
              "3              4.64                               1               194  \n",
              "4               0.1                               1                 0  "
            ],
            "text/html": [
              "\n",
              "  <div id=\"df-916b3e43-6436-443c-870e-fbd07207d4cd\">\n",
              "    <div class=\"colab-df-container\">\n",
              "      <div>\n",
              "<style scoped>\n",
              "    .dataframe tbody tr th:only-of-type {\n",
              "        vertical-align: middle;\n",
              "    }\n",
              "\n",
              "    .dataframe tbody tr th {\n",
              "        vertical-align: top;\n",
              "    }\n",
              "\n",
              "    .dataframe thead th {\n",
              "        text-align: right;\n",
              "    }\n",
              "</style>\n",
              "<table border=\"1\" class=\"dataframe\">\n",
              "  <thead>\n",
              "    <tr style=\"text-align: right;\">\n",
              "      <th></th>\n",
              "      <th>id</th>\n",
              "      <th>name</th>\n",
              "      <th>host_id</th>\n",
              "      <th>host_name</th>\n",
              "      <th>neighbourhood_group</th>\n",
              "      <th>neighbourhood</th>\n",
              "      <th>latitude</th>\n",
              "      <th>longitude</th>\n",
              "      <th>room_type</th>\n",
              "      <th>price</th>\n",
              "      <th>minimum_nights</th>\n",
              "      <th>number_of_reviews</th>\n",
              "      <th>last_review</th>\n",
              "      <th>reviews_per_month</th>\n",
              "      <th>calculated_host_listings_count</th>\n",
              "      <th>availability_365</th>\n",
              "    </tr>\n",
              "  </thead>\n",
              "  <tbody>\n",
              "    <tr>\n",
              "      <th>0</th>\n",
              "      <td>2539</td>\n",
              "      <td>Clean &amp; quiet apt home by the park</td>\n",
              "      <td>2787</td>\n",
              "      <td>John</td>\n",
              "      <td>Brooklyn</td>\n",
              "      <td>Kensington</td>\n",
              "      <td>40.64749</td>\n",
              "      <td>-73.97237</td>\n",
              "      <td>Private room</td>\n",
              "      <td>149</td>\n",
              "      <td>1</td>\n",
              "      <td>9</td>\n",
              "      <td>2018-10-19</td>\n",
              "      <td>0.21</td>\n",
              "      <td>6</td>\n",
              "      <td>365</td>\n",
              "    </tr>\n",
              "    <tr>\n",
              "      <th>1</th>\n",
              "      <td>2595</td>\n",
              "      <td>Skylit Midtown Castle</td>\n",
              "      <td>2845</td>\n",
              "      <td>Jennifer</td>\n",
              "      <td>Manhattan</td>\n",
              "      <td>Midtown</td>\n",
              "      <td>40.75362</td>\n",
              "      <td>-73.98377</td>\n",
              "      <td>Entire home/apt</td>\n",
              "      <td>225</td>\n",
              "      <td>1</td>\n",
              "      <td>45</td>\n",
              "      <td>2019-05-21</td>\n",
              "      <td>0.38</td>\n",
              "      <td>2</td>\n",
              "      <td>355</td>\n",
              "    </tr>\n",
              "    <tr>\n",
              "      <th>2</th>\n",
              "      <td>3647</td>\n",
              "      <td>THE VILLAGE OF HARLEM....NEW YORK !</td>\n",
              "      <td>4632</td>\n",
              "      <td>Elisabeth</td>\n",
              "      <td>Manhattan</td>\n",
              "      <td>Harlem</td>\n",
              "      <td>40.80902</td>\n",
              "      <td>-73.94190</td>\n",
              "      <td>Private room</td>\n",
              "      <td>150</td>\n",
              "      <td>3</td>\n",
              "      <td>0</td>\n",
              "      <td>2019-06-23</td>\n",
              "      <td>2019-06-23</td>\n",
              "      <td>1</td>\n",
              "      <td>365</td>\n",
              "    </tr>\n",
              "    <tr>\n",
              "      <th>3</th>\n",
              "      <td>3831</td>\n",
              "      <td>Cozy Entire Floor of Brownstone</td>\n",
              "      <td>4869</td>\n",
              "      <td>LisaRoxanne</td>\n",
              "      <td>Brooklyn</td>\n",
              "      <td>Clinton Hill</td>\n",
              "      <td>40.68514</td>\n",
              "      <td>-73.95976</td>\n",
              "      <td>Entire home/apt</td>\n",
              "      <td>89</td>\n",
              "      <td>1</td>\n",
              "      <td>270</td>\n",
              "      <td>2019-07-05</td>\n",
              "      <td>4.64</td>\n",
              "      <td>1</td>\n",
              "      <td>194</td>\n",
              "    </tr>\n",
              "    <tr>\n",
              "      <th>4</th>\n",
              "      <td>5022</td>\n",
              "      <td>Entire Apt: Spacious Studio/Loft by central park</td>\n",
              "      <td>7192</td>\n",
              "      <td>Laura</td>\n",
              "      <td>Manhattan</td>\n",
              "      <td>East Harlem</td>\n",
              "      <td>40.79851</td>\n",
              "      <td>-73.94399</td>\n",
              "      <td>Entire home/apt</td>\n",
              "      <td>80</td>\n",
              "      <td>10</td>\n",
              "      <td>9</td>\n",
              "      <td>2018-11-19</td>\n",
              "      <td>0.1</td>\n",
              "      <td>1</td>\n",
              "      <td>0</td>\n",
              "    </tr>\n",
              "  </tbody>\n",
              "</table>\n",
              "</div>\n",
              "      <button class=\"colab-df-convert\" onclick=\"convertToInteractive('df-916b3e43-6436-443c-870e-fbd07207d4cd')\"\n",
              "              title=\"Convert this dataframe to an interactive table.\"\n",
              "              style=\"display:none;\">\n",
              "        \n",
              "  <svg xmlns=\"http://www.w3.org/2000/svg\" height=\"24px\"viewBox=\"0 0 24 24\"\n",
              "       width=\"24px\">\n",
              "    <path d=\"M0 0h24v24H0V0z\" fill=\"none\"/>\n",
              "    <path d=\"M18.56 5.44l.94 2.06.94-2.06 2.06-.94-2.06-.94-.94-2.06-.94 2.06-2.06.94zm-11 1L8.5 8.5l.94-2.06 2.06-.94-2.06-.94L8.5 2.5l-.94 2.06-2.06.94zm10 10l.94 2.06.94-2.06 2.06-.94-2.06-.94-.94-2.06-.94 2.06-2.06.94z\"/><path d=\"M17.41 7.96l-1.37-1.37c-.4-.4-.92-.59-1.43-.59-.52 0-1.04.2-1.43.59L10.3 9.45l-7.72 7.72c-.78.78-.78 2.05 0 2.83L4 21.41c.39.39.9.59 1.41.59.51 0 1.02-.2 1.41-.59l7.78-7.78 2.81-2.81c.8-.78.8-2.07 0-2.86zM5.41 20L4 18.59l7.72-7.72 1.47 1.35L5.41 20z\"/>\n",
              "  </svg>\n",
              "      </button>\n",
              "      \n",
              "  <style>\n",
              "    .colab-df-container {\n",
              "      display:flex;\n",
              "      flex-wrap:wrap;\n",
              "      gap: 12px;\n",
              "    }\n",
              "\n",
              "    .colab-df-convert {\n",
              "      background-color: #E8F0FE;\n",
              "      border: none;\n",
              "      border-radius: 50%;\n",
              "      cursor: pointer;\n",
              "      display: none;\n",
              "      fill: #1967D2;\n",
              "      height: 32px;\n",
              "      padding: 0 0 0 0;\n",
              "      width: 32px;\n",
              "    }\n",
              "\n",
              "    .colab-df-convert:hover {\n",
              "      background-color: #E2EBFA;\n",
              "      box-shadow: 0px 1px 2px rgba(60, 64, 67, 0.3), 0px 1px 3px 1px rgba(60, 64, 67, 0.15);\n",
              "      fill: #174EA6;\n",
              "    }\n",
              "\n",
              "    [theme=dark] .colab-df-convert {\n",
              "      background-color: #3B4455;\n",
              "      fill: #D2E3FC;\n",
              "    }\n",
              "\n",
              "    [theme=dark] .colab-df-convert:hover {\n",
              "      background-color: #434B5C;\n",
              "      box-shadow: 0px 1px 3px 1px rgba(0, 0, 0, 0.15);\n",
              "      filter: drop-shadow(0px 1px 2px rgba(0, 0, 0, 0.3));\n",
              "      fill: #FFFFFF;\n",
              "    }\n",
              "  </style>\n",
              "\n",
              "      <script>\n",
              "        const buttonEl =\n",
              "          document.querySelector('#df-916b3e43-6436-443c-870e-fbd07207d4cd button.colab-df-convert');\n",
              "        buttonEl.style.display =\n",
              "          google.colab.kernel.accessAllowed ? 'block' : 'none';\n",
              "\n",
              "        async function convertToInteractive(key) {\n",
              "          const element = document.querySelector('#df-916b3e43-6436-443c-870e-fbd07207d4cd');\n",
              "          const dataTable =\n",
              "            await google.colab.kernel.invokeFunction('convertToInteractive',\n",
              "                                                     [key], {});\n",
              "          if (!dataTable) return;\n",
              "\n",
              "          const docLinkHtml = 'Like what you see? Visit the ' +\n",
              "            '<a target=\"_blank\" href=https://colab.research.google.com/notebooks/data_table.ipynb>data table notebook</a>'\n",
              "            + ' to learn more about interactive tables.';\n",
              "          element.innerHTML = '';\n",
              "          dataTable['output_type'] = 'display_data';\n",
              "          await google.colab.output.renderOutput(dataTable, element);\n",
              "          const docLink = document.createElement('div');\n",
              "          docLink.innerHTML = docLinkHtml;\n",
              "          element.appendChild(docLink);\n",
              "        }\n",
              "      </script>\n",
              "    </div>\n",
              "  </div>\n",
              "  "
            ]
          },
          "metadata": {},
          "execution_count": 33
        }
      ]
    },
    {
      "cell_type": "code",
      "source": [
        "print(list(df['reviews_per_month'].unique()))"
      ],
      "metadata": {
        "colab": {
          "base_uri": "https://localhost:8080/"
        },
        "id": "uI7JbpIVhOvc",
        "outputId": "113d5cdc-e910-42be-d98d-d954d4bb53d9"
      },
      "execution_count": 53,
      "outputs": [
        {
          "output_type": "stream",
          "name": "stdout",
          "text": [
            "[0.21, 0.38, '2019-06-23', 4.64, 0.1, 0.59, 0.4, 3.47, 0.99, 1.33, 0.43, 1.5, 1.34, 0.91, 0.22, 1.2, 1.72, 2.12, 4.44, 0.07, 1.09, 0.37, 0.61, 0.73, 1.37, 0.49, 1.11, 0.24, 2.04, 1.42, 1.65, 2.37, 0.66, 1.41, 1.96, 1.81, 2.08, 0.39, 0.23, 0.69, 0.84, 2.25, 0.52, 1.16, 1.01, 0.63, 0.7, 2.82, 0.9, 0.17, 2.49, 1.19, 0.3, 0.12, 0.57, 0.16, 4.72, 1.4, 1.26, 1.64, 1.6, 0.92, 0.2, 1.28, 0.54, 0.62, 0.15, 0.53, 1.73, 0.05, 1.54, 0.28, 3.4, 1.57, 1.05, 0.71, 0.11, 0.27, 1.23, 0.87, 2.09, 0.6, 0.55, 3.02, 0.79, 1.46, 1.61, 3.0, 0.13, 4.22, 0.06, 3.01, 3.2, 2.03, 0.08, 0.19, 0.33, 0.58, 2.35, 1.86, 0.29, 0.45, 0.25, 0.02, 3.89, 0.77, 0.03, 0.04, 0.01, 2.19, 0.74, 0.09, 0.32, 1.24, 2.6, 0.26, 2.86, 2.17, 1.66, 0.94, 1.78, 0.78, 1.06, 2.0, 0.8, 0.75, 0.36, 1.79, 1.92, 1.18, 0.5, 1.17, 0.48, 1.85, 1.04, 1.43, 2.69, 3.52, 0.31, 3.44, 1.0, 1.45, 3.04, 1.22, 1.13, 0.35, 0.65, 1.84, 0.96, 2.1, 4.58, 0.67, 0.18, 1.83, 1.82, 1.3, 0.34, 2.21, 1.8, 2.3, 2.13, 1.44, 1.71, 1.77, 3.19, 4.5, 0.46, 2.39, 1.38, 0.41, 0.14, 3.55, 2.27, 1.27, 1.31, 1.87, 0.56, 0.93, 0.68, 1.25, 1.88, 0.42, 0.44, 2.01, 2.81, 3.97, 0.76, 0.51, 0.85, 2.4, 1.07, 3.88, 2.22, 1.51, 2.26, 1.21, 3.74, 1.76, 1.68, 3.83, 2.53, 2.51, 3.23, 4.1, 1.55, 2.41, 0.72, 0.86, 2.18, 4.34, 2.14, 4.0, 1.08, 2.33, 2.31, 2.92, 0.89, 1.94, 6.7, 0.47, 4.6, 0.95, 2.84, 1.97, 2.02, 6.62, 0.97, 1.29, 3.9, 2.85, 1.62, 7.14, 2.7, 2.9, 1.63, 2.47, 0.64, 2.95, 1.15, 3.24, 1.52, 0.88, 1.36, 1.59, 1.32, 2.59, 2.45, 1.89, 0.98, 2.65, 2.5, 2.83, 3.45, 1.02, 2.74, 1.75, 2.32, 2.38, 2.52, 1.1, 0.82, 1.12, 1.69, 1.39, 2.44, 2.29, 0.81, 2.42, 3.6, 3.37, 2.11, 2.99, 1.47, 1.49, 3.18, 3.09, 2.75, 1.53, 1.14, 3.3, 1.35, 3.15, 2.06, 2.15, 5.27, 0.83, 5.12, 1.56, 3.78, 2.63, 2.54, 3.51, 5.26, 3.85, 2.2, 3.17, 1.03, 3.7, 5.53, 2.55, 1.91, 4.14, 1.95, 3.93, 1.9, 1.99, 3.05, 3.16, 3.53, 4.24, 2.57, 1.98, 3.92, 3.59, 3.56, 2.89, 4.9, 3.96, 4.55, 2.07, 1.93, 1.67, 1.7, 4.01, 10.0, 2.96, 3.35, 2.68, 3.34, 4.16, 2.62, 4.33, 2.79, 3.07, 4.18, 2.34, 3.58, 4.46, 6.95, 2.91, 2.97, 2.36, 3.69, 4.03, 4.09, 7.57, 7.72, 7.75, 5.39, 3.08, 4.3, 5.16, 3.68, 2.46, 5.89, 1.74, 3.14, 4.79, 2.72, 3.22, 3.27, 3.12, 4.73, 4.11, 2.61, 3.8, 2.66, 3.66, 3.87, 2.87, 5.06, 2.67, 3.31, 2.24, 2.23, 4.51, 3.41, 4.67, 5.68, 3.1, 2.78, 5.4, 4.54, 2.64, 2.05, 2.8, 3.28, 4.02, 3.11, 3.32, 4.62, 3.49, 4.43, 3.94, 3.5, 1.58, 3.39, 6.3, 2.77, 4.83, 8.52, 3.63, 4.49, 3.46, 4.71, 3.61, 3.36, 3.82, 3.25, 3.13, 2.98, 3.42, 3.38, 3.29, 4.82, 3.03, 4.32, 3.33, 4.29, 4.91, 4.31, 1.48, 2.93, 2.71, 2.43, 3.62, 2.28, 4.27, 5.2, 4.2, 5.54, 4.05, 3.67, 4.07, 5.81, 3.26, 4.84, 4.57, 3.06, 3.72, 4.36, 4.69, 3.54, 2.88, 4.21, 3.95, 2.73, 8.14, 3.48, 3.79, 5.57, 4.12, 5.96, 4.95, 2.48, 6.51, 4.63, 6.23, 5.04, 5.46, 4.37, 5.03, 6.76, 4.99, 5.0, 2.76, 2.58, 4.13, 3.76, 5.02, 3.64, 3.99, 6.79, 6.19, 2.56, 6.22, 3.91, 6.05, 5.6, 6.1, 6.09, 4.66, 2.94, 4.15, 5.9, 6.31, 7.53, 3.81, 3.21, 4.4, 8.21, 4.65, 5.78, 3.43, 5.44, 4.45, 5.66, 13.45, 2.16, 3.86, 6.77, 4.08, 4.39, 4.38, 3.75, 5.51, 4.42, 5.72, 7.71, 5.29, 9.16, 5.17, 5.92, 4.87, 7.97, 4.94, 8.82, 3.71, 4.59, 4.48, 5.28, 3.57, 4.85, 3.65, 4.7, 5.37, 4.26, 9.63, 4.56, 5.41, 5.13, 5.45, 5.09, 8.86, 8.56, 4.19, 4.17, 6.61, 4.78, 5.36, 7.31, 6.37, 6.26, 7.07, 4.98, 11.59, 4.06, 4.35, 4.53, 4.68, 5.42, 5.98, 5.22, 5.61, 4.23, 6.46, 5.65, 5.85, 5.59, 5.94, 5.11, 5.18, 14.58, 4.47, 4.77, 6.57, 4.89, 6.12, 4.8, 5.62, 3.98, 6.25, 5.95, 13.4, 5.49, 10.72, 5.25, 4.04, 5.34, 4.76, 3.77, 5.87, 5.01, 6.08, 5.83, 4.52, 9.26, 5.08, 7.38, 10.19, 6.78, 6.02, 5.07, 5.71, 4.61, 6.38, 4.25, 9.67, 5.97, 3.84, 4.81, 6.68, 6.15, 5.24, 4.74, 4.86, 7.45, 5.15, 5.14, 3.73, 4.88, 6.0, 6.74, 5.79, 9.61, 9.3, 6.36, 11.4, 7.1, 5.3, 5.63, 5.43, 9.24, 4.75, 4.93, 6.07, 9.39, 12.84, 6.91, 5.21, 5.88, 6.13, 4.41, 5.47, 6.35, 6.4, 6.97, 6.71, 6.55, 6.01, 6.64, 6.54, 6.45, 6.9, 7.28, 5.69, 8.18, 9.83, 16.22, 5.75, 10.64, 8.17, 9.82, 5.31, 5.35, 8.33, 8.79, 7.23, 4.96, 13.15, 5.32, 7.18, 14.36, 9.66, 6.17, 6.03, 5.7, 5.23, 13.48, 11.91, 5.19, 8.58, 5.74, 4.28, 10.6, 7.96, 11.72, 6.65, 13.24, 7.0, 8.07, 5.58, 7.12, 6.92, 16.03, 5.05, 7.04, 5.84, 10.34, 5.33, 7.05, 7.84, 7.66, 7.79, 5.99, 5.82, 8.16, 5.91, 5.77, 11.56, 7.64, 5.55, 7.65, 5.73, 5.86, 7.27, 6.59, 13.27, 4.97, 7.76, 6.21, 6.6, 6.58, 5.76, 7.5, 6.18, 6.27, 6.44, 6.87, 8.75, 8.95, 5.48, 7.33, 5.38, 10.39, 7.43, 7.19, 12.99, 8.87, 5.8, 5.5, 19.75, 6.29, 9.41, 12.54, 7.24, 10.28, 10.38, 8.92, 8.24, 10.86, 7.9, 8.57, 10.15, 8.74, 5.67, 5.1, 8.43, 17.82, 6.8, 8.68, 7.39, 7.47, 11.17, 6.94, 16.81, 7.67, 7.87, 7.55, 5.56, 9.53, 8.27, 6.11, 7.98, 8.06, 6.56, 7.03, 6.73, 6.96, 6.42, 8.32, 5.93, 6.34, 7.08, 9.74, 9.13, 6.06, 8.25, 8.38, 9.43, 7.2, 7.77, 7.69, 7.59, 7.13, 4.92, 9.97, 9.47, 6.24, 5.52, 7.94, 8.93, 7.26, 7.32, 11.68, 5.64, 8.69, 7.01, 8.0, 6.28, 7.92, 9.17, 8.64, 6.2, 6.48, 12.05, 7.34, 6.99, 7.7, 6.04, 10.77, 7.61, 10.12, 8.84, 8.29, 9.34, 7.56, 6.5, 7.21, 6.84, 9.36, 7.58, 8.31, 8.02, 8.72, 8.4, 7.42, 15.78, 7.99, 9.58, 8.97, 6.86, 8.62, 6.41, 7.41, 6.72, 13.11, 6.14, 7.25, 6.43, 8.35, 11.03, 7.83, 10.29, 9.09, 6.32, 6.67, 8.99, 9.62, 6.75, 10.67, 7.6, 8.44, 9.12, 8.51, 7.91, 20.94, 6.88, 6.83, 9.15, 7.11, 9.5, 9.29, 9.64, 10.05, 9.03, 13.3, 15.23, 9.08, 11.38, 7.36, 8.11, 9.33, 15.32, 7.89, 8.47, 8.03, 9.56, 8.5, 10.36, 9.93, 9.1, 9.23, 6.39, 8.45, 8.48, 9.68, 6.49, 7.17, 13.13, 9.85, 58.5, 27.95, 14.62, 6.69, 8.37, 6.63, 7.88, 7.85, 7.3, 7.02, 7.22, 7.29, 10.37, 9.21, 6.47, 12.12, 6.53, 11.21, 6.52, 9.07, 8.94, 12.0, 6.82, 8.73, 9.4, 10.17, 11.25, 7.16, 13.33, 10.56, 7.06, 9.0, 10.31, 14.0, 7.63, 12.11, 11.84, 11.14, 11.16, 9.78, 13.42, 10.23, 7.86, 11.71, 9.73, 10.91, 10.54]\n"
          ]
        }
      ]
    },
    {
      "cell_type": "code",
      "source": [
        "plt.figure(figsize = (10 , 10))\n",
        "sns.heatmap(df.corr(),cbar=True, annot=True, cmap='Blues')"
      ],
      "metadata": {
        "id": "SO2vl-pghbqy"
      },
      "execution_count": null,
      "outputs": []
    }
  ]
}